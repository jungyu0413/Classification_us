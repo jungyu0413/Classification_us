{
 "cells": [
  {
   "cell_type": "markdown",
   "metadata": {},
   "source": [
    "## Dicom to Image"
   ]
  },
  {
   "cell_type": "code",
   "execution_count": 1,
   "metadata": {},
   "outputs": [],
   "source": [
    "import cv2\n",
    "from PIL import Image\n",
    "import numpy as np\n",
    "import os\n",
    "import pandas as pd\n",
    "import pydicom\n",
    "import matplotlib.pyplot as plt"
   ]
  },
  {
   "cell_type": "markdown",
   "metadata": {},
   "source": [
    "* csv : csv에서 Implant-Manufacturer을 Label로 사용"
   ]
  },
  {
   "cell_type": "code",
   "execution_count": 2,
   "metadata": {},
   "outputs": [],
   "source": [
    "df = pd.read_csv('/workspace/label/20220918_nopwd.csv', encoding='cp949')"
   ]
  },
  {
   "cell_type": "code",
   "execution_count": 3,
   "metadata": {},
   "outputs": [
    {
     "data": {
      "text/plain": [
       "<bound method DataFrame.info of          데이터명 Case_No.          ID  Sex  Age Insertion  date Removal date  \\\n",
       "0     데이터 표기값   0001 ~         NaN  NaN  NaN             NaN          NaN   \n",
       "1         NaN        1  28170976.0    F   34        2000.6.1    2007.3.13   \n",
       "2         NaN        1  28170976.0    F   34        2000.6.1    2007.3.13   \n",
       "3         NaN        1  28170976.0    F   34        2000.6.1    2007.3.13   \n",
       "4         NaN        2  24915920.0    F   50        2007.8.8          NaN   \n",
       "...       ...      ...         ...  ...  ...             ...          ...   \n",
       "1973      NaN      698  49657090.0    F  36세        2018.2.6          NaN   \n",
       "1974      NaN      699  49830059.0    F  35세        2018.2.6          NaN   \n",
       "1975      NaN      699  49830059.0    F  35세        2018.2.6          NaN   \n",
       "1976      NaN      700  24731494.0    F  42세        2018.2.8          NaN   \n",
       "1977      NaN      700  24731494.0    F  42세        2018.2.8          NaN   \n",
       "\n",
       "                                                Implant  \\\n",
       "0     Manufacturer\\n(Mentor: 0 \\nBellaGel: 1 \\nAller...   \n",
       "1                                                     3   \n",
       "2                                                     3   \n",
       "3                                                     3   \n",
       "4                                                     0   \n",
       "...                                                 ...   \n",
       "1973                                                  0   \n",
       "1974                                                  0   \n",
       "1975                                                  0   \n",
       "1976                                                  2   \n",
       "1977                                                  2   \n",
       "\n",
       "                                             Unnamed: 8  \\\n",
       "0     Texture\\n(Smooth: 0\\nMicrotextured: 1\\nTexture...   \n",
       "1                                                     0   \n",
       "2                                                     0   \n",
       "3                                                     0   \n",
       "4                                                     0   \n",
       "...                                                 ...   \n",
       "1973                                                  2   \n",
       "1974                                                  2   \n",
       "1975                                                  2   \n",
       "1976                                                  2   \n",
       "1977                                                  2   \n",
       "\n",
       "                             Unnamed: 9  \\\n",
       "0     Rupture\\n(Intact: 0\\nRuptured: 1)   \n",
       "1                                     0   \n",
       "2                                     0   \n",
       "3                                     1   \n",
       "4                                     0   \n",
       "...                                 ...   \n",
       "1973                                  0   \n",
       "1974                                  0   \n",
       "1975                                  0   \n",
       "1976                                  0   \n",
       "1977                                  0   \n",
       "\n",
       "                                                    H/W  sono date   Period  \\\n",
       "0     Sonon: 0\\nCanon: 1\\nGE:2\\nAccuvix:3\\nHitachi:4...        NaN  (단위: 년)   \n",
       "1                                                     2        1.0        1   \n",
       "2                                                     2        3.0        3   \n",
       "3                                                     2        7.0        7   \n",
       "4                                                     3        1.0        1   \n",
       "...                                                 ...        ...      ...   \n",
       "1973                                                  1     2020.0       2    \n",
       "1974                                                  6     2020.0       2    \n",
       "1975                                                  1     2022.0       4    \n",
       "1976                                                  6     2020.0       2    \n",
       "1977                                                  4     2022.0       4    \n",
       "\n",
       "      영상갯수                   Exclusion여부  \n",
       "0      NaN  Inclusion(=0)\\nExclusion(=1)  \n",
       "1      4.0                             0  \n",
       "2      1.0                             0  \n",
       "3      5.0                             0  \n",
       "4      6.0                             0  \n",
       "...    ...                           ...  \n",
       "1973   3.0                           NaN  \n",
       "1974   3.0                             1  \n",
       "1975   4.0                           NaN  \n",
       "1976   1.0                           NaN  \n",
       "1977   3.0                           NaN  \n",
       "\n",
       "[1978 rows x 15 columns]>"
      ]
     },
     "execution_count": 3,
     "metadata": {},
     "output_type": "execute_result"
    }
   ],
   "source": [
    "df.info"
   ]
  },
  {
   "cell_type": "code",
   "execution_count": 4,
   "metadata": {},
   "outputs": [
    {
     "data": {
      "text/plain": [
       "701"
      ]
     },
     "execution_count": 4,
     "metadata": {},
     "output_type": "execute_result"
    }
   ],
   "source": [
    "len(set(df['ID']))"
   ]
  },
  {
   "cell_type": "code",
   "execution_count": 5,
   "metadata": {},
   "outputs": [
    {
     "data": {
      "text/plain": [
       "1978"
      ]
     },
     "execution_count": 5,
     "metadata": {},
     "output_type": "execute_result"
    }
   ],
   "source": [
    "len(df)"
   ]
  },
  {
   "cell_type": "markdown",
   "metadata": {},
   "source": [
    "→ 701명 1978장의 데이터"
   ]
  },
  {
   "cell_type": "code",
   "execution_count": 6,
   "metadata": {},
   "outputs": [
    {
     "data": {
      "text/html": [
       "<div>\n",
       "<style scoped>\n",
       "    .dataframe tbody tr th:only-of-type {\n",
       "        vertical-align: middle;\n",
       "    }\n",
       "\n",
       "    .dataframe tbody tr th {\n",
       "        vertical-align: top;\n",
       "    }\n",
       "\n",
       "    .dataframe thead th {\n",
       "        text-align: right;\n",
       "    }\n",
       "</style>\n",
       "<table border=\"1\" class=\"dataframe\">\n",
       "  <thead>\n",
       "    <tr style=\"text-align: right;\">\n",
       "      <th></th>\n",
       "      <th>데이터명</th>\n",
       "      <th>Case_No.</th>\n",
       "      <th>ID</th>\n",
       "      <th>Sex</th>\n",
       "      <th>Age</th>\n",
       "      <th>Insertion  date</th>\n",
       "      <th>Removal date</th>\n",
       "      <th>Implant</th>\n",
       "      <th>Unnamed: 8</th>\n",
       "      <th>Unnamed: 9</th>\n",
       "      <th>H/W</th>\n",
       "      <th>sono date</th>\n",
       "      <th>Period</th>\n",
       "      <th>영상갯수</th>\n",
       "      <th>Exclusion여부</th>\n",
       "    </tr>\n",
       "  </thead>\n",
       "  <tbody>\n",
       "    <tr>\n",
       "      <th>0</th>\n",
       "      <td>데이터 표기값</td>\n",
       "      <td>0001 ~</td>\n",
       "      <td>NaN</td>\n",
       "      <td>NaN</td>\n",
       "      <td>NaN</td>\n",
       "      <td>NaN</td>\n",
       "      <td>NaN</td>\n",
       "      <td>Manufacturer\\n(Mentor: 0 \\nBellaGel: 1 \\nAller...</td>\n",
       "      <td>Texture\\n(Smooth: 0\\nMicrotextured: 1\\nTexture...</td>\n",
       "      <td>Rupture\\n(Intact: 0\\nRuptured: 1)</td>\n",
       "      <td>Sonon: 0\\nCanon: 1\\nGE:2\\nAccuvix:3\\nHitachi:4...</td>\n",
       "      <td>NaN</td>\n",
       "      <td>(단위: 년)</td>\n",
       "      <td>NaN</td>\n",
       "      <td>Inclusion(=0)\\nExclusion(=1)</td>\n",
       "    </tr>\n",
       "    <tr>\n",
       "      <th>1</th>\n",
       "      <td>NaN</td>\n",
       "      <td>1</td>\n",
       "      <td>28170976.0</td>\n",
       "      <td>F</td>\n",
       "      <td>34</td>\n",
       "      <td>2000.6.1</td>\n",
       "      <td>2007.3.13</td>\n",
       "      <td>3</td>\n",
       "      <td>0</td>\n",
       "      <td>0</td>\n",
       "      <td>2</td>\n",
       "      <td>1.0</td>\n",
       "      <td>1</td>\n",
       "      <td>4.0</td>\n",
       "      <td>0</td>\n",
       "    </tr>\n",
       "    <tr>\n",
       "      <th>2</th>\n",
       "      <td>NaN</td>\n",
       "      <td>1</td>\n",
       "      <td>28170976.0</td>\n",
       "      <td>F</td>\n",
       "      <td>34</td>\n",
       "      <td>2000.6.1</td>\n",
       "      <td>2007.3.13</td>\n",
       "      <td>3</td>\n",
       "      <td>0</td>\n",
       "      <td>0</td>\n",
       "      <td>2</td>\n",
       "      <td>3.0</td>\n",
       "      <td>3</td>\n",
       "      <td>1.0</td>\n",
       "      <td>0</td>\n",
       "    </tr>\n",
       "    <tr>\n",
       "      <th>3</th>\n",
       "      <td>NaN</td>\n",
       "      <td>1</td>\n",
       "      <td>28170976.0</td>\n",
       "      <td>F</td>\n",
       "      <td>34</td>\n",
       "      <td>2000.6.1</td>\n",
       "      <td>2007.3.13</td>\n",
       "      <td>3</td>\n",
       "      <td>0</td>\n",
       "      <td>1</td>\n",
       "      <td>2</td>\n",
       "      <td>7.0</td>\n",
       "      <td>7</td>\n",
       "      <td>5.0</td>\n",
       "      <td>0</td>\n",
       "    </tr>\n",
       "    <tr>\n",
       "      <th>4</th>\n",
       "      <td>NaN</td>\n",
       "      <td>2</td>\n",
       "      <td>24915920.0</td>\n",
       "      <td>F</td>\n",
       "      <td>50</td>\n",
       "      <td>2007.8.8</td>\n",
       "      <td>NaN</td>\n",
       "      <td>0</td>\n",
       "      <td>0</td>\n",
       "      <td>0</td>\n",
       "      <td>3</td>\n",
       "      <td>1.0</td>\n",
       "      <td>1</td>\n",
       "      <td>6.0</td>\n",
       "      <td>0</td>\n",
       "    </tr>\n",
       "  </tbody>\n",
       "</table>\n",
       "</div>"
      ],
      "text/plain": [
       "      데이터명 Case_No.          ID  Sex  Age Insertion  date Removal date  \\\n",
       "0  데이터 표기값   0001 ~         NaN  NaN  NaN             NaN          NaN   \n",
       "1      NaN        1  28170976.0    F   34        2000.6.1    2007.3.13   \n",
       "2      NaN        1  28170976.0    F   34        2000.6.1    2007.3.13   \n",
       "3      NaN        1  28170976.0    F   34        2000.6.1    2007.3.13   \n",
       "4      NaN        2  24915920.0    F   50        2007.8.8          NaN   \n",
       "\n",
       "                                             Implant  \\\n",
       "0  Manufacturer\\n(Mentor: 0 \\nBellaGel: 1 \\nAller...   \n",
       "1                                                  3   \n",
       "2                                                  3   \n",
       "3                                                  3   \n",
       "4                                                  0   \n",
       "\n",
       "                                          Unnamed: 8  \\\n",
       "0  Texture\\n(Smooth: 0\\nMicrotextured: 1\\nTexture...   \n",
       "1                                                  0   \n",
       "2                                                  0   \n",
       "3                                                  0   \n",
       "4                                                  0   \n",
       "\n",
       "                          Unnamed: 9  \\\n",
       "0  Rupture\\n(Intact: 0\\nRuptured: 1)   \n",
       "1                                  0   \n",
       "2                                  0   \n",
       "3                                  1   \n",
       "4                                  0   \n",
       "\n",
       "                                                 H/W  sono date   Period  \\\n",
       "0  Sonon: 0\\nCanon: 1\\nGE:2\\nAccuvix:3\\nHitachi:4...        NaN  (단위: 년)   \n",
       "1                                                  2        1.0        1   \n",
       "2                                                  2        3.0        3   \n",
       "3                                                  2        7.0        7   \n",
       "4                                                  3        1.0        1   \n",
       "\n",
       "   영상갯수                   Exclusion여부  \n",
       "0   NaN  Inclusion(=0)\\nExclusion(=1)  \n",
       "1   4.0                             0  \n",
       "2   1.0                             0  \n",
       "3   5.0                             0  \n",
       "4   6.0                             0  "
      ]
     },
     "execution_count": 6,
     "metadata": {},
     "output_type": "execute_result"
    }
   ],
   "source": [
    "df.head()"
   ]
  },
  {
   "cell_type": "markdown",
   "metadata": {},
   "source": [
    "* Exclusion = 1 제외"
   ]
  },
  {
   "cell_type": "code",
   "execution_count": 7,
   "metadata": {},
   "outputs": [],
   "source": [
    "df['Exclusion여부'] = df['Exclusion여부'].astype('str')"
   ]
  },
  {
   "cell_type": "code",
   "execution_count": 8,
   "metadata": {},
   "outputs": [
    {
     "data": {
      "text/plain": [
       "array(['Inclusion(=0)\\nExclusion(=1)', '0', '1', 'nan', '7'], dtype=object)"
      ]
     },
     "execution_count": 8,
     "metadata": {},
     "output_type": "execute_result"
    }
   ],
   "source": [
    "df['Exclusion여부'].unique()"
   ]
  },
  {
   "cell_type": "code",
   "execution_count": 9,
   "metadata": {},
   "outputs": [
    {
     "data": {
      "text/plain": [
       "0       False\n",
       "1        True\n",
       "2        True\n",
       "3        True\n",
       "4        True\n",
       "        ...  \n",
       "1973    False\n",
       "1974    False\n",
       "1975    False\n",
       "1976    False\n",
       "1977    False\n",
       "Name: Exclusion여부, Length: 1978, dtype: bool"
      ]
     },
     "execution_count": 9,
     "metadata": {},
     "output_type": "execute_result"
    }
   ],
   "source": [
    "(df['Exclusion여부'] == '0')"
   ]
  },
  {
   "cell_type": "code",
   "execution_count": 10,
   "metadata": {},
   "outputs": [
    {
     "data": {
      "text/plain": [
       "0       False\n",
       "1       False\n",
       "2       False\n",
       "3       False\n",
       "4       False\n",
       "        ...  \n",
       "1973     True\n",
       "1974    False\n",
       "1975     True\n",
       "1976     True\n",
       "1977     True\n",
       "Name: Exclusion여부, Length: 1978, dtype: bool"
      ]
     },
     "execution_count": 10,
     "metadata": {},
     "output_type": "execute_result"
    }
   ],
   "source": [
    "(df['Exclusion여부'] == 'nan')"
   ]
  },
  {
   "cell_type": "code",
   "execution_count": 11,
   "metadata": {},
   "outputs": [
    {
     "data": {
      "text/html": [
       "<div>\n",
       "<style scoped>\n",
       "    .dataframe tbody tr th:only-of-type {\n",
       "        vertical-align: middle;\n",
       "    }\n",
       "\n",
       "    .dataframe tbody tr th {\n",
       "        vertical-align: top;\n",
       "    }\n",
       "\n",
       "    .dataframe thead th {\n",
       "        text-align: right;\n",
       "    }\n",
       "</style>\n",
       "<table border=\"1\" class=\"dataframe\">\n",
       "  <thead>\n",
       "    <tr style=\"text-align: right;\">\n",
       "      <th></th>\n",
       "      <th>데이터명</th>\n",
       "      <th>Case_No.</th>\n",
       "      <th>ID</th>\n",
       "      <th>Sex</th>\n",
       "      <th>Age</th>\n",
       "      <th>Insertion  date</th>\n",
       "      <th>Removal date</th>\n",
       "      <th>Implant</th>\n",
       "      <th>Unnamed: 8</th>\n",
       "      <th>Unnamed: 9</th>\n",
       "      <th>H/W</th>\n",
       "      <th>sono date</th>\n",
       "      <th>Period</th>\n",
       "      <th>영상갯수</th>\n",
       "      <th>Exclusion여부</th>\n",
       "    </tr>\n",
       "  </thead>\n",
       "  <tbody>\n",
       "    <tr>\n",
       "      <th>1</th>\n",
       "      <td>NaN</td>\n",
       "      <td>1</td>\n",
       "      <td>28170976.0</td>\n",
       "      <td>F</td>\n",
       "      <td>34</td>\n",
       "      <td>2000.6.1</td>\n",
       "      <td>2007.3.13</td>\n",
       "      <td>3</td>\n",
       "      <td>0</td>\n",
       "      <td>0</td>\n",
       "      <td>2</td>\n",
       "      <td>1.0</td>\n",
       "      <td>1</td>\n",
       "      <td>4.0</td>\n",
       "      <td>0</td>\n",
       "    </tr>\n",
       "    <tr>\n",
       "      <th>2</th>\n",
       "      <td>NaN</td>\n",
       "      <td>1</td>\n",
       "      <td>28170976.0</td>\n",
       "      <td>F</td>\n",
       "      <td>34</td>\n",
       "      <td>2000.6.1</td>\n",
       "      <td>2007.3.13</td>\n",
       "      <td>3</td>\n",
       "      <td>0</td>\n",
       "      <td>0</td>\n",
       "      <td>2</td>\n",
       "      <td>3.0</td>\n",
       "      <td>3</td>\n",
       "      <td>1.0</td>\n",
       "      <td>0</td>\n",
       "    </tr>\n",
       "    <tr>\n",
       "      <th>3</th>\n",
       "      <td>NaN</td>\n",
       "      <td>1</td>\n",
       "      <td>28170976.0</td>\n",
       "      <td>F</td>\n",
       "      <td>34</td>\n",
       "      <td>2000.6.1</td>\n",
       "      <td>2007.3.13</td>\n",
       "      <td>3</td>\n",
       "      <td>0</td>\n",
       "      <td>1</td>\n",
       "      <td>2</td>\n",
       "      <td>7.0</td>\n",
       "      <td>7</td>\n",
       "      <td>5.0</td>\n",
       "      <td>0</td>\n",
       "    </tr>\n",
       "    <tr>\n",
       "      <th>4</th>\n",
       "      <td>NaN</td>\n",
       "      <td>2</td>\n",
       "      <td>24915920.0</td>\n",
       "      <td>F</td>\n",
       "      <td>50</td>\n",
       "      <td>2007.8.8</td>\n",
       "      <td>NaN</td>\n",
       "      <td>0</td>\n",
       "      <td>0</td>\n",
       "      <td>0</td>\n",
       "      <td>3</td>\n",
       "      <td>1.0</td>\n",
       "      <td>1</td>\n",
       "      <td>6.0</td>\n",
       "      <td>0</td>\n",
       "    </tr>\n",
       "    <tr>\n",
       "      <th>5</th>\n",
       "      <td>NaN</td>\n",
       "      <td>2</td>\n",
       "      <td>24915920.0</td>\n",
       "      <td>F</td>\n",
       "      <td>50</td>\n",
       "      <td>2007.8.8</td>\n",
       "      <td>NaN</td>\n",
       "      <td>0</td>\n",
       "      <td>0</td>\n",
       "      <td>0</td>\n",
       "      <td>4</td>\n",
       "      <td>2.0</td>\n",
       "      <td>2</td>\n",
       "      <td>2.0</td>\n",
       "      <td>0</td>\n",
       "    </tr>\n",
       "  </tbody>\n",
       "</table>\n",
       "</div>"
      ],
      "text/plain": [
       "  데이터명 Case_No.          ID Sex Age Insertion  date Removal date Implant  \\\n",
       "1  NaN        1  28170976.0   F  34        2000.6.1    2007.3.13       3   \n",
       "2  NaN        1  28170976.0   F  34        2000.6.1    2007.3.13       3   \n",
       "3  NaN        1  28170976.0   F  34        2000.6.1    2007.3.13       3   \n",
       "4  NaN        2  24915920.0   F  50        2007.8.8          NaN       0   \n",
       "5  NaN        2  24915920.0   F  50        2007.8.8          NaN       0   \n",
       "\n",
       "  Unnamed: 8 Unnamed: 9 H/W  sono date Period  영상갯수 Exclusion여부  \n",
       "1          0          0   2        1.0      1   4.0           0  \n",
       "2          0          0   2        3.0      3   1.0           0  \n",
       "3          0          1   2        7.0      7   5.0           0  \n",
       "4          0          0   3        1.0      1   6.0           0  \n",
       "5          0          0   4        2.0      2   2.0           0  "
      ]
     },
     "execution_count": 11,
     "metadata": {},
     "output_type": "execute_result"
    }
   ],
   "source": [
    "df = df[(df['Exclusion여부'] == '0') | (df['Exclusion여부'] == 'nan')] ; df.head()"
   ]
  },
  {
   "cell_type": "code",
   "execution_count": 12,
   "metadata": {},
   "outputs": [
    {
     "data": {
      "text/plain": [
       "1920"
      ]
     },
     "execution_count": 12,
     "metadata": {},
     "output_type": "execute_result"
    }
   ],
   "source": [
    "len(df)"
   ]
  },
  {
   "cell_type": "code",
   "execution_count": 13,
   "metadata": {},
   "outputs": [
    {
     "data": {
      "text/plain": [
       "696"
      ]
     },
     "execution_count": 13,
     "metadata": {},
     "output_type": "execute_result"
    }
   ],
   "source": [
    "len(df['ID'].unique())"
   ]
  },
  {
   "cell_type": "markdown",
   "metadata": {},
   "source": [
    "→ 701명, 1978개 중 5명, 58개 제외"
   ]
  },
  {
   "cell_type": "markdown",
   "metadata": {},
   "source": [
    "* 사용할 데이터만 남기기"
   ]
  },
  {
   "cell_type": "code",
   "execution_count": 14,
   "metadata": {},
   "outputs": [
    {
     "data": {
      "text/html": [
       "<div>\n",
       "<style scoped>\n",
       "    .dataframe tbody tr th:only-of-type {\n",
       "        vertical-align: middle;\n",
       "    }\n",
       "\n",
       "    .dataframe tbody tr th {\n",
       "        vertical-align: top;\n",
       "    }\n",
       "\n",
       "    .dataframe thead th {\n",
       "        text-align: right;\n",
       "    }\n",
       "</style>\n",
       "<table border=\"1\" class=\"dataframe\">\n",
       "  <thead>\n",
       "    <tr style=\"text-align: right;\">\n",
       "      <th></th>\n",
       "      <th>ID</th>\n",
       "      <th>Implant</th>\n",
       "    </tr>\n",
       "  </thead>\n",
       "  <tbody>\n",
       "    <tr>\n",
       "      <th>2</th>\n",
       "      <td>28170976.0</td>\n",
       "      <td>3</td>\n",
       "    </tr>\n",
       "    <tr>\n",
       "      <th>3</th>\n",
       "      <td>28170976.0</td>\n",
       "      <td>3</td>\n",
       "    </tr>\n",
       "    <tr>\n",
       "      <th>4</th>\n",
       "      <td>24915920.0</td>\n",
       "      <td>0</td>\n",
       "    </tr>\n",
       "    <tr>\n",
       "      <th>5</th>\n",
       "      <td>24915920.0</td>\n",
       "      <td>0</td>\n",
       "    </tr>\n",
       "    <tr>\n",
       "      <th>6</th>\n",
       "      <td>24915920.0</td>\n",
       "      <td>0</td>\n",
       "    </tr>\n",
       "    <tr>\n",
       "      <th>...</th>\n",
       "      <td>...</td>\n",
       "      <td>...</td>\n",
       "    </tr>\n",
       "    <tr>\n",
       "      <th>1972</th>\n",
       "      <td>45095830.0</td>\n",
       "      <td>1</td>\n",
       "    </tr>\n",
       "    <tr>\n",
       "      <th>1973</th>\n",
       "      <td>49657090.0</td>\n",
       "      <td>0</td>\n",
       "    </tr>\n",
       "    <tr>\n",
       "      <th>1975</th>\n",
       "      <td>49830059.0</td>\n",
       "      <td>0</td>\n",
       "    </tr>\n",
       "    <tr>\n",
       "      <th>1976</th>\n",
       "      <td>24731494.0</td>\n",
       "      <td>2</td>\n",
       "    </tr>\n",
       "    <tr>\n",
       "      <th>1977</th>\n",
       "      <td>24731494.0</td>\n",
       "      <td>2</td>\n",
       "    </tr>\n",
       "  </tbody>\n",
       "</table>\n",
       "<p>1919 rows × 2 columns</p>\n",
       "</div>"
      ],
      "text/plain": [
       "              ID Implant\n",
       "2     28170976.0       3\n",
       "3     28170976.0       3\n",
       "4     24915920.0       0\n",
       "5     24915920.0       0\n",
       "6     24915920.0       0\n",
       "...          ...     ...\n",
       "1972  45095830.0       1\n",
       "1973  49657090.0       0\n",
       "1975  49830059.0       0\n",
       "1976  24731494.0       2\n",
       "1977  24731494.0       2\n",
       "\n",
       "[1919 rows x 2 columns]"
      ]
     },
     "execution_count": 14,
     "metadata": {},
     "output_type": "execute_result"
    }
   ],
   "source": [
    "data = df[1:][['ID', 'Implant']] ; data"
   ]
  },
  {
   "cell_type": "markdown",
   "metadata": {},
   "source": [
    "* 중복 제거 : 중복 없음"
   ]
  },
  {
   "cell_type": "code",
   "execution_count": 15,
   "metadata": {},
   "outputs": [],
   "source": [
    "data = data.drop_duplicates(subset=None, keep='first', inplace=False, ignore_index=False)"
   ]
  },
  {
   "cell_type": "code",
   "execution_count": 16,
   "metadata": {},
   "outputs": [
    {
     "data": {
      "text/plain": [
       "696"
      ]
     },
     "execution_count": 16,
     "metadata": {},
     "output_type": "execute_result"
    }
   ],
   "source": [
    "len(set(data['ID']))"
   ]
  },
  {
   "cell_type": "markdown",
   "metadata": {},
   "source": [
    "* 데이터 환자수 확인"
   ]
  },
  {
   "cell_type": "code",
   "execution_count": 17,
   "metadata": {},
   "outputs": [],
   "source": [
    "dicom_path = '/workspace/dataset_new'"
   ]
  },
  {
   "cell_type": "code",
   "execution_count": 18,
   "metadata": {},
   "outputs": [],
   "source": [
    "def get_files_count(folder_path):\n",
    "\tdirListing = os.listdir(folder_path)\n",
    "\treturn len(dirListing)"
   ]
  },
  {
   "cell_type": "code",
   "execution_count": 19,
   "metadata": {},
   "outputs": [
    {
     "data": {
      "text/plain": [
       "700"
      ]
     },
     "execution_count": 19,
     "metadata": {},
     "output_type": "execute_result"
    }
   ],
   "source": [
    "get_files_count(dicom_path)"
   ]
  },
  {
   "cell_type": "markdown",
   "metadata": {},
   "source": [
    "* image save : dicom 이미지를 array → Image로 변환하여 저장<br>\n",
    "이때 image의 환자명을 csv와 매칭하여 Implant 1번이 Label이 되게 한다."
   ]
  },
  {
   "cell_type": "code",
   "execution_count": 20,
   "metadata": {},
   "outputs": [],
   "source": [
    "img_path = '/workspace/dataset_new'"
   ]
  },
  {
   "cell_type": "markdown",
   "metadata": {},
   "source": [
    "* dcm to array : dataframe으로 만들어서 train_test_split 후 저장"
   ]
  },
  {
   "cell_type": "code",
   "execution_count": 21,
   "metadata": {},
   "outputs": [],
   "source": [
    "dcm_to_arr =  pd.DataFrame()"
   ]
  },
  {
   "cell_type": "code",
   "execution_count": 22,
   "metadata": {},
   "outputs": [],
   "source": [
    "t_ct = []\n",
    "# 이미지로 변환 성공한 url\n",
    "f_ct = []\n",
    "# 이미지로 변환 실패한 url\n",
    "dcm_all = []\n",
    "# dicom 전체 url\n",
    "\n",
    "## True df 구성 ##\n",
    "img_arr = []\n",
    "# img array\n",
    "lb_arr = []\n",
    "# label array\n",
    "path_arr = []\n",
    "# path array\n",
    "\n",
    "## False df 구성 ##\n",
    "#f_img_arr = []\n",
    "# img array\n",
    "f_lb_arr = []\n",
    "# label array\n",
    "#f_path_arr = []\n",
    "# path array\n",
    "for top, _, f in os.walk(img_path):\n",
    "    # img_path에 접근하여 폴더별로 이미지에 접근한다.\n",
    "    # top은 img_path/세부경로\n",
    "    # f는 환자별 image file 이름\n",
    "    for ix, filename in enumerate(f):\n",
    "        # 그중 f는 각 환자 폴더 안의 이미지 전부의 주소이다.\n",
    "        # filename은 그 중 하나에 접근.\n",
    "        url = os.path.join(top,filename)\n",
    "        # 세부 이미지 경로\n",
    "        id = int(url.split('/')[3])\n",
    "        # 환자 number\n",
    "        dcm_all.append(url)\n",
    "        break"
   ]
  },
  {
   "cell_type": "code",
   "execution_count": 23,
   "metadata": {},
   "outputs": [
    {
     "data": {
      "text/plain": [
       "['/workspace/dataset_new/52017201/22-03-21_1100003 (2).dcm',\n",
       " '/workspace/dataset_new/50676642/21-12-14_1200003 (3).dcm',\n",
       " '/workspace/dataset_new/32430451/22-03-17_1000003 (3).dcm',\n",
       " '/workspace/dataset_new/51870896/22-02-080005.dcm',\n",
       " '/workspace/dataset_new/52957284/22-07-27_0000003 (2).dcm',\n",
       " '/workspace/dataset_new/53203858/21-01-140004.dcm',\n",
       " '/workspace/dataset_new/31278775/211109_1100007.dcm',\n",
       " '/workspace/dataset_new/41947249/21-11-24_0000003 (2).dcm',\n",
       " '/workspace/dataset_new/52698686/21-08-20_0000006 (5).dcm',\n",
       " '/workspace/dataset_new/51162780/21-06-22_2200001.dcm',\n",
       " '/workspace/dataset_new/54979064/2208020006.dcm',\n",
       " '/workspace/dataset_new/45095830/2111050001.dcm',\n",
       " '/workspace/dataset_new/51869043/2103170001.dcm',\n",
       " '/workspace/dataset_new/29186431/21-10-06_000.dcm',\n",
       " '/workspace/dataset_new/52639391/22-03-18_0000003 (2).dcm',\n",
       " '/workspace/dataset_new/52228645/22-03-04_000.dcm',\n",
       " '/workspace/dataset_new/42262770/2112090001.dcm',\n",
       " '/workspace/dataset_new/35940010/2202280002.dcm',\n",
       " '/workspace/dataset_new/51959535/22-08-01_1000003 (3).dcm',\n",
       " '/workspace/dataset_new/46218263/220531_0000001.dcm',\n",
       " '/workspace/dataset_new/53652342/21-12-29_0000003 (2).dcm',\n",
       " '/workspace/dataset_new/71351104/21-12-24_0000004 (1).dcm',\n",
       " '/workspace/dataset_new/15052546/20-05-12_E(L)0002.dcm',\n",
       " '/workspace/dataset_new/50646526/22-03-07_020.dcm',\n",
       " '/workspace/dataset_new/52869301/22-09-06_0000003 (2).dcm',\n",
       " '/workspace/dataset_new/46494423/19-06-27_0200005 (3).dcm',\n",
       " '/workspace/dataset_new/21719868/22-03-03_1100004 (3).dcm',\n",
       " '/workspace/dataset_new/25292581/22-04-20_0000003 (1).dcm',\n",
       " '/workspace/dataset_new/52990863/21-09-29_1100001 (1).dcm',\n",
       " '/workspace/dataset_new/33011031/2208120001.dcm',\n",
       " '/workspace/dataset_new/51044286/19-09-27_0200003 (1).dcm',\n",
       " '/workspace/dataset_new/53188702/22-02-280002.dcm',\n",
       " '/workspace/dataset_new/70263343/2012310002.dcm',\n",
       " '/workspace/dataset_new/53365011/2203110002.dcm',\n",
       " '/workspace/dataset_new/51228495/20-12-31_1200002 (2).dcm',\n",
       " '/workspace/dataset_new/51112963/20-03-31_1200002.dcm',\n",
       " '/workspace/dataset_new/50995064/2202180003.dcm',\n",
       " '/workspace/dataset_new/49711716/21-04-30.dcm',\n",
       " '/workspace/dataset_new/49520143/200413_0200002.dcm',\n",
       " '/workspace/dataset_new/22404950/20-12-29.dcm',\n",
       " '/workspace/dataset_new/53853309/20-11-27_0000005 (5).dcm',\n",
       " '/workspace/dataset_new/47713095/21-08-18_0200002 (1).dcm',\n",
       " '/workspace/dataset_new/54341498/21-12-09_0000004 (2).dcm',\n",
       " '/workspace/dataset_new/50452954/22-05-26_0200001.dcm',\n",
       " '/workspace/dataset_new/38639030/22-05-19_0000001 (2).dcm',\n",
       " '/workspace/dataset_new/50610743/21-02-16_1100003 (3).dcm',\n",
       " '/workspace/dataset_new/45984257/22-02-250004.dcm',\n",
       " '/workspace/dataset_new/50978083/19-07-110001.dcm',\n",
       " '/workspace/dataset_new/50697120/22-06-20_0200004.dcm',\n",
       " '/workspace/dataset_new/54072172/22-04-22_0000002 (1).dcm',\n",
       " '/workspace/dataset_new/52117497/22-05-06_0100001 (1).dcm',\n",
       " '/workspace/dataset_new/51956149/20-11-24_020.dcm',\n",
       " '/workspace/dataset_new/51117223/22-03-26_1200003 (3).dcm',\n",
       " '/workspace/dataset_new/51022387/21-02-25_000.dcm',\n",
       " '/workspace/dataset_new/32344202/22-08-10_1100002 (1).dcm',\n",
       " '/workspace/dataset_new/47468218/22-02-08_0000006 (3).dcm',\n",
       " '/workspace/dataset_new/51716613/21-12-24_0200003 (3).dcm',\n",
       " '/workspace/dataset_new/54512207/220902_310002.dcm',\n",
       " '/workspace/dataset_new/55346667/2203020001.dcm',\n",
       " '/workspace/dataset_new/51256096/20-11-16_1200003 (1).dcm',\n",
       " '/workspace/dataset_new/50976119/21-12-01_0000003 (3).dcm',\n",
       " '/workspace/dataset_new/50934906/20-06-15_120.dcm',\n",
       " '/workspace/dataset_new/25318926/21-08-200002.dcm',\n",
       " '/workspace/dataset_new/35571515/21-03-11_1000002 (1).dcm',\n",
       " '/workspace/dataset_new/53322045/2204110005.dcm',\n",
       " '/workspace/dataset_new/50107401/21-01-13_1000003 (2).dcm',\n",
       " '/workspace/dataset_new/45224690/20-09-09_1100003 (1).dcm',\n",
       " '/workspace/dataset_new/55558181/2208160003.dcm',\n",
       " '/workspace/dataset_new/51217046/22-07-25_1000005 (3).dcm',\n",
       " '/workspace/dataset_new/53431266/2207190002.dcm',\n",
       " '/workspace/dataset_new/51951423/20-11-10_0200001.dcm',\n",
       " '/workspace/dataset_new/53192509/21-09-010002.dcm',\n",
       " '/workspace/dataset_new/24776536/21-11-26_0200002 (2).dcm',\n",
       " '/workspace/dataset_new/52947124/2107010001.dcm',\n",
       " '/workspace/dataset_new/51420020/22-02-22_1200001 (1).dcm',\n",
       " '/workspace/dataset_new/52919802/21-08-12_0000002 (1).dcm',\n",
       " '/workspace/dataset_new/51258232/20-05-20_1100002 (2).dcm',\n",
       " '/workspace/dataset_new/39164058/20-12-05_1200002.dcm',\n",
       " '/workspace/dataset_new/20068233/21-01-19_0000002 (2).dcm',\n",
       " '/workspace/dataset_new/54631401/2204220002.dcm',\n",
       " '/workspace/dataset_new/50341489/20-03-17_2200001 (2).dcm',\n",
       " '/workspace/dataset_new/53408026/2202100003.dcm',\n",
       " '/workspace/dataset_new/50862241/20-01-03_220.dcm',\n",
       " '/workspace/dataset_new/51713948/20-05-04_0000003 (1).dcm',\n",
       " '/workspace/dataset_new/46588171/20-12-04_000.dcm',\n",
       " '/workspace/dataset_new/50257863/19-04-10_020.dcm',\n",
       " '/workspace/dataset_new/52330810/22-02-16_0000004 (1).dcm',\n",
       " '/workspace/dataset_new/51540164/22-08-12_1100002 (2).dcm',\n",
       " '/workspace/dataset_new/45671683/19-11-050001.dcm',\n",
       " '/workspace/dataset_new/29473483/8-1104060002.jpg',\n",
       " '/workspace/dataset_new/52812235/22-02-150002.dcm',\n",
       " '/workspace/dataset_new/48694560/200904_1200002.dcm',\n",
       " '/workspace/dataset_new/47147270/21-09-15_1000001 (1).dcm',\n",
       " '/workspace/dataset_new/42182881/21-12-24_0000003 (1).dcm',\n",
       " '/workspace/dataset_new/51842149/21-10-28_1100002 (2).dcm',\n",
       " '/workspace/dataset_new/50133626/19-07-08_0200001 (2).dcm',\n",
       " '/workspace/dataset_new/31862923/21-02-09_0000003 (1).dcm',\n",
       " '/workspace/dataset_new/52106675/22-06-29_0000002 (2).dcm',\n",
       " '/workspace/dataset_new/46019846/22-06-27_1100002 (2).dcm',\n",
       " '/workspace/dataset_new/47671564/2107030002.dcm',\n",
       " '/workspace/dataset_new/46986612/220107_000.dcm',\n",
       " '/workspace/dataset_new/53472654/2207270002.dcm',\n",
       " '/workspace/dataset_new/53174277/2106210001.dcm',\n",
       " '/workspace/dataset_new/46489678/22-01-06_0000002 (1).dcm',\n",
       " '/workspace/dataset_new/51526043/20-07-10_1000002 (4).dcm',\n",
       " '/workspace/dataset_new/50353552/21-04-280002.dcm',\n",
       " '/workspace/dataset_new/15642367/19-11-05_1100001 (1).dcm',\n",
       " '/workspace/dataset_new/34724462/22-04-08_0000002 (1).dcm',\n",
       " '/workspace/dataset_new/50788196/20-07-160001.dcm',\n",
       " '/workspace/dataset_new/48368645/16-2204150000.jpg',\n",
       " '/workspace/dataset_new/54468502/22-04-130002.dcm',\n",
       " '/workspace/dataset_new/50636567/21-10-14_0200002.dcm',\n",
       " '/workspace/dataset_new/48562322/22-07-29_0200003 (1).dcm',\n",
       " '/workspace/dataset_new/46485520/21-01-05_0200001.dcm',\n",
       " '/workspace/dataset_new/45437991/22-03-14_110.dcm',\n",
       " '/workspace/dataset_new/51029030/20-09-14_220.dcm',\n",
       " '/workspace/dataset_new/47362707/22-05-12_1000003 (1).dcm',\n",
       " '/workspace/dataset_new/53356738/2207220001.dcm',\n",
       " '/workspace/dataset_new/51419479/20-11-27_0200005 (2).dcm',\n",
       " '/workspace/dataset_new/45878460/20-07-08_0000003 (1).dcm',\n",
       " '/workspace/dataset_new/54288465/2208050003.dcm',\n",
       " '/workspace/dataset_new/70441547/2103030003.dcm',\n",
       " '/workspace/dataset_new/51377544/21-10-01_1000002 (1).dcm',\n",
       " '/workspace/dataset_new/32976180/21-08-19_000.dcm',\n",
       " '/workspace/dataset_new/53835008/21-07-06_000.dcm',\n",
       " '/workspace/dataset_new/50458109/20-06-23_110.dcm',\n",
       " '/workspace/dataset_new/29563230/20-01-23_1200002.dcm',\n",
       " '/workspace/dataset_new/27213368/22-02-240001.dcm',\n",
       " '/workspace/dataset_new/70585151/2209050001.dcm',\n",
       " '/workspace/dataset_new/50889640/22-02-28_0000005 (5).dcm',\n",
       " '/workspace/dataset_new/52472372/22-03-24_120.dcm',\n",
       " '/workspace/dataset_new/46837905/20-08-20_1200002 (1).dcm',\n",
       " '/workspace/dataset_new/51324209/20-10-30_110.dcm',\n",
       " '/workspace/dataset_new/42985338/2202040003.dcm',\n",
       " '/workspace/dataset_new/51222459/20-10-19_020.dcm',\n",
       " '/workspace/dataset_new/54519950/2206110003.dcm',\n",
       " '/workspace/dataset_new/32504181/21-11-16_0000003 (3).dcm',\n",
       " '/workspace/dataset_new/52331875/22-05-16_1100002 (2).dcm',\n",
       " '/workspace/dataset_new/54170401/22-04-23_1000004 (3).dcm',\n",
       " '/workspace/dataset_new/54131103/21-06-21_0000003 (1).dcm',\n",
       " '/workspace/dataset_new/38870545/22-06-13_0000002 (2).dcm',\n",
       " '/workspace/dataset_new/51632676/21-11-11_000.dcm',\n",
       " '/workspace/dataset_new/53900647/21-07-29_1000002 (2).dcm',\n",
       " '/workspace/dataset_new/51388056/19-11-07_0200002 (2).dcm',\n",
       " '/workspace/dataset_new/53784845/21-01-210003.dcm',\n",
       " '/workspace/dataset_new/34777992/20-02-13_120.dcm',\n",
       " '/workspace/dataset_new/50458781/22-03-02_1000003 (1).dcm',\n",
       " '/workspace/dataset_new/53133656/2201240002.dcm',\n",
       " '/workspace/dataset_new/36188745/22-05-250002.dcm',\n",
       " '/workspace/dataset_new/49021482/22-03-14_1000003 (3).dcm',\n",
       " '/workspace/dataset_new/50271124/20-10-12_0200001 (1).dcm',\n",
       " '/workspace/dataset_new/50745694/20-12-30_2200003.dcm',\n",
       " '/workspace/dataset_new/51206697/2109130001.dcm',\n",
       " '/workspace/dataset_new/32477809/220330_3100001.dcm',\n",
       " '/workspace/dataset_new/47144334/22-02-24_1100002 (2).dcm',\n",
       " '/workspace/dataset_new/36123630/220705.dcm',\n",
       " '/workspace/dataset_new/50305957/20-03-160003.dcm',\n",
       " '/workspace/dataset_new/50766521/22-07-15_0000004 (3).dcm',\n",
       " '/workspace/dataset_new/51032803/22-08-04(R)E0002.dcm',\n",
       " '/workspace/dataset_new/22848466/18-11-170001.dcm',\n",
       " '/workspace/dataset_new/50324369/22-01-28_000.dcm',\n",
       " '/workspace/dataset_new/36758531/20-04-20_0200005 (2).dcm',\n",
       " '/workspace/dataset_new/54238592/211005_0000001.dcm',\n",
       " '/workspace/dataset_new/52346219/22-04-07_0200002 (2).dcm',\n",
       " '/workspace/dataset_new/49844546/22-07-29_120.dcm',\n",
       " '/workspace/dataset_new/49446663/2008190002.dcm',\n",
       " '/workspace/dataset_new/51482338/21201190001.dcm',\n",
       " '/workspace/dataset_new/53593979/2110210002.dcm',\n",
       " '/workspace/dataset_new/24787466/22-06-27_0000007 (3).dcm',\n",
       " '/workspace/dataset_new/51366450/220312_0100001.dcm',\n",
       " '/workspace/dataset_new/37228932/21-11-23_1100003 (2).dcm',\n",
       " '/workspace/dataset_new/51112545/20-05-22_110.dcm',\n",
       " '/workspace/dataset_new/45369788/21-12-16_1000002 (2).dcm',\n",
       " '/workspace/dataset_new/29871063/21-09-14_000.dcm',\n",
       " '/workspace/dataset_new/47453463/21-11_05_0000004 (3).dcm',\n",
       " '/workspace/dataset_new/48422734/2103170001.dcm',\n",
       " '/workspace/dataset_new/51302588/20-10-21_100.dcm',\n",
       " '/workspace/dataset_new/52605228/22-08-22_1100001 (1).dcm',\n",
       " '/workspace/dataset_new/50275520/21-06-10_000.dcm',\n",
       " '/workspace/dataset_new/30818202/22-07-110001.dcm',\n",
       " '/workspace/dataset_new/19008680/2203160001.dcm',\n",
       " '/workspace/dataset_new/51901442/20-03-05_000.dcm',\n",
       " '/workspace/dataset_new/50830509/22-06-09_HL0001.dcm',\n",
       " '/workspace/dataset_new/52009952/20-06-29_2200002 (1).dcm',\n",
       " '/workspace/dataset_new/50285255/22-05-110004.dcm',\n",
       " '/workspace/dataset_new/50808540/21-08-02_1100002 (2).dcm',\n",
       " '/workspace/dataset_new/52141267/21-12-07_0000004 (3).dcm',\n",
       " '/workspace/dataset_new/52097586/220514_0000001.dcm',\n",
       " '/workspace/dataset_new/50394825/21-01-190003.dcm',\n",
       " '/workspace/dataset_new/40387705/1902190002.dcm',\n",
       " '/workspace/dataset_new/53663722/20-12-30_1100002 (3).dcm',\n",
       " '/workspace/dataset_new/50034503/20-10-20_0200002 (1).dcm',\n",
       " '/workspace/dataset_new/52615991/22-04-180005.dcm',\n",
       " '/workspace/dataset_new/50678996/22-02-21_0000002 (1).dcm',\n",
       " '/workspace/dataset_new/39283430/21-07-27_0200003 (2).dcm',\n",
       " '/workspace/dataset_new/52141003/20-12-29_0200001 (1).dcm',\n",
       " '/workspace/dataset_new/49479663/2202250002.dcm',\n",
       " '/workspace/dataset_new/54094165/21-06-30_000.dcm',\n",
       " '/workspace/dataset_new/30427163/202209130006.dcm',\n",
       " '/workspace/dataset_new/52770386/22-07-18_0000002 (1).dcm',\n",
       " '/workspace/dataset_new/53396091/2206200001.dcm',\n",
       " '/workspace/dataset_new/49925863/21-07-14_0200002 (2).dcm',\n",
       " '/workspace/dataset_new/50301690/22-01-030004.dcm',\n",
       " '/workspace/dataset_new/51832919/22-05-130001.dcm',\n",
       " '/workspace/dataset_new/50996416/20-06-11_010.dcm',\n",
       " '/workspace/dataset_new/53178248/2106210001.dcm',\n",
       " '/workspace/dataset_new/30014031/21-03-17_00000010002 (2).dcm',\n",
       " '/workspace/dataset_new/37782140/3-0909040003.jpg',\n",
       " '/workspace/dataset_new/49817018/19-04-24_2200001.dcm',\n",
       " '/workspace/dataset_new/42553616/21-03-08_0000002 (2).dcm',\n",
       " '/workspace/dataset_new/23336043/2203020001.dcm',\n",
       " '/workspace/dataset_new/35861441/21-10-25_0200006 (2).dcm',\n",
       " '/workspace/dataset_new/51188629/22-04-21_1100004 (3).dcm',\n",
       " '/workspace/dataset_new/52767018/21-06-18_1000003 (3).dcm',\n",
       " '/workspace/dataset_new/43213478/2201200001.dcm',\n",
       " '/workspace/dataset_new/49691874/20-05-120001.dcm',\n",
       " '/workspace/dataset_new/29332917/21-07-30_0000003 (1).dcm',\n",
       " '/workspace/dataset_new/40663029/6_1612090001.jpg',\n",
       " '/workspace/dataset_new/51103248/22-02-22_1200001 (1).dcm',\n",
       " '/workspace/dataset_new/50422326/22-02-07_0200005.dcm',\n",
       " '/workspace/dataset_new/51568559/22-01-040003.dcm',\n",
       " '/workspace/dataset_new/50400193/14-2110200002.jpg',\n",
       " '/workspace/dataset_new/44726883/2203240001.dcm',\n",
       " '/workspace/dataset_new/35743815/22-06-27_0000002 (2).dcm',\n",
       " '/workspace/dataset_new/51447087/22-02-21_1200002 (1).dcm',\n",
       " '/workspace/dataset_new/51007302/21-10-01_1100003 (1).dcm',\n",
       " '/workspace/dataset_new/22555579/22-09-07_1100004 (1).dcm',\n",
       " '/workspace/dataset_new/50536047/20-05-130004.dcm',\n",
       " '/workspace/dataset_new/49087754/20-09-25_0100001 (2).dcm',\n",
       " '/workspace/dataset_new/45560947/22-04-06_1000003 (3).dcm',\n",
       " '/workspace/dataset_new/53686453/21-05-28_000.dcm',\n",
       " '/workspace/dataset_new/51027128/2202250002.dcm',\n",
       " '/workspace/dataset_new/49176205/22-07-040001.dcm',\n",
       " '/workspace/dataset_new/50274976/19-08-16_0200002 (2).dcm',\n",
       " '/workspace/dataset_new/25805033/19-12-27_220.dcm',\n",
       " '/workspace/dataset_new/52834451/22-03-300004.dcm',\n",
       " '/workspace/dataset_new/36492792/22-06-03_0000002 (1).dcm',\n",
       " '/workspace/dataset_new/51936239/22-03-14_000.dcm',\n",
       " '/workspace/dataset_new/51293297/22-03-14_1200001.dcm',\n",
       " '/workspace/dataset_new/51508975/21-08-30_0200004 (3).dcm',\n",
       " '/workspace/dataset_new/31103352/21-07-07_020.dcm',\n",
       " '/workspace/dataset_new/49657090/2012110002.dcm',\n",
       " '/workspace/dataset_new/54226931/22-03-31_0000002 (1).dcm',\n",
       " '/workspace/dataset_new/47993954/2207150003.dcm',\n",
       " '/workspace/dataset_new/52303577/20-07-23_1100001 (1).dcm',\n",
       " '/workspace/dataset_new/48614728/1911140002.dcm',\n",
       " '/workspace/dataset_new/54961669/2205250001.dcm',\n",
       " '/workspace/dataset_new/50401552/22-05-23_0100001 (1).dcm',\n",
       " '/workspace/dataset_new/51752222/22-03-14_110.dcm',\n",
       " '/workspace/dataset_new/52781999/2208240001.dcm',\n",
       " '/workspace/dataset_new/50032204/17-2202050000.jpg',\n",
       " '/workspace/dataset_new/43894961/21-08-26_1000002 (4).dcm',\n",
       " '/workspace/dataset_new/50633746/210603_1000002.dcm',\n",
       " '/workspace/dataset_new/52397680/2111010003.dcm',\n",
       " '/workspace/dataset_new/52497814/21-10-07_0000007 (3).dcm',\n",
       " '/workspace/dataset_new/51267560/21-07-30_1100002 (1).dcm',\n",
       " '/workspace/dataset_new/52003125/21-02-24_1100001.dcm',\n",
       " '/workspace/dataset_new/53574163/22-01-03_1000003 (2).dcm',\n",
       " '/workspace/dataset_new/37497574/22-01-04_1000005 (4).dcm',\n",
       " '/workspace/dataset_new/51365565/22-01-07_1100001.dcm',\n",
       " '/workspace/dataset_new/50707351/21-01-190003.dcm',\n",
       " '/workspace/dataset_new/49814970/19-10-28_0100003.dcm',\n",
       " '/workspace/dataset_new/51232533/2107220002.dcm',\n",
       " '/workspace/dataset_new/50899337/22-08-04_2000003.dcm',\n",
       " '/workspace/dataset_new/30700921/22-07-11_0000004 (4).dcm',\n",
       " '/workspace/dataset_new/40162634/20-03-27_0200001 (2).dcm',\n",
       " '/workspace/dataset_new/37276683/21-01-22_1000003 (2).dcm',\n",
       " '/workspace/dataset_new/24753160/21-12-29_0200004 (1).dcm',\n",
       " '/workspace/dataset_new/51570026/22-04-210003.dcm',\n",
       " '/workspace/dataset_new/53674551/21-03-13_100.dcm',\n",
       " '/workspace/dataset_new/51998819/19-12-31_120.dcm',\n",
       " '/workspace/dataset_new/38368749/21-08-04_000.dcm',\n",
       " '/workspace/dataset_new/32927892/21-09-010003.dcm',\n",
       " '/workspace/dataset_new/54488830/21-06-24_0000006 (1).dcm',\n",
       " '/workspace/dataset_new/53023300/21-10-04_1100001 (5).dcm',\n",
       " '/workspace/dataset_new/36128426/220324.dcm',\n",
       " '/workspace/dataset_new/51795173/21-09-27_0000005 (2).dcm',\n",
       " '/workspace/dataset_new/55372084/2205270001.dcm',\n",
       " '/workspace/dataset_new/51905475/22-03-17_1100003 (1).dcm',\n",
       " '/workspace/dataset_new/50401158/2103110004.dcm',\n",
       " '/workspace/dataset_new/50254927/19-08-20_2200004 (2).dcm',\n",
       " '/workspace/dataset_new/40188294/20-05-28_1200001.dcm',\n",
       " '/workspace/dataset_new/50591246/21-11-10_0200005 (4).dcm',\n",
       " '/workspace/dataset_new/51034621/22-05-27_0200003 (2).dcm',\n",
       " '/workspace/dataset_new/49721489/21-08-05_2200002 (1).dcm',\n",
       " '/workspace/dataset_new/50486894/21-01-250004.dcm',\n",
       " '/workspace/dataset_new/49723005/20-09-24_0100002(2).dcm',\n",
       " '/workspace/dataset_new/51155612/21-04-07_010 (2).dcm',\n",
       " '/workspace/dataset_new/25699687/20-10-26_0000002 (3).dcm',\n",
       " '/workspace/dataset_new/46042839/2110290002.dcm',\n",
       " '/workspace/dataset_new/49984615/22-02-10-2200001 (2).dcm',\n",
       " '/workspace/dataset_new/48862248/1910110003.dcm',\n",
       " '/workspace/dataset_new/49192980/21-12-28_1100003 (2).dcm',\n",
       " '/workspace/dataset_new/28703338/22-08-04_0200001 (3).dcm',\n",
       " '/workspace/dataset_new/50881660/2204080001.dcm',\n",
       " '/workspace/dataset_new/32878091/21-09-27_000.dcm',\n",
       " '/workspace/dataset_new/53422363/21-09-25_0000003 (3).dcm',\n",
       " '/workspace/dataset_new/09135989/22-06-24_2200003 (2).dcm',\n",
       " '/workspace/dataset_new/51378826/20-06-12_1100002 (1).dcm',\n",
       " '/workspace/dataset_new/50782934/19-09-27_2200001.dcm',\n",
       " '/workspace/dataset_new/52949935/22-02-14_0000002 (1).dcm',\n",
       " '/workspace/dataset_new/25290989/21-11-24_1000001 (2).dcm',\n",
       " '/workspace/dataset_new/43463172/22-05-31_0200004 (2).dcm',\n",
       " '/workspace/dataset_new/53634849/21-07-13_0000003 (1).dcm',\n",
       " '/workspace/dataset_new/40415617/20-09-23_0000003 (2).dcm',\n",
       " '/workspace/dataset_new/51128177/22-07-29_1100003 (1).dcm',\n",
       " '/workspace/dataset_new/51641461/220610_0000001.dcm',\n",
       " '/workspace/dataset_new/49834277/2203300003.dcm',\n",
       " '/workspace/dataset_new/51702359/22-02-28_0000005 (5).dcm',\n",
       " '/workspace/dataset_new/27578096/20-05-07_100.dcm',\n",
       " '/workspace/dataset_new/51312927/20-07-18_1100003 (1).dcm',\n",
       " '/workspace/dataset_new/52598027/21-11-11_0000003 (2).dcm',\n",
       " '/workspace/dataset_new/51845960/20-08-21_110.dcm',\n",
       " '/workspace/dataset_new/53887124/21-08-05_0000002 (2).dcm',\n",
       " '/workspace/dataset_new/51695381/20-09-28_1100003 (1).dcm',\n",
       " '/workspace/dataset_new/51763796/21-12-170005.dcm',\n",
       " '/workspace/dataset_new/46830199/22-08-24_0000003 (2).dcm',\n",
       " '/workspace/dataset_new/52222003/21-12-22_1100004 (1).dcm',\n",
       " '/workspace/dataset_new/50356272/21-09-28_1200002 (1).dcm',\n",
       " '/workspace/dataset_new/51815952/22-04-05_0200004 (1).dcm',\n",
       " '/workspace/dataset_new/52187845/20-08-11_0000003 (1).dcm',\n",
       " '/workspace/dataset_new/53297574/2203250002.dcm',\n",
       " '/workspace/dataset_new/45401954/21-01-15_2200001.dcm',\n",
       " '/workspace/dataset_new/45965922/22-03-16_0000002 (1).dcm',\n",
       " '/workspace/dataset_new/52112151/22-01-27_0000002 (2).dcm',\n",
       " '/workspace/dataset_new/52794971/21-05-07_1100003 (1).dcm',\n",
       " '/workspace/dataset_new/52743346/22-06-24_1100002 (3).dcm',\n",
       " '/workspace/dataset_new/49609990/20-04-07_1200002.dcm',\n",
       " '/workspace/dataset_new/51424813/2104190003.dcm',\n",
       " '/workspace/dataset_new/53036654/22-04-260002.dcm',\n",
       " '/workspace/dataset_new/52747393/22-08-12_0200002 (2).dcm',\n",
       " '/workspace/dataset_new/38806948/22-02-280002.dcm',\n",
       " '/workspace/dataset_new/30328019/22-03-14_0200003 (1).dcm',\n",
       " '/workspace/dataset_new/52225141/20-11-13_1200002 (2).dcm',\n",
       " '/workspace/dataset_new/17734882/22-05-06_1100004.dcm',\n",
       " '/workspace/dataset_new/51052340/19-12-16_1200003 (5).dcm',\n",
       " '/workspace/dataset_new/52219379/20-07-14_000.dcm',\n",
       " '/workspace/dataset_new/54206146/220420.dcm',\n",
       " '/workspace/dataset_new/42098481/22-01-27_1200002 (2).dcm',\n",
       " '/workspace/dataset_new/51504207/19-07-05_1200001.dcm',\n",
       " '/workspace/dataset_new/38962158/22-03-18_000.dcm',\n",
       " '/workspace/dataset_new/53511845/21-10-06_0000003 (1).dcm',\n",
       " '/workspace/dataset_new/51163745/22-07-22_H(L)0002.dcm',\n",
       " '/workspace/dataset_new/44065672/9-1903060001.jpg',\n",
       " '/workspace/dataset_new/53736024/21-08-17_1000003 (1).dcm',\n",
       " '/workspace/dataset_new/50542662/22-03-10_1100002 (2).dcm',\n",
       " '/workspace/dataset_new/36052295/20-06-30_110.dcm',\n",
       " '/workspace/dataset_new/53708858/20-12-04_1100003 (1).dcm',\n",
       " '/workspace/dataset_new/53029726/21-12-30_0000004 (1).dcm',\n",
       " '/workspace/dataset_new/55303266/2208080001.dcm',\n",
       " '/workspace/dataset_new/44826000/22-02-03_220 (1).dcm',\n",
       " '/workspace/dataset_new/55124533/2208080001.dcm',\n",
       " '/workspace/dataset_new/51244187/22-07-25_1100003 (1).dcm',\n",
       " '/workspace/dataset_new/53351687/2205270003.dcm',\n",
       " '/workspace/dataset_new/45954225/22-02-230002.dcm',\n",
       " '/workspace/dataset_new/32254804/21-11-18_1000005 (3).dcm',\n",
       " '/workspace/dataset_new/39381682/210830.dcm',\n",
       " '/workspace/dataset_new/46950101/21-10-28_1000004 (1).dcm',\n",
       " '/workspace/dataset_new/51513636/22-06-11_1100002 (1).dcm',\n",
       " '/workspace/dataset_new/27373051/21-08-110001.dcm',\n",
       " '/workspace/dataset_new/50876992/21-12-10_0200003 (1).dcm',\n",
       " '/workspace/dataset_new/39123026/22-01-12_110.dcm',\n",
       " '/workspace/dataset_new/54721119/2203080001.dcm',\n",
       " '/workspace/dataset_new/44239365/22-03-140001.dcm',\n",
       " '/workspace/dataset_new/49924132/22-05-14_1200002 (7).dcm',\n",
       " '/workspace/dataset_new/52758610/22-05-03_0000003 (3).dcm',\n",
       " '/workspace/dataset_new/51460840/20-10-28_0000002 (2).dcm',\n",
       " '/workspace/dataset_new/54369434/22-02-11_0000003 (3).dcm',\n",
       " '/workspace/dataset_new/51989389/20-11-09_0000003 (3).dcm',\n",
       " '/workspace/dataset_new/46594486/22-06-24_1000003 (3).dcm',\n",
       " '/workspace/dataset_new/51858827/22-03-10_1100003 (1).dcm',\n",
       " '/workspace/dataset_new/51870997/20-10-21_0000002 (2).dcm',\n",
       " '/workspace/dataset_new/49019061/2111180002.dcm',\n",
       " '/workspace/dataset_new/18003048/22-03-28_E(L)0001.dcm',\n",
       " '/workspace/dataset_new/51007713/19-09-24_220.dcm',\n",
       " '/workspace/dataset_new/49785856/21-11-240002.dcm',\n",
       " '/workspace/dataset_new/37726436/2201180002.dcm',\n",
       " '/workspace/dataset_new/43030907/20-11-24_0200003 (1).dcm',\n",
       " '/workspace/dataset_new/47169883/21-07-05_0000005 (4).dcm',\n",
       " '/workspace/dataset_new/52586031/22-03-310002.dcm',\n",
       " '/workspace/dataset_new/53577263/20-08-13_0000004 (4).dcm',\n",
       " '/workspace/dataset_new/53534273/22-04-27_1100003 (3).dcm',\n",
       " '/workspace/dataset_new/50409626/19-04-19_110.dcm',\n",
       " '/workspace/dataset_new/50792450/21-09-16_EL0003.dcm',\n",
       " '/workspace/dataset_new/50347177/19-08-16_0200002.dcm',\n",
       " '/workspace/dataset_new/44407896/22-04-200003.dcm',\n",
       " '/workspace/dataset_new/53036173/2110220003.dcm',\n",
       " '/workspace/dataset_new/50945780/20-06-040003.dcm',\n",
       " '/workspace/dataset_new/53282084/22-02-22_1000004 (3).dcm',\n",
       " '/workspace/dataset_new/51763967/20-03-16_0200002 (1).dcm',\n",
       " '/workspace/dataset_new/53241564/22-03-14_110.dcm',\n",
       " '/workspace/dataset_new/32889286/22012_00001.dcm',\n",
       " '/workspace/dataset_new/52781122/19-11-120001.dcm',\n",
       " '/workspace/dataset_new/51618322/22-03-30_0000003 (3).dcm',\n",
       " '/workspace/dataset_new/51335526/22-06-290002.dcm',\n",
       " '/workspace/dataset_new/42208048/21-04-02_0000002 (2).dcm',\n",
       " '/workspace/dataset_new/55112268/2201100003.dcm',\n",
       " '/workspace/dataset_new/44336583/21-09_01_0000003 (2).dcm',\n",
       " '/workspace/dataset_new/48774721/2107160002.dcm',\n",
       " '/workspace/dataset_new/49704725/20-04-10_1200001.dcm',\n",
       " '/workspace/dataset_new/46744375/2202230002.dcm',\n",
       " '/workspace/dataset_new/38938117/2205170004.dcm',\n",
       " '/workspace/dataset_new/43654170/21-07-030007.dcm',\n",
       " '/workspace/dataset_new/49164428/21-07-15_1100003 (1).dcm',\n",
       " '/workspace/dataset_new/50637700/20-04-08_0200002 (2).dcm',\n",
       " '/workspace/dataset_new/52707946/20-06-12_0200006 (1).dcm',\n",
       " '/workspace/dataset_new/49570364/2201080002.dcm',\n",
       " '/workspace/dataset_new/51318800/20-09-25_110.dcm',\n",
       " '/workspace/dataset_new/30530805/21-06-12_0000006 (4).dcm',\n",
       " '/workspace/dataset_new/48282703/2208220005.dcm',\n",
       " '/workspace/dataset_new/54042140/22-05-09_0000004 (3).dcm',\n",
       " '/workspace/dataset_new/50277052/19-08-05_0200002.dcm',\n",
       " '/workspace/dataset_new/53007973/20-2111090001.jpg',\n",
       " '/workspace/dataset_new/45863970/22-02-240001.dcm',\n",
       " '/workspace/dataset_new/51242369/22-04-20_0000002 (1).dcm',\n",
       " '/workspace/dataset_new/38034039/21-11-25_0000002 (1).dcm',\n",
       " '/workspace/dataset_new/51794264/22-01-18_110.dcm',\n",
       " '/workspace/dataset_new/50527360/22-04-12_0100001.dcm',\n",
       " '/workspace/dataset_new/26867212/2202280002.dcm',\n",
       " '/workspace/dataset_new/47429484/22-05-02_0000004 (3).dcm',\n",
       " '/workspace/dataset_new/38928552/21-07-19_0000001.dcm',\n",
       " '/workspace/dataset_new/36430112/22-06-280003.dcm',\n",
       " '/workspace/dataset_new/51777548/2106070005.dcm',\n",
       " '/workspace/dataset_new/52670486/21-11-16_1000002 (2).dcm',\n",
       " '/workspace/dataset_new/53377968/2208030001.dcm',\n",
       " '/workspace/dataset_new/53320931/20-09-05_110.dcm',\n",
       " '/workspace/dataset_new/50196069/22-04-18_1100003.dcm',\n",
       " '/workspace/dataset_new/53023456/21-10-12_1000002 (1).dcm',\n",
       " '/workspace/dataset_new/53460954/22-02-22_000.dcm',\n",
       " '/workspace/dataset_new/44796318/21-07-130003.dcm',\n",
       " '/workspace/dataset_new/51957407/21-09-300003.dcm',\n",
       " '/workspace/dataset_new/24845456/2201120002.dcm',\n",
       " '/workspace/dataset_new/54970106/2202230002.dcm',\n",
       " '/workspace/dataset_new/49587812/22-01-07_0200001 (2).dcm',\n",
       " '/workspace/dataset_new/52054907/21-04-16_0000001 (1).dcm',\n",
       " '/workspace/dataset_new/50798782/20-09-11_000.dcm',\n",
       " '/workspace/dataset_new/47647422/18-02-130003.dcm',\n",
       " '/workspace/dataset_new/29951558/18-11-050001.dcm',\n",
       " '/workspace/dataset_new/50897052/21-08-18_1200001.dcm',\n",
       " '/workspace/dataset_new/49513323/13-2111160000.jpg',\n",
       " '/workspace/dataset_new/52791011/22-06-13_0000002 (2).dcm',\n",
       " '/workspace/dataset_new/28827924/2112200001.dcm',\n",
       " '/workspace/dataset_new/51024484/2203100001.dcm',\n",
       " '/workspace/dataset_new/42433039/2205260002.dcm',\n",
       " '/workspace/dataset_new/44289834/19-2110060001.jpg',\n",
       " '/workspace/dataset_new/53804617/22-03-02_0000002 (2).dcm',\n",
       " '/workspace/dataset_new/25317891/22-07-15_0200004 (1).dcm',\n",
       " '/workspace/dataset_new/51344258/21-01-22_2200003 (3).dcm',\n",
       " '/workspace/dataset_new/50895861/21-04-13_0200003 (1).dcm',\n",
       " '/workspace/dataset_new/52552571/2204220002.dcm',\n",
       " '/workspace/dataset_new/28447210/22-02-180002.dcm',\n",
       " '/workspace/dataset_new/40376781/20-06-26_0000005 (4).dcm',\n",
       " '/workspace/dataset_new/26561514/2205210002.dcm',\n",
       " '/workspace/dataset_new/36769827/22-05-20_1000005 (5).dcm',\n",
       " '/workspace/dataset_new/54187771/2208110001.dcm',\n",
       " '/workspace/dataset_new/13716279/21-11-08_0200002 (1).dcm',\n",
       " '/workspace/dataset_new/27804531/4-0910280000.jpg',\n",
       " '/workspace/dataset_new/49026045/22-01-26_1100002 (2).dcm',\n",
       " '/workspace/dataset_new/47323942/20-08-04_0000003 (2).dcm',\n",
       " '/workspace/dataset_new/32598124/2201220001.dcm',\n",
       " '/workspace/dataset_new/49162941/21-02-05_120.dcm',\n",
       " '/workspace/dataset_new/38622537/2112310002.dcm',\n",
       " '/workspace/dataset_new/55045344/2202110001.dcm',\n",
       " '/workspace/dataset_new/55287775/2207270002.dcm',\n",
       " '/workspace/dataset_new/53572321/2208120005.dcm',\n",
       " '/workspace/dataset_new/51300157/20-08-12_2200004 (3).dcm',\n",
       " '/workspace/dataset_new/42455053/2112230003.dcm',\n",
       " '/workspace/dataset_new/53439943/22-04-040002.dcm',\n",
       " '/workspace/dataset_new/46941354/22-07-27_1000002 (2).dcm',\n",
       " '/workspace/dataset_new/54146965/2204280002.dcm',\n",
       " '/workspace/dataset_new/50048999/21-07-01_100.dcm',\n",
       " '/workspace/dataset_new/53006653/22-07-27_1100004 (2).dcm',\n",
       " '/workspace/dataset_new/50609572/21-10-130001.dcm',\n",
       " '/workspace/dataset_new/53684990/220107_0000001.dcm',\n",
       " '/workspace/dataset_new/51745178/21-12-220006.dcm',\n",
       " '/workspace/dataset_new/28705031/22-08-01_0000002 (2).dcm',\n",
       " '/workspace/dataset_new/46368702/2206220002.dcm',\n",
       " '/workspace/dataset_new/53984436/2202030002.dcm',\n",
       " '/workspace/dataset_new/42668455/7-1904250002.jpg',\n",
       " '/workspace/dataset_new/53111430/22-05-10_0200003 (3).dcm',\n",
       " '/workspace/dataset_new/53892258/21-08-27_00020005 (2).dcm',\n",
       " '/workspace/dataset_new/49490280/2108060003.dcm',\n",
       " '/workspace/dataset_new/52065116/20-11-26_000.dcm',\n",
       " '/workspace/dataset_new/37415837/22-02-210001.dcm',\n",
       " '/workspace/dataset_new/49637096/21-06-14_1000003 (2).dcm',\n",
       " '/workspace/dataset_new/52102123/21-06-08_000.dcm',\n",
       " '/workspace/dataset_new/34558658/21-12-23_1100003 (1).dcm',\n",
       " '/workspace/dataset_new/50588536/21-08-18_0200002 (1).dcm',\n",
       " '/workspace/dataset_new/48614540/191002_0100001.dcm',\n",
       " '/workspace/dataset_new/39114039/5-2109280001.jpg',\n",
       " '/workspace/dataset_new/50856998/220217_3100001.dcm',\n",
       " '/workspace/dataset_new/45146295/220122.dcm',\n",
       " '/workspace/dataset_new/53900919/21-09-06_1000002 (2).dcm',\n",
       " '/workspace/dataset_new/52108309/201120_110.dcm',\n",
       " '/workspace/dataset_new/51219376/22-08-03_H(R)0001.dcm',\n",
       " '/workspace/dataset_new/49317602/21-08-31_1200001 (2).dcm',\n",
       " '/workspace/dataset_new/54463507/21-07-09_0000004 (1).dcm',\n",
       " '/workspace/dataset_new/51986481/21-12-27_1000004 (4).dcm',\n",
       " '/workspace/dataset_new/53757052/2203150002.dcm',\n",
       " '/workspace/dataset_new/54488683/2206090001.dcm',\n",
       " '/workspace/dataset_new/50487936/21-02-05_120.dcm',\n",
       " '/workspace/dataset_new/53325246/22-01-07.dcm',\n",
       " '/workspace/dataset_new/52148181/20-06-23_0000004 (3).dcm',\n",
       " '/workspace/dataset_new/32814415/2107220002.dcm',\n",
       " '/workspace/dataset_new/51320081/21-06-25_1200002 (1).dcm',\n",
       " '/workspace/dataset_new/50238189/22-05-02_2200003 (3).dcm',\n",
       " '/workspace/dataset_new/53388487/2206030003.dcm',\n",
       " '/workspace/dataset_new/45554175/10-1501220005.jpg',\n",
       " '/workspace/dataset_new/36925526/22-07-12_0200003 (1).dcm',\n",
       " '/workspace/dataset_new/47904808/21-07-28_0000004 (1).dcm',\n",
       " '/workspace/dataset_new/51007814/19-10-11_120.dcm',\n",
       " '/workspace/dataset_new/51438843/21-08-25_1000005 (1).dcm',\n",
       " '/workspace/dataset_new/53333968/22-04-06_0000003 (3).dcm',\n",
       " '/workspace/dataset_new/48449599/21-12-130002.dcm',\n",
       " '/workspace/dataset_new/39748292/21-07-13_0000003 (1).dcm',\n",
       " '/workspace/dataset_new/32032097/19-07-22_1200002 (2).dcm',\n",
       " '/workspace/dataset_new/38422294/20-12-30_1000002 (2).dcm',\n",
       " '/workspace/dataset_new/28832490/2107200001.dcm',\n",
       " '/workspace/dataset_new/47772931/12-1806190002.jpg',\n",
       " '/workspace/dataset_new/35499529/211228.dcm',\n",
       " '/workspace/dataset_new/38528611/2110170003.dcm',\n",
       " '/workspace/dataset_new/52361744/2208110001.dcm',\n",
       " '/workspace/dataset_new/51601223/21-08-20_000.dcm',\n",
       " '/workspace/dataset_new/50681721/22-04-19_11.00002.dcm',\n",
       " '/workspace/dataset_new/47057005/21-10-040001.dcm',\n",
       " '/workspace/dataset_new/50673388/21-03-31_0200002 (2).dcm',\n",
       " '/workspace/dataset_new/48387381/20-05-29_0200001.dcm',\n",
       " '/workspace/dataset_new/32972708/22-06-10_1100004 (5).dcm',\n",
       " '/workspace/dataset_new/26295413/20-10-24_1000002 (2).dcm',\n",
       " '/workspace/dataset_new/52049619/20-10-30_0200002 (1).dcm',\n",
       " '/workspace/dataset_new/50821891/20-07-22_020.dcm',\n",
       " '/workspace/dataset_new/29850857/22-04-22_1100003 (2).dcm',\n",
       " '/workspace/dataset_new/52808591/22-01-140001.dcm',\n",
       " '/workspace/dataset_new/51549022/21-01-19_1000003 (2).dcm',\n",
       " '/workspace/dataset_new/51551436/20-04-03_1200001.dcm',\n",
       " '/workspace/dataset_new/54025873/18-2108190005.jpg',\n",
       " '/workspace/dataset_new/50258873/21-07-01_1100002 (1).dcm',\n",
       " '/workspace/dataset_new/23988127/191210_0100002.dcm',\n",
       " '/workspace/dataset_new/23894828/2203080001.dcm',\n",
       " '/workspace/dataset_new/53757526/2206130001.dcm',\n",
       " '/workspace/dataset_new/51186382/20-05-21_1200002 (1).dcm',\n",
       " '/workspace/dataset_new/53548405/20-12-28_0000003 (3).dcm',\n",
       " '/workspace/dataset_new/51246260/21-08-02_0200005.dcm',\n",
       " '/workspace/dataset_new/51759379/21-01-13_020.dcm',\n",
       " '/workspace/dataset_new/26595005/22-07-20_0000004 (2).dcm',\n",
       " '/workspace/dataset_new/55648224/2209190003.dcm',\n",
       " '/workspace/dataset_new/54671904/2209140002.dcm',\n",
       " '/workspace/dataset_new/51468697/21-0603_0200002 (1).dcm',\n",
       " '/workspace/dataset_new/48035488/2202220002.dcm',\n",
       " '/workspace/dataset_new/52839432/220715.dcm',\n",
       " '/workspace/dataset_new/54491836/2206170002.dcm',\n",
       " '/workspace/dataset_new/51959629/21-10-29(L)E0002.dcm',\n",
       " '/workspace/dataset_new/55321132/2208080001.dcm',\n",
       " '/workspace/dataset_new/35693840/22-05-14_0000004 (2).dcm',\n",
       " '/workspace/dataset_new/52126655/22-04-06_0000005 (3).dcm',\n",
       " '/workspace/dataset_new/47115709/2110060003.dcm',\n",
       " '/workspace/dataset_new/52134663/21-09-03_0100001 (2).dcm',\n",
       " '/workspace/dataset_new/70670701/21-06-29_1100003 (3).dcm',\n",
       " '/workspace/dataset_new/51603856/15-2108180000.jpg',\n",
       " '/workspace/dataset_new/53610432/20-10-31_0000004 (3).dcm',\n",
       " '/workspace/dataset_new/54229497/2208030001.dcm',\n",
       " '/workspace/dataset_new/51139184/2206240001.dcm',\n",
       " '/workspace/dataset_new/42068459/21-12-130002.dcm',\n",
       " '/workspace/dataset_new/46416632/22-06-28_0000002 (1).dcm',\n",
       " '/workspace/dataset_new/51870942/20-04-08_110.dcm',\n",
       " '/workspace/dataset_new/39562823/21-10-280001.dcm',\n",
       " '/workspace/dataset_new/50683563/21-10-30_2200001.dcm',\n",
       " '/workspace/dataset_new/51039936/21-10-29_1200004 (1).dcm',\n",
       " '/workspace/dataset_new/51039936/jpg/21-10-290003.jpg',\n",
       " '/workspace/dataset_new/51881911/22-08-24_1200002 (1).dcm',\n",
       " '/workspace/dataset_new/51627597/22-07-06_220.dcm',\n",
       " '/workspace/dataset_new/55233228/2207060002.dcm',\n",
       " '/workspace/dataset_new/48399889/2207270002.dcm',\n",
       " '/workspace/dataset_new/50516865/19-11-27_0200002 (2).dcm',\n",
       " '/workspace/dataset_new/52655247/2109270002.dcm',\n",
       " '/workspace/dataset_new/51340612/21-06-160001.dcm',\n",
       " '/workspace/dataset_new/53549198/2201190003.dcm',\n",
       " '/workspace/dataset_new/51963673/22-04-01_1100002 (2).dcm',\n",
       " '/workspace/dataset_new/52730807/20-06-12_0200003 (2).dcm',\n",
       " '/workspace/dataset_new/54514133/2109090003.dcm',\n",
       " '/workspace/dataset_new/30516722/2003200002.dcm',\n",
       " '/workspace/dataset_new/50678150/21-05-10_0000002 (2).dcm',\n",
       " '/workspace/dataset_new/52708932/21-07-14_1100002 (1).dcm',\n",
       " '/workspace/dataset_new/51181983/22-08-12_1000003 (1).dcm',\n",
       " '/workspace/dataset_new/50900965/22-03-10_1100002 (2).dcm',\n",
       " '/workspace/dataset_new/51161871/22-06-24_0200003 (1).dcm',\n",
       " '/workspace/dataset_new/45367838/20-07-15_000.dcm',\n",
       " '/workspace/dataset_new/24245265/21-09-14_0000004 (2).dcm',\n",
       " '/workspace/dataset_new/44487119/22-06-30.dcm',\n",
       " '/workspace/dataset_new/72422256/2112290004.dcm',\n",
       " '/workspace/dataset_new/42328074/20-10-29_1100004 (4).dcm',\n",
       " '/workspace/dataset_new/50404094/21-08-26_1100002.dcm',\n",
       " '/workspace/dataset_new/52009945/22-07-04_0000003 (3).dcm',\n",
       " '/workspace/dataset_new/51868141/22-03-24_0000001 (2).dcm',\n",
       " '/workspace/dataset_new/51408392/19-12-24_2200001.dcm',\n",
       " '/workspace/dataset_new/53067689/21-08-090002.dcm',\n",
       " '/workspace/dataset_new/33744540/21-04-06_1000002 (1).dcm',\n",
       " '/workspace/dataset_new/53852243/22-04-22_0000004 (1).dcm',\n",
       " '/workspace/dataset_new/52622425/20-04-28_020.dcm',\n",
       " '/workspace/dataset_new/34352456/22-08-25_1100003 (1).dcm',\n",
       " '/workspace/dataset_new/15381198/21-10-28_0000002 (1).dcm',\n",
       " '/workspace/dataset_new/53519647/20-10-24_0000004 (3).dcm',\n",
       " '/workspace/dataset_new/50518607/20-03-24_110.dcm',\n",
       " '/workspace/dataset_new/51603894/22-03-14_0200007 (2).dcm',\n",
       " '/workspace/dataset_new/28152644/21-07-14_000.dcm',\n",
       " '/workspace/dataset_new/28170976/1_0701110004.jpg',\n",
       " '/workspace/dataset_new/52221086/21-08-02_1100004 (1).dcm',\n",
       " '/workspace/dataset_new/18022126/21-01-26_0000002 (2).dcm',\n",
       " '/workspace/dataset_new/50873094/20-01-28_0200001.dcm',\n",
       " '/workspace/dataset_new/50419180/21-02-23_1100001 (2).dcm',\n",
       " '/workspace/dataset_new/51421650/20-07-15_110.dcm',\n",
       " '/workspace/dataset_new/16515019/2204270001.dcm',\n",
       " '/workspace/dataset_new/53361761/2207280003.dcm',\n",
       " '/workspace/dataset_new/51528328/20-08-24_1100002 (2).dcm',\n",
       " '/workspace/dataset_new/53577225/2112080005.dcm',\n",
       " '/workspace/dataset_new/49271023/2207290002.dcm',\n",
       " '/workspace/dataset_new/50559134/22-03-16_1200001.dcm',\n",
       " '/workspace/dataset_new/21752252/22-05-30_2200001.dcm',\n",
       " '/workspace/dataset_new/30035829/11-1703220000.jpg',\n",
       " '/workspace/dataset_new/39276007/2110050002.dcm',\n",
       " '/workspace/dataset_new/49541892/21-09-16_1100002 (1).dcm',\n",
       " '/workspace/dataset_new/49970926/20-07-07_0000001 (2).dcm',\n",
       " '/workspace/dataset_new/16535037/21-05-25_1100006 (6).dcm',\n",
       " '/workspace/dataset_new/36463965/22-02-17_110.dcm',\n",
       " '/workspace/dataset_new/52840797/22-09-02_1100004 (4).dcm',\n",
       " '/workspace/dataset_new/44323462/22-02-18_100.dcm',\n",
       " '/workspace/dataset_new/50020085/21-07-05_120.dcm',\n",
       " '/workspace/dataset_new/52508808/20-10-30_1100001 (3).dcm',\n",
       " '/workspace/dataset_new/53230223/2111020003.dcm',\n",
       " '/workspace/dataset_new/52315044/21-05-21_0000003 (1).dcm',\n",
       " '/workspace/dataset_new/52242502/22-02-23_0000003 (1).dcm',\n",
       " '/workspace/dataset_new/48452836/21-09-16_0200003 (2).dcm',\n",
       " '/workspace/dataset_new/53661315/22-01-17_000.dcm',\n",
       " '/workspace/dataset_new/48707752/22-06-270003.dcm',\n",
       " '/workspace/dataset_new/43520075/20-04-01_0200002 (4).dcm',\n",
       " '/workspace/dataset_new/41398436/21-03-09_0100002 (1).dcm',\n",
       " '/workspace/dataset_new/29225437/2205260002.dcm',\n",
       " '/workspace/dataset_new/54173222/22-08-18_0000002 (1).dcm',\n",
       " '/workspace/dataset_new/52266546/22-04-21_0000005 (4).dcm',\n",
       " '/workspace/dataset_new/38812277/20-10-14_010.dcm',\n",
       " '/workspace/dataset_new/52378658/21-05-31_0000002 (2).dcm',\n",
       " '/workspace/dataset_new/49588668/2205190002.dcm',\n",
       " '/workspace/dataset_new/70282298/200313_0100002.dcm',\n",
       " '/workspace/dataset_new/54512353/2112280002.dcm',\n",
       " '/workspace/dataset_new/55437804/2202180003.dcm',\n",
       " '/workspace/dataset_new/52960196/22-04-29_1100004 (2).dcm',\n",
       " '/workspace/dataset_new/51361789/19-11-22_0200002 (1).dcm',\n",
       " '/workspace/dataset_new/30435760/21-08-20_1100004 (3).dcm',\n",
       " '/workspace/dataset_new/51101615/22-04-11_0000001.dcm',\n",
       " '/workspace/dataset_new/53433983/22-01-27_1100003.dcm',\n",
       " '/workspace/dataset_new/70146354/2206020001.dcm',\n",
       " '/workspace/dataset_new/52951798/2202140002.dcm',\n",
       " '/workspace/dataset_new/55657381/2202150002.dcm',\n",
       " '/workspace/dataset_new/53409966/21-09-25_1100002 (1).dcm',\n",
       " '/workspace/dataset_new/52237199/22-02-14_0000002 (1).dcm',\n",
       " '/workspace/dataset_new/54556579/2201170002.dcm',\n",
       " '/workspace/dataset_new/42861968/2204180001.dcm',\n",
       " '/workspace/dataset_new/49544606/20-08-11_0100004 (1).dcm',\n",
       " '/workspace/dataset_new/46662404/20-12-22_0000003 (3).dcm',\n",
       " '/workspace/dataset_new/51692700/20-12-14_1000002 (6).dcm',\n",
       " '/workspace/dataset_new/51960061/21-10-01_0000003 (2).dcm',\n",
       " '/workspace/dataset_new/52362709/21-12-23_0000005 (1).dcm',\n",
       " '/workspace/dataset_new/53287180/22-05-09_0000003 (3).dcm',\n",
       " '/workspace/dataset_new/48619514/21-12-28_2000001.dcm',\n",
       " '/workspace/dataset_new/51590549/22-01-25_1100003 (2).dcm',\n",
       " '/workspace/dataset_new/50166842/22-03-03_2200005 (4).dcm',\n",
       " '/workspace/dataset_new/45722714/2102160002.dcm',\n",
       " '/workspace/dataset_new/51664217/20-08-29_0000002 (1).dcm',\n",
       " '/workspace/dataset_new/46045643/21-08-05_0200001 (1).dcm',\n",
       " '/workspace/dataset_new/16286568/21-08-11_0000002 (1).dcm',\n",
       " '/workspace/dataset_new/52369894/21-02-04_1000003 (1).dcm',\n",
       " '/workspace/dataset_new/51936549/22-06-22_1000003 (1).dcm',\n",
       " '/workspace/dataset_new/49851993/19-07-30_1100002 (2).dcm',\n",
       " '/workspace/dataset_new/41370832/21-07-13_0000003 (1).dcm',\n",
       " '/workspace/dataset_new/52746244/21-06-14_0000002 (1).dcm',\n",
       " '/workspace/dataset_new/41019067/22-03-02_1100002 (1).dcm',\n",
       " '/workspace/dataset_new/51314581/20-10-28_0000004 (4).dcm',\n",
       " '/workspace/dataset_new/53762179/20-12-15_100.dcm',\n",
       " '/workspace/dataset_new/54156157/2206230002.dcm',\n",
       " '/workspace/dataset_new/52525959/21-08-26_0000002 (2).dcm',\n",
       " '/workspace/dataset_new/37043287/22-06-02_110.dcm',\n",
       " '/workspace/dataset_new/27127397/22-01-28_000.dcm',\n",
       " '/workspace/dataset_new/19834904/21-09-24_0200004 (4).dcm',\n",
       " '/workspace/dataset_new/55309947/2207160005.dcm',\n",
       " '/workspace/dataset_new/42769598/21-12-30_0000002 (2).dcm',\n",
       " '/workspace/dataset_new/17969640/20-11-24_0000003 (2).dcm',\n",
       " '/workspace/dataset_new/31467203/21-07-05_(HL).dcm',\n",
       " '/workspace/dataset_new/51848875/20-08-27_1100002 (2).dcm',\n",
       " '/workspace/dataset_new/30464085/22-04-11_0000004 (3).dcm',\n",
       " '/workspace/dataset_new/53441939/22-05-02_0000001 (2).dcm',\n",
       " '/workspace/dataset_new/37987178/19-11-11_020.dcm',\n",
       " '/workspace/dataset_new/52303382/19-10-07_1200002 (1).dcm',\n",
       " '/workspace/dataset_new/49830059/2206200004.dcm',\n",
       " '/workspace/dataset_new/52361410/22-04-01_CL0004.dcm',\n",
       " '/workspace/dataset_new/50425387/22-07-25_0200003 (3).dcm',\n",
       " '/workspace/dataset_new/51965941/21-09-290001.dcm',\n",
       " '/workspace/dataset_new/52757439/20-11-05_0000002 (1).dcm',\n",
       " '/workspace/dataset_new/24915920/2-1105110000.jpg',\n",
       " '/workspace/dataset_new/53604398/201120.dcm',\n",
       " '/workspace/dataset_new/50205451/21-10-01_1000002 (3).dcm',\n",
       " '/workspace/dataset_new/34716454/21-07-29_110.dcm']"
      ]
     },
     "execution_count": 23,
     "metadata": {},
     "output_type": "execute_result"
    }
   ],
   "source": [
    "dcm_all"
   ]
  },
  {
   "cell_type": "code",
   "execution_count": 24,
   "metadata": {},
   "outputs": [],
   "source": [
    "dcm = pydicom.dcmread('/workspace/dataset_new/13716279/21-11-08_0200002 (2).dcm')"
   ]
  },
  {
   "cell_type": "code",
   "execution_count": 25,
   "metadata": {},
   "outputs": [],
   "source": [
    "img = dcm.pixel_array"
   ]
  },
  {
   "cell_type": "code",
   "execution_count": 26,
   "metadata": {},
   "outputs": [
    {
     "name": "stdout",
     "output_type": "stream",
     "text": [
      "error:  /workspace/dataset_new/29473483/8-1104060002.jpg\n",
      "error:  /workspace/dataset_new/29473483/8-1104060001.jpg\n",
      "error:  /workspace/dataset_new/29473483/8-0604130000.jpg\n",
      "error:  /workspace/dataset_new/29473483/8-0904070000.jpg\n",
      "error:  /workspace/dataset_new/29473483/8-1104060000.jpg\n",
      "error:  /workspace/dataset_new/29473483/8-0604130001.jpg\n",
      "error:  /workspace/dataset_new/29473483/8-1004060000.jpg\n",
      "error:  /workspace/dataset_new/29473483/8-0604130002.jpg\n",
      "error:  /workspace/dataset_new/29473483/9-0404010001.jpg\n",
      "error:  /workspace/dataset_new/29473483/8-1004060002.jpg\n",
      "error:  /workspace/dataset_new/29473483/8-1004060001.jpg\n",
      "error:  /workspace/dataset_new/29473483/9-0404010000.jpg\n",
      "error:  /workspace/dataset_new/29473483/8-0704190000.jpg\n",
      "error:  /workspace/dataset_new/48368645/16-2204150000.jpg\n",
      "error:  /workspace/dataset_new/48368645/16-2104150000.jpg\n",
      "error:  /workspace/dataset_new/48368645/16-2204150001.jpg\n",
      "error:  /workspace/dataset_new/48368645/16-2110250000.jpg\n",
      "error:  /workspace/dataset_new/48368645/16-2204150002.jpg\n",
      "error:  /workspace/dataset_new/48368645/16-2104150001.jpg\n",
      "error:  /workspace/dataset_new/49479663/2202250002.dcm\n",
      "error:  /workspace/dataset_new/49479663/2202250003.dcm\n",
      "error:  /workspace/dataset_new/49479663/2202250001.dcm\n",
      "error:  /workspace/dataset_new/49479663/200804.dcm\n",
      "error:  /workspace/dataset_new/37782140/3-0909040003.jpg\n",
      "error:  /workspace/dataset_new/37782140/3-0909040000.jpg\n",
      "error:  /workspace/dataset_new/37782140/3-1110120001.jpg\n",
      "error:  /workspace/dataset_new/37782140/3-0909040001.jpg\n",
      "error:  /workspace/dataset_new/37782140/3-0909040002.jpg\n",
      "error:  /workspace/dataset_new/37782140/3-0909040004.jpg\n",
      "error:  /workspace/dataset_new/37782140/3-1010040000.jpg\n",
      "error:  /workspace/dataset_new/37782140/3-1110120003.jpg\n",
      "error:  /workspace/dataset_new/37782140/3-1110120002.jpg\n",
      "error:  /workspace/dataset_new/37782140/3-1110120000.jpg\n",
      "error:  /workspace/dataset_new/40663029/6_1612090001.jpg\n",
      "error:  /workspace/dataset_new/40663029/6_1109300000.jpg\n",
      "error:  /workspace/dataset_new/40663029/6_1412200001.jpg\n",
      "error:  /workspace/dataset_new/40663029/6_1910100000.jpg\n",
      "error:  /workspace/dataset_new/40663029/6_2204140002.jpg\n",
      "error:  /workspace/dataset_new/40663029/6_1910100003.jpg\n",
      "error:  /workspace/dataset_new/40663029/6_1612090000.jpg\n",
      "error:  /workspace/dataset_new/40663029/6_1305090000.jpg\n",
      "error:  /workspace/dataset_new/40663029/6_1412200002.jpg\n",
      "error:  /workspace/dataset_new/40663029/6_2204140000.jpg\n",
      "error:  /workspace/dataset_new/40663029/6_1412200000.jpg\n",
      "error:  /workspace/dataset_new/40663029/6_1910100001.jpg\n",
      "error:  /workspace/dataset_new/40663029/6_2204140001.jpg\n",
      "error:  /workspace/dataset_new/40663029/6_1910100002.jpg\n",
      "error:  /workspace/dataset_new/40663029/6_1205170000.jpg\n",
      "error:  /workspace/dataset_new/50400193/14-2110200002.jpg\n",
      "error:  /workspace/dataset_new/50400193/14-2003190000.jpg\n",
      "error:  /workspace/dataset_new/50400193/14-2003190001.jpg\n",
      "error:  /workspace/dataset_new/50400193/14-2110200001.jpg\n",
      "error:  /workspace/dataset_new/50400193/14-2103290000.jpg\n",
      "error:  /workspace/dataset_new/50400193/14-2110200000.jpg\n",
      "error:  /workspace/dataset_new/50032204/17-2202050000.jpg\n",
      "error:  /workspace/dataset_new/50032204/17-2202050001.jpg\n",
      "error:  /workspace/dataset_new/50032204/17-2202050002.jpg\n",
      "error:  /workspace/dataset_new/27578096/20-05-07_100.dcm\n",
      "error:  /workspace/dataset_new/27578096/20-05-07_110.dcm\n",
      "error:  /workspace/dataset_new/44065672/9-1903060001.jpg\n",
      "error:  /workspace/dataset_new/44065672/9-1501260000.jpg\n",
      "error:  /workspace/dataset_new/44065672/9-2108240000.jpg\n",
      "error:  /workspace/dataset_new/44065672/9-2108240002.jpg\n",
      "error:  /workspace/dataset_new/44065672/9-1903060002.jpg\n",
      "error:  /workspace/dataset_new/44065672/9-1401210002.jpg\n",
      "error:  /workspace/dataset_new/44065672/9-1501260002.jpg\n",
      "error:  /workspace/dataset_new/44065672/9-1401210003.jpg\n",
      "error:  /workspace/dataset_new/44065672/9-1903060000.jpg\n",
      "error:  /workspace/dataset_new/44065672/9-2108240001.jpg\n",
      "error:  /workspace/dataset_new/44065672/9-1401210000.jpg\n",
      "error:  /workspace/dataset_new/44065672/9-1501260001.jpg\n",
      "error:  /workspace/dataset_new/44065672/9-1401210001.jpg\n",
      "error:  /workspace/dataset_new/54721119/2203080001.dcm\n",
      "error:  /workspace/dataset_new/54721119/2203080002.dcm\n",
      "error:  /workspace/dataset_new/49019061/2111180002.dcm\n",
      "error:  /workspace/dataset_new/49019061/2111180003.dcm\n",
      "error:  /workspace/dataset_new/49019061/2111180001.dcm\n",
      "error:  /workspace/dataset_new/43654170/21-07-030007.dcm\n",
      "error:  /workspace/dataset_new/43654170/21-07-030001.dcm\n",
      "error:  /workspace/dataset_new/43654170/21-07-030005.dcm\n",
      "error:  /workspace/dataset_new/43654170/21-07-030002.dcm\n",
      "error:  /workspace/dataset_new/43654170/21-07-030004.dcm\n",
      "error:  /workspace/dataset_new/43654170/21-07-030003.dcm\n",
      "error:  /workspace/dataset_new/43654170/21-07-030006.dcm\n",
      "error:  /workspace/dataset_new/53007973/20-2111090001.jpg\n",
      "error:  /workspace/dataset_new/53007973/20-2111090000.jpg\n",
      "error:  /workspace/dataset_new/49513323/13-2111160000.jpg\n",
      "error:  /workspace/dataset_new/49513323/13-2008210000.jpg\n",
      "error:  /workspace/dataset_new/49513323/13-2104230000.jpg\n",
      "error:  /workspace/dataset_new/49513323/13-2111160001.jpg\n",
      "error:  /workspace/dataset_new/44289834/19-2110060001.jpg\n",
      "error:  /workspace/dataset_new/44289834/19-2204220000.jpg\n",
      "error:  /workspace/dataset_new/44289834/19-2110060000.jpg\n",
      "error:  /workspace/dataset_new/27804531/4-0910280000.jpg\n",
      "error:  /workspace/dataset_new/27804531/4-0910280001.jpg\n",
      "error:  /workspace/dataset_new/27804531/4-0910280002.jpg\n",
      "error:  /workspace/dataset_new/42668455/7-1904250002.jpg\n",
      "error:  /workspace/dataset_new/42668455/7-1904250003.jpg\n",
      "error:  /workspace/dataset_new/42668455/7-1604110001.jpg\n",
      "error:  /workspace/dataset_new/42668455/7-2104190000.jpg\n",
      "error:  /workspace/dataset_new/42668455/7-1904250000.jpg\n",
      "error:  /workspace/dataset_new/42668455/7-1401060002.jpg\n",
      "error:  /workspace/dataset_new/42668455/7-1401060001.jpg\n",
      "error:  /workspace/dataset_new/42668455/7-1904250001.jpg\n",
      "error:  /workspace/dataset_new/42668455/7-1604110000.jpg\n",
      "error:  /workspace/dataset_new/42668455/7-2204180000.jpg\n",
      "error:  /workspace/dataset_new/42668455/7-1401060000.jpg\n",
      "error:  /workspace/dataset_new/42668455/7-2204180001.jpg\n",
      "error:  /workspace/dataset_new/39114039/5-2109280001.jpg\n",
      "error:  /workspace/dataset_new/39114039/5-1909300000.jpg\n",
      "error:  /workspace/dataset_new/39114039/5-1509090000.jpg\n",
      "error:  /workspace/dataset_new/39114039/5-1209190000.jpg\n",
      "error:  /workspace/dataset_new/39114039/5-2109280000.jpg\n",
      "error:  /workspace/dataset_new/39114039/5-1308280000.jpg\n",
      "error:  /workspace/dataset_new/45554175/10-1501220005.jpg\n",
      "error:  /workspace/dataset_new/45554175/10-2112140003.jpg\n",
      "error:  /workspace/dataset_new/45554175/10-2112140004.jpg\n",
      "error:  /workspace/dataset_new/45554175/10-2112140000.jpg\n",
      "error:  /workspace/dataset_new/45554175/10-1703230000.jpg\n",
      "error:  /workspace/dataset_new/45554175/10-1501220003.jpg\n",
      "error:  /workspace/dataset_new/45554175/10-1501220006.jpg\n",
      "error:  /workspace/dataset_new/45554175/10-2112140001.jpg\n",
      "error:  /workspace/dataset_new/45554175/10-1703230001.jpg\n",
      "error:  /workspace/dataset_new/45554175/10-1610200000.jpg\n",
      "error:  /workspace/dataset_new/45554175/10-2112140005.jpg\n",
      "error:  /workspace/dataset_new/45554175/10-1501220000.jpg\n",
      "error:  /workspace/dataset_new/45554175/10-1501220001.jpg\n",
      "error:  /workspace/dataset_new/45554175/10-1501220002.jpg\n",
      "error:  /workspace/dataset_new/45554175/10-1501220004.jpg\n",
      "error:  /workspace/dataset_new/45554175/10-2112140002.jpg\n",
      "error:  /workspace/dataset_new/47772931/12-1806190002.jpg\n",
      "error:  /workspace/dataset_new/47772931/12-2004030002.jpg\n",
      "error:  /workspace/dataset_new/47772931/12-1910040001.jpg\n",
      "error:  /workspace/dataset_new/47772931/12-1806190001.jpg\n",
      "error:  /workspace/dataset_new/47772931/12-1806190000.jpg\n",
      "error:  /workspace/dataset_new/47772931/12-1910040000.jpg\n",
      "error:  /workspace/dataset_new/47772931/12-2004030004.jpg\n",
      "error:  /workspace/dataset_new/47772931/12-2004030000.jpg\n",
      "error:  /workspace/dataset_new/47772931/12-2004030003.jpg\n",
      "error:  /workspace/dataset_new/47772931/12-2004030001.jpg\n",
      "error:  /workspace/dataset_new/54025873/18-2108190005.jpg\n",
      "error:  /workspace/dataset_new/54025873/18-2108190002.jpg\n",
      "error:  /workspace/dataset_new/54025873/18-2203020001.jpg\n",
      "error:  /workspace/dataset_new/54025873/18-2203020000.jpg\n",
      "error:  /workspace/dataset_new/54025873/18-2108190003.jpg\n",
      "error:  /workspace/dataset_new/54025873/18-2108190001.jpg\n",
      "error:  /workspace/dataset_new/54025873/18-2108190004.jpg\n",
      "error:  /workspace/dataset_new/54025873/18-2108190000.jpg\n",
      "error:  /workspace/dataset_new/51603856/15-2108180000.jpg\n",
      "error:  /workspace/dataset_new/51603856/15-2202250000.jpg\n",
      "error:  /workspace/dataset_new/51039936/jpg/21-10-290003.jpg\n",
      "error:  /workspace/dataset_new/51039936/jpg/20-10-080001.jpg\n",
      "error:  /workspace/dataset_new/51039936/jpg/21-10-290004.jpg\n",
      "error:  /workspace/dataset_new/51039936/jpg/21-10-290002.jpg\n",
      "error:  /workspace/dataset_new/51039936/jpg/22-06-030002.jpg\n",
      "error:  /workspace/dataset_new/51039936/jpg/21-10-290001.jpg\n",
      "error:  /workspace/dataset_new/51039936/jpg/22-06-030001.jpg\n",
      "error:  /workspace/dataset_new/51039936/jpg/19-09-27.jpg\n",
      "error:  /workspace/dataset_new/51039936/jpg/20-10-080002.jpg\n",
      "error:  /workspace/dataset_new/28170976/1_0701110004.jpg\n",
      "error:  /workspace/dataset_new/28170976/1_0102210000.jpg\n",
      "error:  /workspace/dataset_new/28170976/1_0701110002.jpg\n",
      "error:  /workspace/dataset_new/28170976/1_0701110001.jpg\n",
      "error:  /workspace/dataset_new/28170976/1_0701110003.jpg\n",
      "error:  /workspace/dataset_new/28170976/1_0102210002.jpg\n",
      "error:  /workspace/dataset_new/28170976/1_0102210003.jpg\n",
      "error:  /workspace/dataset_new/28170976/1_0304020000.jpg\n",
      "error:  /workspace/dataset_new/28170976/1_0701110000.jpg\n",
      "error:  /workspace/dataset_new/28170976/1_0102210001.jpg\n",
      "error:  /workspace/dataset_new/30035829/11-1703220000.jpg\n",
      "error:  /workspace/dataset_new/30035829/11-1810260000.jpg\n",
      "error:  /workspace/dataset_new/30035829/11-1911080001.jpg\n",
      "error:  /workspace/dataset_new/30035829/11-1911080000.jpg\n",
      "error:  /workspace/dataset_new/30035829/11-2011230000.jpg\n",
      "error:  /workspace/dataset_new/30035829/11-2011230001.jpg\n",
      "error:  /workspace/dataset_new/24915920/2-1105110000.jpg\n",
      "error:  /workspace/dataset_new/24915920/2-1406110000.jpg\n",
      "error:  /workspace/dataset_new/24915920/2-1707180000.jpg\n",
      "error:  /workspace/dataset_new/24915920/2-1105110001.jpg\n",
      "error:  /workspace/dataset_new/24915920/2-0811030000.jpg\n",
      "error:  /workspace/dataset_new/24915920/2-0811030004.jpg\n",
      "error:  /workspace/dataset_new/24915920/2-0811030002.jpg\n",
      "error:  /workspace/dataset_new/24915920/2-0904250000.jpg\n",
      "error:  /workspace/dataset_new/24915920/2-0811030001.jpg\n",
      "error:  /workspace/dataset_new/24915920/2-0811030003.jpg\n",
      "error:  /workspace/dataset_new/24915920/2-0904250001.jpg\n",
      "error:  /workspace/dataset_new/24915920/2-0811030005.jpg\n"
     ]
    }
   ],
   "source": [
    "t_ct = []\n",
    "# 이미지로 변환 성공한 url\n",
    "f_ct = []\n",
    "# 이미지로 변환 실패한 url\n",
    "dcm_all = []\n",
    "# dicom 전체 url\n",
    "\n",
    "## True df 구성 ##\n",
    "img_arr = []\n",
    "# img array\n",
    "lb_arr = []\n",
    "# label array\n",
    "path_arr = []\n",
    "# path array\n",
    "\n",
    "## False df 구성 ##\n",
    "#f_img_arr = []\n",
    "# img array\n",
    "f_lb_arr = []\n",
    "# label array\n",
    "#f_path_arr = []\n",
    "# path array\n",
    "\n",
    "\n",
    "\n",
    "for top, _, f in os.walk(img_path):\n",
    "    # img_path에 접근하여 폴더별로 이미지에 접근한다.\n",
    "    # top은 img_path/세부경로\n",
    "    # f는 환자별 image file 이름\n",
    "    for ix, filename in enumerate(f):\n",
    "        # 그중 f는 각 환자 폴더 안의 이미지 전부의 주소이다.\n",
    "        # filename은 그 중 하나에 접근.\n",
    "        url = os.path.join(top,filename)\n",
    "        # 세부 이미지 경로\n",
    "        id = int(url.split('/')[3])\n",
    "        # 환자 number\n",
    "        dcm_all.append(url)\n",
    "        # dicom 전체 url\n",
    "        try:\n",
    "            label = data[data['ID'] == id].iloc[0].Implant\n",
    "            # label을 csv의 Implant에 해당하는 값으로 지정\n",
    "            dcm = pydicom.dcmread(url)\n",
    "            # dcm read\n",
    "            img = dcm.pixel_array\n",
    "            # try 적용 영역 : 변환이 안되면 except 문으로\n",
    "        \n",
    "        \n",
    "            lb_arr.append(label)\n",
    "            # label 순서대로 더하기 : df에 사용\n",
    "            img_arr.append(img)\n",
    "            # array 순서대로 더하기 : df에 사용\n",
    "            # dcm2array\n",
    "            save_img = Image.fromarray(img)\n",
    "            # array2img\n",
    "            t_ct.append(url)\n",
    "            # 성공적으로 읽어온 rul\n",
    "            save_path = '/workspace/pre_dataset/' + label\n",
    "            # 이미지로 저장할 label url : label별로 저장\n",
    "            img_save_path = save_path + '/' + url.split('/')[-2]+ str(ix) + '.jpg'\n",
    "            path_arr.append(img_save_path)\n",
    "            # 이미지 세부 경로 순서대로 더하기 : df에 사용\n",
    "            # label url에 세부적으로 저장할 img url, 중복된 이미지명 존재로 인해 index도 이름에 같이 넣어준다.\n",
    "            #if not os.path.isdir(save_path):\n",
    "             #   os.makedirs(save_path)\n",
    "                # 폴더가 없으면 생성\n",
    "           # save_img.save(img_save_path)\n",
    "            # 이미지 저장\n",
    "\n",
    "        except:\n",
    "            f_ct.append(url)\n",
    "            try:\n",
    "                f_lb_arr.append(label)\n",
    "            except:\n",
    "                f_lb_arr.append('NaN')\n",
    "            # dicom으로 읽지 못한 url 저장\n",
    "\n",
    "            print('error: ' , url)"
   ]
  },
  {
   "cell_type": "code",
   "execution_count": 47,
   "metadata": {},
   "outputs": [
    {
     "name": "stdout",
     "output_type": "stream",
     "text": [
      "error:  /workspace/dataset_new/29473483/8-1104060002.jpg\n",
      "error:  /workspace/dataset_new/29473483/8-1104060001.jpg\n",
      "error:  /workspace/dataset_new/29473483/8-0604130000.jpg\n",
      "error:  /workspace/dataset_new/29473483/8-0904070000.jpg\n",
      "error:  /workspace/dataset_new/29473483/8-1104060000.jpg\n",
      "error:  /workspace/dataset_new/29473483/8-0604130001.jpg\n",
      "error:  /workspace/dataset_new/29473483/8-1004060000.jpg\n",
      "error:  /workspace/dataset_new/29473483/8-0604130002.jpg\n",
      "error:  /workspace/dataset_new/29473483/9-0404010001.jpg\n",
      "error:  /workspace/dataset_new/29473483/8-1004060002.jpg\n",
      "error:  /workspace/dataset_new/29473483/8-1004060001.jpg\n",
      "error:  /workspace/dataset_new/29473483/9-0404010000.jpg\n",
      "error:  /workspace/dataset_new/29473483/8-0704190000.jpg\n",
      "error:  /workspace/dataset_new/48368645/16-2204150000.jpg\n",
      "error:  /workspace/dataset_new/48368645/16-2104150000.jpg\n",
      "error:  /workspace/dataset_new/48368645/16-2204150001.jpg\n",
      "error:  /workspace/dataset_new/48368645/16-2110250000.jpg\n",
      "error:  /workspace/dataset_new/48368645/16-2204150002.jpg\n",
      "error:  /workspace/dataset_new/48368645/16-2104150001.jpg\n",
      "error:  /workspace/dataset_new/49479663/2202250002.dcm\n",
      "error:  /workspace/dataset_new/49479663/2202250003.dcm\n",
      "error:  /workspace/dataset_new/49479663/2202250001.dcm\n",
      "error:  /workspace/dataset_new/49479663/200804.dcm\n",
      "error:  /workspace/dataset_new/37782140/3-0909040003.jpg\n",
      "error:  /workspace/dataset_new/37782140/3-0909040000.jpg\n",
      "error:  /workspace/dataset_new/37782140/3-1110120001.jpg\n",
      "error:  /workspace/dataset_new/37782140/3-0909040001.jpg\n",
      "error:  /workspace/dataset_new/37782140/3-0909040002.jpg\n",
      "error:  /workspace/dataset_new/37782140/3-0909040004.jpg\n",
      "error:  /workspace/dataset_new/37782140/3-1010040000.jpg\n",
      "error:  /workspace/dataset_new/37782140/3-1110120003.jpg\n",
      "error:  /workspace/dataset_new/37782140/3-1110120002.jpg\n",
      "error:  /workspace/dataset_new/37782140/3-1110120000.jpg\n",
      "error:  /workspace/dataset_new/40663029/6_1612090001.jpg\n",
      "error:  /workspace/dataset_new/40663029/6_1109300000.jpg\n",
      "error:  /workspace/dataset_new/40663029/6_1412200001.jpg\n",
      "error:  /workspace/dataset_new/40663029/6_1910100000.jpg\n",
      "error:  /workspace/dataset_new/40663029/6_2204140002.jpg\n",
      "error:  /workspace/dataset_new/40663029/6_1910100003.jpg\n",
      "error:  /workspace/dataset_new/40663029/6_1612090000.jpg\n",
      "error:  /workspace/dataset_new/40663029/6_1305090000.jpg\n",
      "error:  /workspace/dataset_new/40663029/6_1412200002.jpg\n",
      "error:  /workspace/dataset_new/40663029/6_2204140000.jpg\n",
      "error:  /workspace/dataset_new/40663029/6_1412200000.jpg\n",
      "error:  /workspace/dataset_new/40663029/6_1910100001.jpg\n",
      "error:  /workspace/dataset_new/40663029/6_2204140001.jpg\n",
      "error:  /workspace/dataset_new/40663029/6_1910100002.jpg\n",
      "error:  /workspace/dataset_new/40663029/6_1205170000.jpg\n",
      "error:  /workspace/dataset_new/50400193/14-2110200002.jpg\n",
      "error:  /workspace/dataset_new/50400193/14-2003190000.jpg\n",
      "error:  /workspace/dataset_new/50400193/14-2003190001.jpg\n",
      "error:  /workspace/dataset_new/50400193/14-2110200001.jpg\n",
      "error:  /workspace/dataset_new/50400193/14-2103290000.jpg\n",
      "error:  /workspace/dataset_new/50400193/14-2110200000.jpg\n",
      "error:  /workspace/dataset_new/50032204/17-2202050000.jpg\n",
      "error:  /workspace/dataset_new/50032204/17-2202050001.jpg\n",
      "error:  /workspace/dataset_new/50032204/17-2202050002.jpg\n",
      "error:  /workspace/dataset_new/27578096/20-05-07_100.dcm\n",
      "error:  /workspace/dataset_new/27578096/20-05-07_110.dcm\n",
      "error:  /workspace/dataset_new/44065672/9-1903060001.jpg\n",
      "error:  /workspace/dataset_new/44065672/9-1501260000.jpg\n",
      "error:  /workspace/dataset_new/44065672/9-2108240000.jpg\n",
      "error:  /workspace/dataset_new/44065672/9-2108240002.jpg\n",
      "error:  /workspace/dataset_new/44065672/9-1903060002.jpg\n",
      "error:  /workspace/dataset_new/44065672/9-1401210002.jpg\n",
      "error:  /workspace/dataset_new/44065672/9-1501260002.jpg\n",
      "error:  /workspace/dataset_new/44065672/9-1401210003.jpg\n",
      "error:  /workspace/dataset_new/44065672/9-1903060000.jpg\n",
      "error:  /workspace/dataset_new/44065672/9-2108240001.jpg\n",
      "error:  /workspace/dataset_new/44065672/9-1401210000.jpg\n",
      "error:  /workspace/dataset_new/44065672/9-1501260001.jpg\n",
      "error:  /workspace/dataset_new/44065672/9-1401210001.jpg\n",
      "error:  /workspace/dataset_new/54721119/2203080001.dcm\n",
      "error:  /workspace/dataset_new/54721119/2203080002.dcm\n",
      "error:  /workspace/dataset_new/49019061/2111180002.dcm\n",
      "error:  /workspace/dataset_new/49019061/2111180003.dcm\n",
      "error:  /workspace/dataset_new/49019061/2111180001.dcm\n",
      "error:  /workspace/dataset_new/43654170/21-07-030007.dcm\n",
      "error:  /workspace/dataset_new/43654170/21-07-030001.dcm\n",
      "error:  /workspace/dataset_new/43654170/21-07-030005.dcm\n",
      "error:  /workspace/dataset_new/43654170/21-07-030002.dcm\n",
      "error:  /workspace/dataset_new/43654170/21-07-030004.dcm\n",
      "error:  /workspace/dataset_new/43654170/21-07-030003.dcm\n",
      "error:  /workspace/dataset_new/43654170/21-07-030006.dcm\n",
      "error:  /workspace/dataset_new/53007973/20-2111090001.jpg\n",
      "error:  /workspace/dataset_new/53007973/20-2111090000.jpg\n",
      "error:  /workspace/dataset_new/49513323/13-2111160000.jpg\n",
      "error:  /workspace/dataset_new/49513323/13-2008210000.jpg\n",
      "error:  /workspace/dataset_new/49513323/13-2104230000.jpg\n",
      "error:  /workspace/dataset_new/49513323/13-2111160001.jpg\n",
      "error:  /workspace/dataset_new/44289834/19-2110060001.jpg\n",
      "error:  /workspace/dataset_new/44289834/19-2204220000.jpg\n",
      "error:  /workspace/dataset_new/44289834/19-2110060000.jpg\n",
      "error:  /workspace/dataset_new/27804531/4-0910280000.jpg\n",
      "error:  /workspace/dataset_new/27804531/4-0910280001.jpg\n",
      "error:  /workspace/dataset_new/27804531/4-0910280002.jpg\n",
      "error:  /workspace/dataset_new/42668455/7-1904250002.jpg\n",
      "error:  /workspace/dataset_new/42668455/7-1904250003.jpg\n",
      "error:  /workspace/dataset_new/42668455/7-1604110001.jpg\n",
      "error:  /workspace/dataset_new/42668455/7-2104190000.jpg\n",
      "error:  /workspace/dataset_new/42668455/7-1904250000.jpg\n",
      "error:  /workspace/dataset_new/42668455/7-1401060002.jpg\n",
      "error:  /workspace/dataset_new/42668455/7-1401060001.jpg\n",
      "error:  /workspace/dataset_new/42668455/7-1904250001.jpg\n",
      "error:  /workspace/dataset_new/42668455/7-1604110000.jpg\n",
      "error:  /workspace/dataset_new/42668455/7-2204180000.jpg\n",
      "error:  /workspace/dataset_new/42668455/7-1401060000.jpg\n",
      "error:  /workspace/dataset_new/42668455/7-2204180001.jpg\n",
      "error:  /workspace/dataset_new/39114039/5-2109280001.jpg\n",
      "error:  /workspace/dataset_new/39114039/5-1909300000.jpg\n",
      "error:  /workspace/dataset_new/39114039/5-1509090000.jpg\n",
      "error:  /workspace/dataset_new/39114039/5-1209190000.jpg\n",
      "error:  /workspace/dataset_new/39114039/5-2109280000.jpg\n",
      "error:  /workspace/dataset_new/39114039/5-1308280000.jpg\n",
      "error:  /workspace/dataset_new/45554175/10-1501220005.jpg\n",
      "error:  /workspace/dataset_new/45554175/10-2112140003.jpg\n",
      "error:  /workspace/dataset_new/45554175/10-2112140004.jpg\n",
      "error:  /workspace/dataset_new/45554175/10-2112140000.jpg\n",
      "error:  /workspace/dataset_new/45554175/10-1703230000.jpg\n",
      "error:  /workspace/dataset_new/45554175/10-1501220003.jpg\n",
      "error:  /workspace/dataset_new/45554175/10-1501220006.jpg\n",
      "error:  /workspace/dataset_new/45554175/10-2112140001.jpg\n",
      "error:  /workspace/dataset_new/45554175/10-1703230001.jpg\n",
      "error:  /workspace/dataset_new/45554175/10-1610200000.jpg\n",
      "error:  /workspace/dataset_new/45554175/10-2112140005.jpg\n",
      "error:  /workspace/dataset_new/45554175/10-1501220000.jpg\n",
      "error:  /workspace/dataset_new/45554175/10-1501220001.jpg\n",
      "error:  /workspace/dataset_new/45554175/10-1501220002.jpg\n",
      "error:  /workspace/dataset_new/45554175/10-1501220004.jpg\n",
      "error:  /workspace/dataset_new/45554175/10-2112140002.jpg\n",
      "error:  /workspace/dataset_new/47772931/12-1806190002.jpg\n",
      "error:  /workspace/dataset_new/47772931/12-2004030002.jpg\n",
      "error:  /workspace/dataset_new/47772931/12-1910040001.jpg\n",
      "error:  /workspace/dataset_new/47772931/12-1806190001.jpg\n",
      "error:  /workspace/dataset_new/47772931/12-1806190000.jpg\n",
      "error:  /workspace/dataset_new/47772931/12-1910040000.jpg\n",
      "error:  /workspace/dataset_new/47772931/12-2004030004.jpg\n",
      "error:  /workspace/dataset_new/47772931/12-2004030000.jpg\n",
      "error:  /workspace/dataset_new/47772931/12-2004030003.jpg\n",
      "error:  /workspace/dataset_new/47772931/12-2004030001.jpg\n",
      "error:  /workspace/dataset_new/54025873/18-2108190005.jpg\n",
      "error:  /workspace/dataset_new/54025873/18-2108190002.jpg\n",
      "error:  /workspace/dataset_new/54025873/18-2203020001.jpg\n",
      "error:  /workspace/dataset_new/54025873/18-2203020000.jpg\n",
      "error:  /workspace/dataset_new/54025873/18-2108190003.jpg\n",
      "error:  /workspace/dataset_new/54025873/18-2108190001.jpg\n",
      "error:  /workspace/dataset_new/54025873/18-2108190004.jpg\n",
      "error:  /workspace/dataset_new/54025873/18-2108190000.jpg\n",
      "error:  /workspace/dataset_new/51603856/15-2108180000.jpg\n",
      "error:  /workspace/dataset_new/51603856/15-2202250000.jpg\n",
      "error:  /workspace/dataset_new/51039936/jpg/21-10-290003.jpg\n",
      "error:  /workspace/dataset_new/51039936/jpg/20-10-080001.jpg\n",
      "error:  /workspace/dataset_new/51039936/jpg/21-10-290004.jpg\n",
      "error:  /workspace/dataset_new/51039936/jpg/21-10-290002.jpg\n",
      "error:  /workspace/dataset_new/51039936/jpg/22-06-030002.jpg\n",
      "error:  /workspace/dataset_new/51039936/jpg/21-10-290001.jpg\n",
      "error:  /workspace/dataset_new/51039936/jpg/22-06-030001.jpg\n",
      "error:  /workspace/dataset_new/51039936/jpg/19-09-27.jpg\n",
      "error:  /workspace/dataset_new/51039936/jpg/20-10-080002.jpg\n",
      "error:  /workspace/dataset_new/28170976/1_0701110004.jpg\n",
      "error:  /workspace/dataset_new/28170976/1_0102210000.jpg\n",
      "error:  /workspace/dataset_new/28170976/1_0701110002.jpg\n",
      "error:  /workspace/dataset_new/28170976/1_0701110001.jpg\n",
      "error:  /workspace/dataset_new/28170976/1_0701110003.jpg\n",
      "error:  /workspace/dataset_new/28170976/1_0102210002.jpg\n",
      "error:  /workspace/dataset_new/28170976/1_0102210003.jpg\n",
      "error:  /workspace/dataset_new/28170976/1_0304020000.jpg\n",
      "error:  /workspace/dataset_new/28170976/1_0701110000.jpg\n",
      "error:  /workspace/dataset_new/28170976/1_0102210001.jpg\n",
      "error:  /workspace/dataset_new/30035829/11-1703220000.jpg\n",
      "error:  /workspace/dataset_new/30035829/11-1810260000.jpg\n",
      "error:  /workspace/dataset_new/30035829/11-1911080001.jpg\n",
      "error:  /workspace/dataset_new/30035829/11-1911080000.jpg\n",
      "error:  /workspace/dataset_new/30035829/11-2011230000.jpg\n",
      "error:  /workspace/dataset_new/30035829/11-2011230001.jpg\n",
      "error:  /workspace/dataset_new/24915920/2-1105110000.jpg\n",
      "error:  /workspace/dataset_new/24915920/2-1406110000.jpg\n",
      "error:  /workspace/dataset_new/24915920/2-1707180000.jpg\n",
      "error:  /workspace/dataset_new/24915920/2-1105110001.jpg\n",
      "error:  /workspace/dataset_new/24915920/2-0811030000.jpg\n",
      "error:  /workspace/dataset_new/24915920/2-0811030004.jpg\n",
      "error:  /workspace/dataset_new/24915920/2-0811030002.jpg\n",
      "error:  /workspace/dataset_new/24915920/2-0904250000.jpg\n",
      "error:  /workspace/dataset_new/24915920/2-0811030001.jpg\n",
      "error:  /workspace/dataset_new/24915920/2-0811030003.jpg\n",
      "error:  /workspace/dataset_new/24915920/2-0904250001.jpg\n",
      "error:  /workspace/dataset_new/24915920/2-0811030005.jpg\n"
     ]
    }
   ],
   "source": [
    "t_ct = []\n",
    "# 이미지로 변환 성공한 url\n",
    "f_ct = []\n",
    "# 이미지로 변환 실패한 url\n",
    "dcm_all = []\n",
    "# dicom 전체 url\n",
    "\n",
    "## True df 구성 ##\n",
    "img_arr = []\n",
    "# img array\n",
    "lb_arr = []\n",
    "# label array\n",
    "path_arr = []\n",
    "# path array\n",
    "t_id = []\n",
    "\n",
    "## False df 구성 ##\n",
    "f_lb_arr = []\n",
    "# label array\n",
    "\n",
    "\n",
    "\n",
    "for top, _, f in os.walk(img_path):\n",
    "    # img_path에 접근하여 폴더별로 이미지에 접근한다.\n",
    "    # top은 img_path/세부경로\n",
    "    # f는 환자별 image file 이름\n",
    "    for filename in f:\n",
    "        # 그중 f는 각 환자 폴더 안의 이미지 전부의 주소이다.\n",
    "        # filename은 그 중 하나에 접근.\n",
    "        url = os.path.join(top,filename)\n",
    "        # 세부 이미지 경로\n",
    "        id = int(url.split('/')[3])\n",
    "        # 환자 number\n",
    "        dcm_all.append(url)\n",
    "        # dicom 전체 url\n",
    "        try:\n",
    "            label = data[data['ID'] == id].iloc[0].Implant\n",
    "            # label을 csv의 Implant에 해당하는 값으로 지정\n",
    "            dcm = pydicom.dcmread(url)\n",
    "            # dcm read\n",
    "            img = dcm.pixel_array\n",
    "            # try 적용 영역 : 변환이 안되면 except 문으로\n",
    "            lb_arr.append(label)\n",
    "            # label 순서대로 더하기 : df에 사용\n",
    "            t_ct.append(url)\n",
    "            # 성공적으로 읽어온 rul\n",
    "            t_id.append(id)\n",
    "            save_path = url + '/' + str(label)\n",
    "            path_arr.append(img_save_path)\n",
    "\n",
    "        except:\n",
    "            f_ct.append(url)\n",
    "            try:\n",
    "                check = url.replace('.', '/').split('/')[-1]\n",
    "                img = dcm.pixel_array\n",
    "                f_lb_arr.append(check)\n",
    "            except:\n",
    "                f_lb_arr.append(check)\n",
    "            print('error: ' , url)"
   ]
  },
  {
   "cell_type": "markdown",
   "metadata": {},
   "source": [
    "* 읽힌 파일과 읽지 못한 파일"
   ]
  },
  {
   "cell_type": "code",
   "execution_count": 48,
   "metadata": {},
   "outputs": [
    {
     "data": {
      "text/plain": [
       "4947"
      ]
     },
     "execution_count": 48,
     "metadata": {},
     "output_type": "execute_result"
    }
   ],
   "source": [
    "len(dcm_all)"
   ]
  },
  {
   "cell_type": "code",
   "execution_count": 49,
   "metadata": {},
   "outputs": [
    {
     "data": {
      "text/plain": [
       "4760"
      ]
     },
     "execution_count": 49,
     "metadata": {},
     "output_type": "execute_result"
    }
   ],
   "source": [
    "len(t_ct)"
   ]
  },
  {
   "cell_type": "code",
   "execution_count": 50,
   "metadata": {},
   "outputs": [
    {
     "data": {
      "text/plain": [
       "187"
      ]
     },
     "execution_count": 50,
     "metadata": {},
     "output_type": "execute_result"
    }
   ],
   "source": [
    "len(f_ct)"
   ]
  },
  {
   "cell_type": "code",
   "execution_count": 97,
   "metadata": {},
   "outputs": [
    {
     "data": {
      "text/plain": [
       "169"
      ]
     },
     "execution_count": 97,
     "metadata": {},
     "output_type": "execute_result"
    }
   ],
   "source": [
    "187-18"
   ]
  },
  {
   "cell_type": "markdown",
   "metadata": {},
   "source": [
    "* jpg check"
   ]
  },
  {
   "cell_type": "code",
   "execution_count": 51,
   "metadata": {},
   "outputs": [],
   "source": [
    "ecp = []\n",
    "for pt in f_ct:\n",
    "    if pt.split('.')[-1] == 'jpg':\n",
    "        pass\n",
    "    else:\n",
    "        ecp.append(pt)"
   ]
  },
  {
   "cell_type": "code",
   "execution_count": 52,
   "metadata": {},
   "outputs": [
    {
     "data": {
      "text/plain": [
       "['/workspace/dataset_new/49479663/2202250002.dcm',\n",
       " '/workspace/dataset_new/49479663/2202250003.dcm',\n",
       " '/workspace/dataset_new/49479663/2202250001.dcm',\n",
       " '/workspace/dataset_new/49479663/200804.dcm',\n",
       " '/workspace/dataset_new/27578096/20-05-07_100.dcm',\n",
       " '/workspace/dataset_new/27578096/20-05-07_110.dcm',\n",
       " '/workspace/dataset_new/54721119/2203080001.dcm',\n",
       " '/workspace/dataset_new/54721119/2203080002.dcm',\n",
       " '/workspace/dataset_new/49019061/2111180002.dcm',\n",
       " '/workspace/dataset_new/49019061/2111180003.dcm',\n",
       " '/workspace/dataset_new/49019061/2111180001.dcm',\n",
       " '/workspace/dataset_new/43654170/21-07-030007.dcm',\n",
       " '/workspace/dataset_new/43654170/21-07-030001.dcm',\n",
       " '/workspace/dataset_new/43654170/21-07-030005.dcm',\n",
       " '/workspace/dataset_new/43654170/21-07-030002.dcm',\n",
       " '/workspace/dataset_new/43654170/21-07-030004.dcm',\n",
       " '/workspace/dataset_new/43654170/21-07-030003.dcm',\n",
       " '/workspace/dataset_new/43654170/21-07-030006.dcm']"
      ]
     },
     "execution_count": 52,
     "metadata": {},
     "output_type": "execute_result"
    }
   ],
   "source": [
    "ecp"
   ]
  },
  {
   "cell_type": "code",
   "execution_count": 53,
   "metadata": {},
   "outputs": [],
   "source": [
    "ct_f_num = []\n",
    "for i in f_ct:\n",
    "    ct_f_num.append(i.split('/')[3])"
   ]
  },
  {
   "cell_type": "code",
   "execution_count": 54,
   "metadata": {},
   "outputs": [
    {
     "data": {
      "text/plain": [
       "{'24915920',\n",
       " '27578096',\n",
       " '27804531',\n",
       " '28170976',\n",
       " '29473483',\n",
       " '30035829',\n",
       " '37782140',\n",
       " '39114039',\n",
       " '40663029',\n",
       " '42668455',\n",
       " '43654170',\n",
       " '44065672',\n",
       " '44289834',\n",
       " '45554175',\n",
       " '47772931',\n",
       " '48368645',\n",
       " '49019061',\n",
       " '49479663',\n",
       " '49513323',\n",
       " '50032204',\n",
       " '50400193',\n",
       " '51039936',\n",
       " '51603856',\n",
       " '53007973',\n",
       " '54025873',\n",
       " '54721119'}"
      ]
     },
     "execution_count": 54,
     "metadata": {},
     "output_type": "execute_result"
    }
   ],
   "source": [
    "set(ct_f_num)"
   ]
  },
  {
   "cell_type": "code",
   "execution_count": 55,
   "metadata": {},
   "outputs": [
    {
     "data": {
      "text/plain": [
       "26"
      ]
     },
     "execution_count": 55,
     "metadata": {},
     "output_type": "execute_result"
    }
   ],
   "source": [
    "len(set(ct_f_num))"
   ]
  },
  {
   "cell_type": "markdown",
   "metadata": {},
   "source": [
    "* csv와 매칭"
   ]
  },
  {
   "cell_type": "code",
   "execution_count": 56,
   "metadata": {},
   "outputs": [],
   "source": [
    "id1 = 54721119"
   ]
  },
  {
   "cell_type": "code",
   "execution_count": 57,
   "metadata": {},
   "outputs": [
    {
     "data": {
      "text/plain": [
       "False"
      ]
     },
     "execution_count": 57,
     "metadata": {},
     "output_type": "execute_result"
    }
   ],
   "source": [
    "id1 in data['ID']"
   ]
  },
  {
   "cell_type": "code",
   "execution_count": 58,
   "metadata": {},
   "outputs": [],
   "source": [
    "id2 = 49019061"
   ]
  },
  {
   "cell_type": "code",
   "execution_count": 59,
   "metadata": {},
   "outputs": [
    {
     "data": {
      "text/plain": [
       "False"
      ]
     },
     "execution_count": 59,
     "metadata": {},
     "output_type": "execute_result"
    }
   ],
   "source": [
    "id2 in data['ID']"
   ]
  },
  {
   "cell_type": "code",
   "execution_count": 60,
   "metadata": {},
   "outputs": [],
   "source": [
    "id3 = 43654170"
   ]
  },
  {
   "cell_type": "code",
   "execution_count": 61,
   "metadata": {},
   "outputs": [
    {
     "data": {
      "text/plain": [
       "False"
      ]
     },
     "execution_count": 61,
     "metadata": {},
     "output_type": "execute_result"
    }
   ],
   "source": [
    "id3 in data['ID']"
   ]
  },
  {
   "cell_type": "code",
   "execution_count": 62,
   "metadata": {},
   "outputs": [],
   "source": [
    "id4 = 27578096"
   ]
  },
  {
   "cell_type": "code",
   "execution_count": 63,
   "metadata": {},
   "outputs": [
    {
     "data": {
      "text/plain": [
       "False"
      ]
     },
     "execution_count": 63,
     "metadata": {},
     "output_type": "execute_result"
    }
   ],
   "source": [
    "id4 in data['ID']"
   ]
  },
  {
   "cell_type": "code",
   "execution_count": 64,
   "metadata": {},
   "outputs": [],
   "source": [
    "id5 = 49479663"
   ]
  },
  {
   "cell_type": "code",
   "execution_count": 65,
   "metadata": {},
   "outputs": [
    {
     "data": {
      "text/plain": [
       "False"
      ]
     },
     "execution_count": 65,
     "metadata": {},
     "output_type": "execute_result"
    }
   ],
   "source": [
    "id5 in data['ID']"
   ]
  },
  {
   "attachments": {},
   "cell_type": "markdown",
   "metadata": {},
   "source": [
    "* csv에 존재하지않는 환자 number 21명 그리고 나머지 파일은 5명은 jpg로 존재한다.<br>\n",
    "→ 4760장으로 진행"
   ]
  },
  {
   "cell_type": "markdown",
   "metadata": {},
   "source": [
    "* data frame 구성"
   ]
  },
  {
   "cell_type": "code",
   "execution_count": 66,
   "metadata": {},
   "outputs": [],
   "source": [
    "df = pd.DataFrame([ x for x in zip(t_ct,lb_arr, t_id)], columns = ['url', 'label', 'id'])"
   ]
  },
  {
   "cell_type": "code",
   "execution_count": 67,
   "metadata": {},
   "outputs": [
    {
     "data": {
      "text/html": [
       "<div>\n",
       "<style scoped>\n",
       "    .dataframe tbody tr th:only-of-type {\n",
       "        vertical-align: middle;\n",
       "    }\n",
       "\n",
       "    .dataframe tbody tr th {\n",
       "        vertical-align: top;\n",
       "    }\n",
       "\n",
       "    .dataframe thead th {\n",
       "        text-align: right;\n",
       "    }\n",
       "</style>\n",
       "<table border=\"1\" class=\"dataframe\">\n",
       "  <thead>\n",
       "    <tr style=\"text-align: right;\">\n",
       "      <th></th>\n",
       "      <th>url</th>\n",
       "      <th>label</th>\n",
       "      <th>id</th>\n",
       "    </tr>\n",
       "  </thead>\n",
       "  <tbody>\n",
       "    <tr>\n",
       "      <th>0</th>\n",
       "      <td>/workspace/dataset_new/52017201/22-03-21_11000...</td>\n",
       "      <td>1</td>\n",
       "      <td>52017201</td>\n",
       "    </tr>\n",
       "    <tr>\n",
       "      <th>1</th>\n",
       "      <td>/workspace/dataset_new/52017201/22-03-21_11000...</td>\n",
       "      <td>1</td>\n",
       "      <td>52017201</td>\n",
       "    </tr>\n",
       "    <tr>\n",
       "      <th>2</th>\n",
       "      <td>/workspace/dataset_new/52017201/22-03-21_11000...</td>\n",
       "      <td>1</td>\n",
       "      <td>52017201</td>\n",
       "    </tr>\n",
       "    <tr>\n",
       "      <th>3</th>\n",
       "      <td>/workspace/dataset_new/52017201/21-01-15_11000...</td>\n",
       "      <td>1</td>\n",
       "      <td>52017201</td>\n",
       "    </tr>\n",
       "    <tr>\n",
       "      <th>4</th>\n",
       "      <td>/workspace/dataset_new/52017201/21-01-15_11000...</td>\n",
       "      <td>1</td>\n",
       "      <td>52017201</td>\n",
       "    </tr>\n",
       "  </tbody>\n",
       "</table>\n",
       "</div>"
      ],
      "text/plain": [
       "                                                 url label        id\n",
       "0  /workspace/dataset_new/52017201/22-03-21_11000...     1  52017201\n",
       "1  /workspace/dataset_new/52017201/22-03-21_11000...     1  52017201\n",
       "2  /workspace/dataset_new/52017201/22-03-21_11000...     1  52017201\n",
       "3  /workspace/dataset_new/52017201/21-01-15_11000...     1  52017201\n",
       "4  /workspace/dataset_new/52017201/21-01-15_11000...     1  52017201"
      ]
     },
     "execution_count": 67,
     "metadata": {},
     "output_type": "execute_result"
    }
   ],
   "source": [
    "df.head()"
   ]
  },
  {
   "cell_type": "code",
   "execution_count": 208,
   "metadata": {},
   "outputs": [],
   "source": [
    "df.to_csv('df.csv', index=False)"
   ]
  },
  {
   "cell_type": "code",
   "execution_count": 75,
   "metadata": {},
   "outputs": [
    {
     "data": {
      "text/plain": [
       "675"
      ]
     },
     "execution_count": 75,
     "metadata": {},
     "output_type": "execute_result"
    }
   ],
   "source": [
    "len(df['id'].unique())"
   ]
  },
  {
   "cell_type": "markdown",
   "metadata": {},
   "source": [
    "* 읽지 못한 url"
   ]
  },
  {
   "cell_type": "code",
   "execution_count": 68,
   "metadata": {},
   "outputs": [
    {
     "data": {
      "text/plain": [
       "['/workspace/dataset_new/29473483/8-1104060002.jpg',\n",
       " '/workspace/dataset_new/29473483/8-1104060001.jpg',\n",
       " '/workspace/dataset_new/29473483/8-0604130000.jpg',\n",
       " '/workspace/dataset_new/29473483/8-0904070000.jpg',\n",
       " '/workspace/dataset_new/29473483/8-1104060000.jpg',\n",
       " '/workspace/dataset_new/29473483/8-0604130001.jpg',\n",
       " '/workspace/dataset_new/29473483/8-1004060000.jpg',\n",
       " '/workspace/dataset_new/29473483/8-0604130002.jpg',\n",
       " '/workspace/dataset_new/29473483/9-0404010001.jpg',\n",
       " '/workspace/dataset_new/29473483/8-1004060002.jpg',\n",
       " '/workspace/dataset_new/29473483/8-1004060001.jpg',\n",
       " '/workspace/dataset_new/29473483/9-0404010000.jpg',\n",
       " '/workspace/dataset_new/29473483/8-0704190000.jpg',\n",
       " '/workspace/dataset_new/48368645/16-2204150000.jpg',\n",
       " '/workspace/dataset_new/48368645/16-2104150000.jpg',\n",
       " '/workspace/dataset_new/48368645/16-2204150001.jpg',\n",
       " '/workspace/dataset_new/48368645/16-2110250000.jpg',\n",
       " '/workspace/dataset_new/48368645/16-2204150002.jpg',\n",
       " '/workspace/dataset_new/48368645/16-2104150001.jpg',\n",
       " '/workspace/dataset_new/49479663/2202250002.dcm',\n",
       " '/workspace/dataset_new/49479663/2202250003.dcm',\n",
       " '/workspace/dataset_new/49479663/2202250001.dcm',\n",
       " '/workspace/dataset_new/49479663/200804.dcm',\n",
       " '/workspace/dataset_new/37782140/3-0909040003.jpg',\n",
       " '/workspace/dataset_new/37782140/3-0909040000.jpg',\n",
       " '/workspace/dataset_new/37782140/3-1110120001.jpg',\n",
       " '/workspace/dataset_new/37782140/3-0909040001.jpg',\n",
       " '/workspace/dataset_new/37782140/3-0909040002.jpg',\n",
       " '/workspace/dataset_new/37782140/3-0909040004.jpg',\n",
       " '/workspace/dataset_new/37782140/3-1010040000.jpg',\n",
       " '/workspace/dataset_new/37782140/3-1110120003.jpg',\n",
       " '/workspace/dataset_new/37782140/3-1110120002.jpg',\n",
       " '/workspace/dataset_new/37782140/3-1110120000.jpg',\n",
       " '/workspace/dataset_new/40663029/6_1612090001.jpg',\n",
       " '/workspace/dataset_new/40663029/6_1109300000.jpg',\n",
       " '/workspace/dataset_new/40663029/6_1412200001.jpg',\n",
       " '/workspace/dataset_new/40663029/6_1910100000.jpg',\n",
       " '/workspace/dataset_new/40663029/6_2204140002.jpg',\n",
       " '/workspace/dataset_new/40663029/6_1910100003.jpg',\n",
       " '/workspace/dataset_new/40663029/6_1612090000.jpg',\n",
       " '/workspace/dataset_new/40663029/6_1305090000.jpg',\n",
       " '/workspace/dataset_new/40663029/6_1412200002.jpg',\n",
       " '/workspace/dataset_new/40663029/6_2204140000.jpg',\n",
       " '/workspace/dataset_new/40663029/6_1412200000.jpg',\n",
       " '/workspace/dataset_new/40663029/6_1910100001.jpg',\n",
       " '/workspace/dataset_new/40663029/6_2204140001.jpg',\n",
       " '/workspace/dataset_new/40663029/6_1910100002.jpg',\n",
       " '/workspace/dataset_new/40663029/6_1205170000.jpg',\n",
       " '/workspace/dataset_new/50400193/14-2110200002.jpg',\n",
       " '/workspace/dataset_new/50400193/14-2003190000.jpg',\n",
       " '/workspace/dataset_new/50400193/14-2003190001.jpg',\n",
       " '/workspace/dataset_new/50400193/14-2110200001.jpg',\n",
       " '/workspace/dataset_new/50400193/14-2103290000.jpg',\n",
       " '/workspace/dataset_new/50400193/14-2110200000.jpg',\n",
       " '/workspace/dataset_new/50032204/17-2202050000.jpg',\n",
       " '/workspace/dataset_new/50032204/17-2202050001.jpg',\n",
       " '/workspace/dataset_new/50032204/17-2202050002.jpg',\n",
       " '/workspace/dataset_new/27578096/20-05-07_100.dcm',\n",
       " '/workspace/dataset_new/27578096/20-05-07_110.dcm',\n",
       " '/workspace/dataset_new/44065672/9-1903060001.jpg',\n",
       " '/workspace/dataset_new/44065672/9-1501260000.jpg',\n",
       " '/workspace/dataset_new/44065672/9-2108240000.jpg',\n",
       " '/workspace/dataset_new/44065672/9-2108240002.jpg',\n",
       " '/workspace/dataset_new/44065672/9-1903060002.jpg',\n",
       " '/workspace/dataset_new/44065672/9-1401210002.jpg',\n",
       " '/workspace/dataset_new/44065672/9-1501260002.jpg',\n",
       " '/workspace/dataset_new/44065672/9-1401210003.jpg',\n",
       " '/workspace/dataset_new/44065672/9-1903060000.jpg',\n",
       " '/workspace/dataset_new/44065672/9-2108240001.jpg',\n",
       " '/workspace/dataset_new/44065672/9-1401210000.jpg',\n",
       " '/workspace/dataset_new/44065672/9-1501260001.jpg',\n",
       " '/workspace/dataset_new/44065672/9-1401210001.jpg',\n",
       " '/workspace/dataset_new/54721119/2203080001.dcm',\n",
       " '/workspace/dataset_new/54721119/2203080002.dcm',\n",
       " '/workspace/dataset_new/49019061/2111180002.dcm',\n",
       " '/workspace/dataset_new/49019061/2111180003.dcm',\n",
       " '/workspace/dataset_new/49019061/2111180001.dcm',\n",
       " '/workspace/dataset_new/43654170/21-07-030007.dcm',\n",
       " '/workspace/dataset_new/43654170/21-07-030001.dcm',\n",
       " '/workspace/dataset_new/43654170/21-07-030005.dcm',\n",
       " '/workspace/dataset_new/43654170/21-07-030002.dcm',\n",
       " '/workspace/dataset_new/43654170/21-07-030004.dcm',\n",
       " '/workspace/dataset_new/43654170/21-07-030003.dcm',\n",
       " '/workspace/dataset_new/43654170/21-07-030006.dcm',\n",
       " '/workspace/dataset_new/53007973/20-2111090001.jpg',\n",
       " '/workspace/dataset_new/53007973/20-2111090000.jpg',\n",
       " '/workspace/dataset_new/49513323/13-2111160000.jpg',\n",
       " '/workspace/dataset_new/49513323/13-2008210000.jpg',\n",
       " '/workspace/dataset_new/49513323/13-2104230000.jpg',\n",
       " '/workspace/dataset_new/49513323/13-2111160001.jpg',\n",
       " '/workspace/dataset_new/44289834/19-2110060001.jpg',\n",
       " '/workspace/dataset_new/44289834/19-2204220000.jpg',\n",
       " '/workspace/dataset_new/44289834/19-2110060000.jpg',\n",
       " '/workspace/dataset_new/27804531/4-0910280000.jpg',\n",
       " '/workspace/dataset_new/27804531/4-0910280001.jpg',\n",
       " '/workspace/dataset_new/27804531/4-0910280002.jpg',\n",
       " '/workspace/dataset_new/42668455/7-1904250002.jpg',\n",
       " '/workspace/dataset_new/42668455/7-1904250003.jpg',\n",
       " '/workspace/dataset_new/42668455/7-1604110001.jpg',\n",
       " '/workspace/dataset_new/42668455/7-2104190000.jpg',\n",
       " '/workspace/dataset_new/42668455/7-1904250000.jpg',\n",
       " '/workspace/dataset_new/42668455/7-1401060002.jpg',\n",
       " '/workspace/dataset_new/42668455/7-1401060001.jpg',\n",
       " '/workspace/dataset_new/42668455/7-1904250001.jpg',\n",
       " '/workspace/dataset_new/42668455/7-1604110000.jpg',\n",
       " '/workspace/dataset_new/42668455/7-2204180000.jpg',\n",
       " '/workspace/dataset_new/42668455/7-1401060000.jpg',\n",
       " '/workspace/dataset_new/42668455/7-2204180001.jpg',\n",
       " '/workspace/dataset_new/39114039/5-2109280001.jpg',\n",
       " '/workspace/dataset_new/39114039/5-1909300000.jpg',\n",
       " '/workspace/dataset_new/39114039/5-1509090000.jpg',\n",
       " '/workspace/dataset_new/39114039/5-1209190000.jpg',\n",
       " '/workspace/dataset_new/39114039/5-2109280000.jpg',\n",
       " '/workspace/dataset_new/39114039/5-1308280000.jpg',\n",
       " '/workspace/dataset_new/45554175/10-1501220005.jpg',\n",
       " '/workspace/dataset_new/45554175/10-2112140003.jpg',\n",
       " '/workspace/dataset_new/45554175/10-2112140004.jpg',\n",
       " '/workspace/dataset_new/45554175/10-2112140000.jpg',\n",
       " '/workspace/dataset_new/45554175/10-1703230000.jpg',\n",
       " '/workspace/dataset_new/45554175/10-1501220003.jpg',\n",
       " '/workspace/dataset_new/45554175/10-1501220006.jpg',\n",
       " '/workspace/dataset_new/45554175/10-2112140001.jpg',\n",
       " '/workspace/dataset_new/45554175/10-1703230001.jpg',\n",
       " '/workspace/dataset_new/45554175/10-1610200000.jpg',\n",
       " '/workspace/dataset_new/45554175/10-2112140005.jpg',\n",
       " '/workspace/dataset_new/45554175/10-1501220000.jpg',\n",
       " '/workspace/dataset_new/45554175/10-1501220001.jpg',\n",
       " '/workspace/dataset_new/45554175/10-1501220002.jpg',\n",
       " '/workspace/dataset_new/45554175/10-1501220004.jpg',\n",
       " '/workspace/dataset_new/45554175/10-2112140002.jpg',\n",
       " '/workspace/dataset_new/47772931/12-1806190002.jpg',\n",
       " '/workspace/dataset_new/47772931/12-2004030002.jpg',\n",
       " '/workspace/dataset_new/47772931/12-1910040001.jpg',\n",
       " '/workspace/dataset_new/47772931/12-1806190001.jpg',\n",
       " '/workspace/dataset_new/47772931/12-1806190000.jpg',\n",
       " '/workspace/dataset_new/47772931/12-1910040000.jpg',\n",
       " '/workspace/dataset_new/47772931/12-2004030004.jpg',\n",
       " '/workspace/dataset_new/47772931/12-2004030000.jpg',\n",
       " '/workspace/dataset_new/47772931/12-2004030003.jpg',\n",
       " '/workspace/dataset_new/47772931/12-2004030001.jpg',\n",
       " '/workspace/dataset_new/54025873/18-2108190005.jpg',\n",
       " '/workspace/dataset_new/54025873/18-2108190002.jpg',\n",
       " '/workspace/dataset_new/54025873/18-2203020001.jpg',\n",
       " '/workspace/dataset_new/54025873/18-2203020000.jpg',\n",
       " '/workspace/dataset_new/54025873/18-2108190003.jpg',\n",
       " '/workspace/dataset_new/54025873/18-2108190001.jpg',\n",
       " '/workspace/dataset_new/54025873/18-2108190004.jpg',\n",
       " '/workspace/dataset_new/54025873/18-2108190000.jpg',\n",
       " '/workspace/dataset_new/51603856/15-2108180000.jpg',\n",
       " '/workspace/dataset_new/51603856/15-2202250000.jpg',\n",
       " '/workspace/dataset_new/51039936/jpg/21-10-290003.jpg',\n",
       " '/workspace/dataset_new/51039936/jpg/20-10-080001.jpg',\n",
       " '/workspace/dataset_new/51039936/jpg/21-10-290004.jpg',\n",
       " '/workspace/dataset_new/51039936/jpg/21-10-290002.jpg',\n",
       " '/workspace/dataset_new/51039936/jpg/22-06-030002.jpg',\n",
       " '/workspace/dataset_new/51039936/jpg/21-10-290001.jpg',\n",
       " '/workspace/dataset_new/51039936/jpg/22-06-030001.jpg',\n",
       " '/workspace/dataset_new/51039936/jpg/19-09-27.jpg',\n",
       " '/workspace/dataset_new/51039936/jpg/20-10-080002.jpg',\n",
       " '/workspace/dataset_new/28170976/1_0701110004.jpg',\n",
       " '/workspace/dataset_new/28170976/1_0102210000.jpg',\n",
       " '/workspace/dataset_new/28170976/1_0701110002.jpg',\n",
       " '/workspace/dataset_new/28170976/1_0701110001.jpg',\n",
       " '/workspace/dataset_new/28170976/1_0701110003.jpg',\n",
       " '/workspace/dataset_new/28170976/1_0102210002.jpg',\n",
       " '/workspace/dataset_new/28170976/1_0102210003.jpg',\n",
       " '/workspace/dataset_new/28170976/1_0304020000.jpg',\n",
       " '/workspace/dataset_new/28170976/1_0701110000.jpg',\n",
       " '/workspace/dataset_new/28170976/1_0102210001.jpg',\n",
       " '/workspace/dataset_new/30035829/11-1703220000.jpg',\n",
       " '/workspace/dataset_new/30035829/11-1810260000.jpg',\n",
       " '/workspace/dataset_new/30035829/11-1911080001.jpg',\n",
       " '/workspace/dataset_new/30035829/11-1911080000.jpg',\n",
       " '/workspace/dataset_new/30035829/11-2011230000.jpg',\n",
       " '/workspace/dataset_new/30035829/11-2011230001.jpg',\n",
       " '/workspace/dataset_new/24915920/2-1105110000.jpg',\n",
       " '/workspace/dataset_new/24915920/2-1406110000.jpg',\n",
       " '/workspace/dataset_new/24915920/2-1707180000.jpg',\n",
       " '/workspace/dataset_new/24915920/2-1105110001.jpg',\n",
       " '/workspace/dataset_new/24915920/2-0811030000.jpg',\n",
       " '/workspace/dataset_new/24915920/2-0811030004.jpg',\n",
       " '/workspace/dataset_new/24915920/2-0811030002.jpg',\n",
       " '/workspace/dataset_new/24915920/2-0904250000.jpg',\n",
       " '/workspace/dataset_new/24915920/2-0811030001.jpg',\n",
       " '/workspace/dataset_new/24915920/2-0811030003.jpg',\n",
       " '/workspace/dataset_new/24915920/2-0904250001.jpg',\n",
       " '/workspace/dataset_new/24915920/2-0811030005.jpg']"
      ]
     },
     "execution_count": 68,
     "metadata": {},
     "output_type": "execute_result"
    }
   ],
   "source": [
    "f_ct"
   ]
  },
  {
   "cell_type": "code",
   "execution_count": 69,
   "metadata": {},
   "outputs": [],
   "source": [
    "f_df = pd.DataFrame([ x for x in zip(f_ct, f_lb_arr)], columns = ['url', 'check'])"
   ]
  },
  {
   "cell_type": "code",
   "execution_count": 70,
   "metadata": {},
   "outputs": [
    {
     "data": {
      "text/html": [
       "<div>\n",
       "<style scoped>\n",
       "    .dataframe tbody tr th:only-of-type {\n",
       "        vertical-align: middle;\n",
       "    }\n",
       "\n",
       "    .dataframe tbody tr th {\n",
       "        vertical-align: top;\n",
       "    }\n",
       "\n",
       "    .dataframe thead th {\n",
       "        text-align: right;\n",
       "    }\n",
       "</style>\n",
       "<table border=\"1\" class=\"dataframe\">\n",
       "  <thead>\n",
       "    <tr style=\"text-align: right;\">\n",
       "      <th></th>\n",
       "      <th>url</th>\n",
       "      <th>check</th>\n",
       "    </tr>\n",
       "  </thead>\n",
       "  <tbody>\n",
       "    <tr>\n",
       "      <th>0</th>\n",
       "      <td>/workspace/dataset_new/29473483/8-1104060002.jpg</td>\n",
       "      <td>jpg</td>\n",
       "    </tr>\n",
       "    <tr>\n",
       "      <th>1</th>\n",
       "      <td>/workspace/dataset_new/29473483/8-1104060001.jpg</td>\n",
       "      <td>jpg</td>\n",
       "    </tr>\n",
       "    <tr>\n",
       "      <th>2</th>\n",
       "      <td>/workspace/dataset_new/29473483/8-0604130000.jpg</td>\n",
       "      <td>jpg</td>\n",
       "    </tr>\n",
       "    <tr>\n",
       "      <th>3</th>\n",
       "      <td>/workspace/dataset_new/29473483/8-0904070000.jpg</td>\n",
       "      <td>jpg</td>\n",
       "    </tr>\n",
       "    <tr>\n",
       "      <th>4</th>\n",
       "      <td>/workspace/dataset_new/29473483/8-1104060000.jpg</td>\n",
       "      <td>jpg</td>\n",
       "    </tr>\n",
       "    <tr>\n",
       "      <th>...</th>\n",
       "      <td>...</td>\n",
       "      <td>...</td>\n",
       "    </tr>\n",
       "    <tr>\n",
       "      <th>182</th>\n",
       "      <td>/workspace/dataset_new/24915920/2-0904250000.jpg</td>\n",
       "      <td>jpg</td>\n",
       "    </tr>\n",
       "    <tr>\n",
       "      <th>183</th>\n",
       "      <td>/workspace/dataset_new/24915920/2-0811030001.jpg</td>\n",
       "      <td>jpg</td>\n",
       "    </tr>\n",
       "    <tr>\n",
       "      <th>184</th>\n",
       "      <td>/workspace/dataset_new/24915920/2-0811030003.jpg</td>\n",
       "      <td>jpg</td>\n",
       "    </tr>\n",
       "    <tr>\n",
       "      <th>185</th>\n",
       "      <td>/workspace/dataset_new/24915920/2-0904250001.jpg</td>\n",
       "      <td>jpg</td>\n",
       "    </tr>\n",
       "    <tr>\n",
       "      <th>186</th>\n",
       "      <td>/workspace/dataset_new/24915920/2-0811030005.jpg</td>\n",
       "      <td>jpg</td>\n",
       "    </tr>\n",
       "  </tbody>\n",
       "</table>\n",
       "<p>187 rows × 2 columns</p>\n",
       "</div>"
      ],
      "text/plain": [
       "                                                  url check\n",
       "0    /workspace/dataset_new/29473483/8-1104060002.jpg   jpg\n",
       "1    /workspace/dataset_new/29473483/8-1104060001.jpg   jpg\n",
       "2    /workspace/dataset_new/29473483/8-0604130000.jpg   jpg\n",
       "3    /workspace/dataset_new/29473483/8-0904070000.jpg   jpg\n",
       "4    /workspace/dataset_new/29473483/8-1104060000.jpg   jpg\n",
       "..                                                ...   ...\n",
       "182  /workspace/dataset_new/24915920/2-0904250000.jpg   jpg\n",
       "183  /workspace/dataset_new/24915920/2-0811030001.jpg   jpg\n",
       "184  /workspace/dataset_new/24915920/2-0811030003.jpg   jpg\n",
       "185  /workspace/dataset_new/24915920/2-0904250001.jpg   jpg\n",
       "186  /workspace/dataset_new/24915920/2-0811030005.jpg   jpg\n",
       "\n",
       "[187 rows x 2 columns]"
      ]
     },
     "execution_count": 70,
     "metadata": {},
     "output_type": "execute_result"
    }
   ],
   "source": [
    "f_df"
   ]
  },
  {
   "cell_type": "code",
   "execution_count": 212,
   "metadata": {},
   "outputs": [],
   "source": [
    "f_df.to_csv('f_df.csv', index=False)"
   ]
  },
  {
   "cell_type": "markdown",
   "metadata": {},
   "source": [
    "* data leakage 방지 split"
   ]
  },
  {
   "cell_type": "code",
   "execution_count": 71,
   "metadata": {},
   "outputs": [
    {
     "data": {
      "text/html": [
       "<div>\n",
       "<style scoped>\n",
       "    .dataframe tbody tr th:only-of-type {\n",
       "        vertical-align: middle;\n",
       "    }\n",
       "\n",
       "    .dataframe tbody tr th {\n",
       "        vertical-align: top;\n",
       "    }\n",
       "\n",
       "    .dataframe thead th {\n",
       "        text-align: right;\n",
       "    }\n",
       "</style>\n",
       "<table border=\"1\" class=\"dataframe\">\n",
       "  <thead>\n",
       "    <tr style=\"text-align: right;\">\n",
       "      <th></th>\n",
       "      <th>url</th>\n",
       "      <th>label</th>\n",
       "      <th>id</th>\n",
       "    </tr>\n",
       "  </thead>\n",
       "  <tbody>\n",
       "    <tr>\n",
       "      <th>0</th>\n",
       "      <td>/workspace/dataset_new/52017201/22-03-21_11000...</td>\n",
       "      <td>1</td>\n",
       "      <td>52017201</td>\n",
       "    </tr>\n",
       "    <tr>\n",
       "      <th>1</th>\n",
       "      <td>/workspace/dataset_new/52017201/22-03-21_11000...</td>\n",
       "      <td>1</td>\n",
       "      <td>52017201</td>\n",
       "    </tr>\n",
       "    <tr>\n",
       "      <th>2</th>\n",
       "      <td>/workspace/dataset_new/52017201/22-03-21_11000...</td>\n",
       "      <td>1</td>\n",
       "      <td>52017201</td>\n",
       "    </tr>\n",
       "    <tr>\n",
       "      <th>3</th>\n",
       "      <td>/workspace/dataset_new/52017201/21-01-15_11000...</td>\n",
       "      <td>1</td>\n",
       "      <td>52017201</td>\n",
       "    </tr>\n",
       "    <tr>\n",
       "      <th>4</th>\n",
       "      <td>/workspace/dataset_new/52017201/21-01-15_11000...</td>\n",
       "      <td>1</td>\n",
       "      <td>52017201</td>\n",
       "    </tr>\n",
       "  </tbody>\n",
       "</table>\n",
       "</div>"
      ],
      "text/plain": [
       "                                                 url label        id\n",
       "0  /workspace/dataset_new/52017201/22-03-21_11000...     1  52017201\n",
       "1  /workspace/dataset_new/52017201/22-03-21_11000...     1  52017201\n",
       "2  /workspace/dataset_new/52017201/22-03-21_11000...     1  52017201\n",
       "3  /workspace/dataset_new/52017201/21-01-15_11000...     1  52017201\n",
       "4  /workspace/dataset_new/52017201/21-01-15_11000...     1  52017201"
      ]
     },
     "execution_count": 71,
     "metadata": {},
     "output_type": "execute_result"
    }
   ],
   "source": [
    "df.head()"
   ]
  },
  {
   "cell_type": "markdown",
   "metadata": {},
   "source": [
    "→ 동일한 id의 파일은 train, valid, test중 모두 하나에 속해야함."
   ]
  },
  {
   "cell_type": "code",
   "execution_count": 34,
   "metadata": {},
   "outputs": [],
   "source": [
    "df = pd.read_csv('/workspace/Pipeline/1_data_preprocessing/df.csv')"
   ]
  },
  {
   "cell_type": "code",
   "execution_count": 76,
   "metadata": {},
   "outputs": [
    {
     "data": {
      "text/html": [
       "<div>\n",
       "<style scoped>\n",
       "    .dataframe tbody tr th:only-of-type {\n",
       "        vertical-align: middle;\n",
       "    }\n",
       "\n",
       "    .dataframe tbody tr th {\n",
       "        vertical-align: top;\n",
       "    }\n",
       "\n",
       "    .dataframe thead th {\n",
       "        text-align: right;\n",
       "    }\n",
       "</style>\n",
       "<table border=\"1\" class=\"dataframe\">\n",
       "  <thead>\n",
       "    <tr style=\"text-align: right;\">\n",
       "      <th></th>\n",
       "      <th>url</th>\n",
       "      <th>label</th>\n",
       "      <th>id</th>\n",
       "    </tr>\n",
       "  </thead>\n",
       "  <tbody>\n",
       "    <tr>\n",
       "      <th>0</th>\n",
       "      <td>/workspace/dataset_new/52017201/22-03-21_11000...</td>\n",
       "      <td>1</td>\n",
       "      <td>52017201</td>\n",
       "    </tr>\n",
       "    <tr>\n",
       "      <th>1</th>\n",
       "      <td>/workspace/dataset_new/52017201/22-03-21_11000...</td>\n",
       "      <td>1</td>\n",
       "      <td>52017201</td>\n",
       "    </tr>\n",
       "    <tr>\n",
       "      <th>2</th>\n",
       "      <td>/workspace/dataset_new/52017201/22-03-21_11000...</td>\n",
       "      <td>1</td>\n",
       "      <td>52017201</td>\n",
       "    </tr>\n",
       "    <tr>\n",
       "      <th>3</th>\n",
       "      <td>/workspace/dataset_new/52017201/21-01-15_11000...</td>\n",
       "      <td>1</td>\n",
       "      <td>52017201</td>\n",
       "    </tr>\n",
       "    <tr>\n",
       "      <th>4</th>\n",
       "      <td>/workspace/dataset_new/52017201/21-01-15_11000...</td>\n",
       "      <td>1</td>\n",
       "      <td>52017201</td>\n",
       "    </tr>\n",
       "    <tr>\n",
       "      <th>...</th>\n",
       "      <td>...</td>\n",
       "      <td>...</td>\n",
       "      <td>...</td>\n",
       "    </tr>\n",
       "    <tr>\n",
       "      <th>4755</th>\n",
       "      <td>/workspace/dataset_new/34716454/20-07-22_11000...</td>\n",
       "      <td>1</td>\n",
       "      <td>34716454</td>\n",
       "    </tr>\n",
       "    <tr>\n",
       "      <th>4756</th>\n",
       "      <td>/workspace/dataset_new/34716454/20-07-22_11000...</td>\n",
       "      <td>1</td>\n",
       "      <td>34716454</td>\n",
       "    </tr>\n",
       "    <tr>\n",
       "      <th>4757</th>\n",
       "      <td>/workspace/dataset_new/34716454/22-08-19_11000...</td>\n",
       "      <td>1</td>\n",
       "      <td>34716454</td>\n",
       "    </tr>\n",
       "    <tr>\n",
       "      <th>4758</th>\n",
       "      <td>/workspace/dataset_new/34716454/19-12-31_11000...</td>\n",
       "      <td>1</td>\n",
       "      <td>34716454</td>\n",
       "    </tr>\n",
       "    <tr>\n",
       "      <th>4759</th>\n",
       "      <td>/workspace/dataset_new/34716454/19-12-31_11000...</td>\n",
       "      <td>1</td>\n",
       "      <td>34716454</td>\n",
       "    </tr>\n",
       "  </tbody>\n",
       "</table>\n",
       "<p>4760 rows × 3 columns</p>\n",
       "</div>"
      ],
      "text/plain": [
       "                                                    url label        id\n",
       "0     /workspace/dataset_new/52017201/22-03-21_11000...     1  52017201\n",
       "1     /workspace/dataset_new/52017201/22-03-21_11000...     1  52017201\n",
       "2     /workspace/dataset_new/52017201/22-03-21_11000...     1  52017201\n",
       "3     /workspace/dataset_new/52017201/21-01-15_11000...     1  52017201\n",
       "4     /workspace/dataset_new/52017201/21-01-15_11000...     1  52017201\n",
       "...                                                 ...   ...       ...\n",
       "4755  /workspace/dataset_new/34716454/20-07-22_11000...     1  34716454\n",
       "4756  /workspace/dataset_new/34716454/20-07-22_11000...     1  34716454\n",
       "4757  /workspace/dataset_new/34716454/22-08-19_11000...     1  34716454\n",
       "4758  /workspace/dataset_new/34716454/19-12-31_11000...     1  34716454\n",
       "4759  /workspace/dataset_new/34716454/19-12-31_11000...     1  34716454\n",
       "\n",
       "[4760 rows x 3 columns]"
      ]
     },
     "execution_count": 76,
     "metadata": {},
     "output_type": "execute_result"
    }
   ],
   "source": [
    "df"
   ]
  },
  {
   "cell_type": "code",
   "execution_count": 77,
   "metadata": {},
   "outputs": [
    {
     "data": {
      "text/plain": [
       "675"
      ]
     },
     "execution_count": 77,
     "metadata": {},
     "output_type": "execute_result"
    }
   ],
   "source": [
    "len(set(list(df['id'])))"
   ]
  },
  {
   "cell_type": "markdown",
   "metadata": {},
   "source": [
    "* train valid split"
   ]
  },
  {
   "cell_type": "code",
   "execution_count": 78,
   "metadata": {},
   "outputs": [
    {
     "data": {
      "text/plain": [
       "0       52017201\n",
       "1       52017201\n",
       "2       52017201\n",
       "3       52017201\n",
       "4       52017201\n",
       "          ...   \n",
       "4755    34716454\n",
       "4756    34716454\n",
       "4757    34716454\n",
       "4758    34716454\n",
       "4759    34716454\n",
       "Name: id, Length: 4760, dtype: int64"
      ]
     },
     "execution_count": 78,
     "metadata": {},
     "output_type": "execute_result"
    }
   ],
   "source": [
    "df['id']"
   ]
  },
  {
   "cell_type": "code",
   "execution_count": 79,
   "metadata": {},
   "outputs": [],
   "source": [
    "df_du = df[['label', 'id']].drop_duplicates('id')"
   ]
  },
  {
   "cell_type": "code",
   "execution_count": 80,
   "metadata": {},
   "outputs": [
    {
     "data": {
      "text/html": [
       "<div>\n",
       "<style scoped>\n",
       "    .dataframe tbody tr th:only-of-type {\n",
       "        vertical-align: middle;\n",
       "    }\n",
       "\n",
       "    .dataframe tbody tr th {\n",
       "        vertical-align: top;\n",
       "    }\n",
       "\n",
       "    .dataframe thead th {\n",
       "        text-align: right;\n",
       "    }\n",
       "</style>\n",
       "<table border=\"1\" class=\"dataframe\">\n",
       "  <thead>\n",
       "    <tr style=\"text-align: right;\">\n",
       "      <th></th>\n",
       "      <th>label</th>\n",
       "      <th>id</th>\n",
       "    </tr>\n",
       "  </thead>\n",
       "  <tbody>\n",
       "    <tr>\n",
       "      <th>0</th>\n",
       "      <td>1</td>\n",
       "      <td>52017201</td>\n",
       "    </tr>\n",
       "    <tr>\n",
       "      <th>6</th>\n",
       "      <td>1</td>\n",
       "      <td>50676642</td>\n",
       "    </tr>\n",
       "    <tr>\n",
       "      <th>11</th>\n",
       "      <td>1</td>\n",
       "      <td>32430451</td>\n",
       "    </tr>\n",
       "    <tr>\n",
       "      <th>14</th>\n",
       "      <td>0</td>\n",
       "      <td>51870896</td>\n",
       "    </tr>\n",
       "    <tr>\n",
       "      <th>19</th>\n",
       "      <td>0</td>\n",
       "      <td>52957284</td>\n",
       "    </tr>\n",
       "    <tr>\n",
       "      <th>...</th>\n",
       "      <td>...</td>\n",
       "      <td>...</td>\n",
       "    </tr>\n",
       "    <tr>\n",
       "      <th>4733</th>\n",
       "      <td>0</td>\n",
       "      <td>51965941</td>\n",
       "    </tr>\n",
       "    <tr>\n",
       "      <th>4736</th>\n",
       "      <td>0</td>\n",
       "      <td>52757439</td>\n",
       "    </tr>\n",
       "    <tr>\n",
       "      <th>4739</th>\n",
       "      <td>0</td>\n",
       "      <td>53604398</td>\n",
       "    </tr>\n",
       "    <tr>\n",
       "      <th>4740</th>\n",
       "      <td>1</td>\n",
       "      <td>50205451</td>\n",
       "    </tr>\n",
       "    <tr>\n",
       "      <th>4753</th>\n",
       "      <td>1</td>\n",
       "      <td>34716454</td>\n",
       "    </tr>\n",
       "  </tbody>\n",
       "</table>\n",
       "<p>675 rows × 2 columns</p>\n",
       "</div>"
      ],
      "text/plain": [
       "     label        id\n",
       "0        1  52017201\n",
       "6        1  50676642\n",
       "11       1  32430451\n",
       "14       0  51870896\n",
       "19       0  52957284\n",
       "...    ...       ...\n",
       "4733     0  51965941\n",
       "4736     0  52757439\n",
       "4739     0  53604398\n",
       "4740     1  50205451\n",
       "4753     1  34716454\n",
       "\n",
       "[675 rows x 2 columns]"
      ]
     },
     "execution_count": 80,
     "metadata": {},
     "output_type": "execute_result"
    }
   ],
   "source": [
    "df_du"
   ]
  },
  {
   "cell_type": "code",
   "execution_count": 81,
   "metadata": {},
   "outputs": [],
   "source": [
    "from sklearn.model_selection import train_test_split"
   ]
  },
  {
   "cell_type": "code",
   "execution_count": 82,
   "metadata": {},
   "outputs": [],
   "source": [
    "x_train, x_valid ,y_train, y_valid = train_test_split(df_du['id'], df_du['label'], test_size=0.3, shuffle=True, stratify=df_du['label'], random_state=2022)"
   ]
  },
  {
   "cell_type": "code",
   "execution_count": 83,
   "metadata": {},
   "outputs": [
    {
     "name": "stdout",
     "output_type": "stream",
     "text": [
      "(472,) (472,) (203,) (203,)\n"
     ]
    }
   ],
   "source": [
    "print(x_train.shape, y_train.shape, x_valid.shape, y_valid.shape)"
   ]
  },
  {
   "cell_type": "markdown",
   "metadata": {},
   "source": [
    "* valid test split"
   ]
  },
  {
   "cell_type": "code",
   "execution_count": 84,
   "metadata": {},
   "outputs": [],
   "source": [
    "x_valid, x_test ,y_valid, y_test = train_test_split(x_valid, y_valid, test_size=0.5, shuffle=True, stratify=y_valid, random_state=2022)"
   ]
  },
  {
   "cell_type": "code",
   "execution_count": 85,
   "metadata": {},
   "outputs": [
    {
     "name": "stdout",
     "output_type": "stream",
     "text": [
      "(472,) (472,) (101,) (101,) (102,) (102,)\n"
     ]
    }
   ],
   "source": [
    "print(x_train.shape, y_train.shape, x_valid.shape, y_valid.shape, x_test.shape, y_test.shape)"
   ]
  },
  {
   "cell_type": "code",
   "execution_count": 238,
   "metadata": {},
   "outputs": [
    {
     "name": "stdout",
     "output_type": "stream",
     "text": [
      "(472,) (472,) (101,) (101,) (102,) (102,)\n"
     ]
    }
   ],
   "source": [
    "print(x_train.shape, y_train.shape, x_valid.shape, y_valid.shape, x_test.shape, y_test.shape)"
   ]
  },
  {
   "cell_type": "code",
   "execution_count": 88,
   "metadata": {},
   "outputs": [
    {
     "data": {
      "text/plain": [
       "675"
      ]
     },
     "execution_count": 88,
     "metadata": {},
     "output_type": "execute_result"
    }
   ],
   "source": [
    "472+101+102"
   ]
  },
  {
   "cell_type": "markdown",
   "metadata": {},
   "source": [
    "* train save"
   ]
  },
  {
   "cell_type": "code",
   "execution_count": 86,
   "metadata": {},
   "outputs": [],
   "source": [
    "df_x_train = df[df['id'].map(lambda x : x in list(x_train))]"
   ]
  },
  {
   "cell_type": "code",
   "execution_count": 87,
   "metadata": {},
   "outputs": [
    {
     "data": {
      "text/plain": [
       "3281"
      ]
     },
     "execution_count": 87,
     "metadata": {},
     "output_type": "execute_result"
    }
   ],
   "source": [
    "len(df_x_train)"
   ]
  },
  {
   "cell_type": "code",
   "execution_count": 271,
   "metadata": {},
   "outputs": [],
   "source": [
    "for idx, (label, path) in enumerate(zip(df_x_train['label'], df_x_train['url'])):\n",
    "    dcm = pydicom.dcmread(path)\n",
    "    img = dcm.pixel_array\n",
    "    save_img = Image.fromarray(img)\n",
    "    id = path.replace('.', '/').split('/')[-3]\n",
    "    fd_path = '/workspace/pre_dataset/train/' + str(label)\n",
    "    img_path = fd_path + '/' + str(id) + '-' + str(idx) +'.jpg'\n",
    "    if not os.path.isdir(fd_path):\n",
    "                os.makedirs(fd_path)\n",
    "    save_img.save(img_path)"
   ]
  },
  {
   "cell_type": "markdown",
   "metadata": {},
   "source": [
    "* valid save"
   ]
  },
  {
   "cell_type": "code",
   "execution_count": 272,
   "metadata": {},
   "outputs": [],
   "source": [
    "df_x_valid = df[df['id'].map(lambda x : x in list(x_valid))]"
   ]
  },
  {
   "cell_type": "code",
   "execution_count": 273,
   "metadata": {},
   "outputs": [],
   "source": [
    "for idx, (label, path) in enumerate(zip(df_x_valid['label'], df_x_valid['url'])):\n",
    "    dcm = pydicom.dcmread(path)\n",
    "    img = dcm.pixel_array\n",
    "    save_img = Image.fromarray(img)\n",
    "    id = path.replace('.', '/').split('/')[-3]\n",
    "    fd_path = '/workspace/pre_dataset/valid/' + str(label)\n",
    "    img_path = fd_path + '/' + str(id) + '-' + str(idx) +'.jpg'\n",
    "    if not os.path.isdir(fd_path):\n",
    "                os.makedirs(fd_path)\n",
    "    save_img.save(img_path)"
   ]
  },
  {
   "cell_type": "markdown",
   "metadata": {},
   "source": [
    "* test save"
   ]
  },
  {
   "cell_type": "code",
   "execution_count": 274,
   "metadata": {},
   "outputs": [],
   "source": [
    "df_x_test = df[df['id'].map(lambda x : x in list(x_test))]"
   ]
  },
  {
   "cell_type": "code",
   "execution_count": 275,
   "metadata": {},
   "outputs": [],
   "source": [
    "for idx, (label, path) in enumerate(zip(df_x_test['label'], df_x_test['url'])):\n",
    "    dcm = pydicom.dcmread(path)\n",
    "    img = dcm.pixel_array\n",
    "    save_img = Image.fromarray(img)\n",
    "    id = path.replace('.', '/').split('/')[-3]\n",
    "    fd_path = '/workspace/pre_dataset/test/' + str(label)\n",
    "    img_path = fd_path + '/' + str(id) + '-' + str(idx) +'.jpg'\n",
    "    if not os.path.isdir(fd_path):\n",
    "                os.makedirs(fd_path)\n",
    "    save_img.save(img_path)"
   ]
  },
  {
   "cell_type": "markdown",
   "metadata": {},
   "source": [
    "* 갯수 확인"
   ]
  },
  {
   "cell_type": "code",
   "execution_count": 42,
   "metadata": {},
   "outputs": [],
   "source": [
    "def get_files_count(folder_path):\n",
    "\tdirListing = os.listdir(folder_path)\n",
    "\treturn len(dirListing)"
   ]
  },
  {
   "cell_type": "code",
   "execution_count": 43,
   "metadata": {},
   "outputs": [],
   "source": [
    "train_0 = get_files_count('/workspace/pre_dataset/train/0')\n",
    "train_1 = get_files_count('/workspace/pre_dataset/train/1')\n",
    "train_2 = get_files_count('/workspace/pre_dataset/train/2')\n",
    "train_3 = get_files_count('/workspace/pre_dataset/train/3')"
   ]
  },
  {
   "cell_type": "code",
   "execution_count": 44,
   "metadata": {},
   "outputs": [
    {
     "name": "stdout",
     "output_type": "stream",
     "text": [
      "0 0 0 0\n"
     ]
    }
   ],
   "source": [
    "print(train_0, train_1, train_2, train_3)"
   ]
  },
  {
   "cell_type": "code",
   "execution_count": 284,
   "metadata": {},
   "outputs": [
    {
     "data": {
      "text/plain": [
       "3249"
      ]
     },
     "execution_count": 284,
     "metadata": {},
     "output_type": "execute_result"
    }
   ],
   "source": [
    "1808 + 1175 + 229 + 37"
   ]
  },
  {
   "cell_type": "code",
   "execution_count": 281,
   "metadata": {},
   "outputs": [],
   "source": [
    "valid_0 = get_files_count('/workspace/pre_dataset/valid/0')\n",
    "valid_1 = get_files_count('/workspace/pre_dataset/valid/1')\n",
    "valid_2 = get_files_count('/workspace/pre_dataset/valid/2')\n",
    "valid_3 = get_files_count('/workspace/pre_dataset/valid/3')"
   ]
  },
  {
   "cell_type": "code",
   "execution_count": 282,
   "metadata": {},
   "outputs": [
    {
     "name": "stdout",
     "output_type": "stream",
     "text": [
      "409 309 49 11\n"
     ]
    }
   ],
   "source": [
    "print(valid_0, valid_1, valid_2, valid_3)"
   ]
  },
  {
   "cell_type": "code",
   "execution_count": 283,
   "metadata": {},
   "outputs": [
    {
     "data": {
      "text/plain": [
       "778"
      ]
     },
     "execution_count": 283,
     "metadata": {},
     "output_type": "execute_result"
    }
   ],
   "source": [
    "409 + 309 + 49 + 11"
   ]
  },
  {
   "cell_type": "code",
   "execution_count": 285,
   "metadata": {},
   "outputs": [],
   "source": [
    "test_0 = get_files_count('/workspace/pre_dataset/test/0')\n",
    "test_1 = get_files_count('/workspace/pre_dataset/test/1')\n",
    "test_2 = get_files_count('/workspace/pre_dataset/test/2')\n",
    "test_3 = get_files_count('/workspace/pre_dataset/test/3')"
   ]
  },
  {
   "cell_type": "code",
   "execution_count": 286,
   "metadata": {},
   "outputs": [
    {
     "name": "stdout",
     "output_type": "stream",
     "text": [
      "387 283 57 6\n"
     ]
    }
   ],
   "source": [
    "print(test_0, test_1, test_2, test_3)"
   ]
  },
  {
   "cell_type": "code",
   "execution_count": 287,
   "metadata": {},
   "outputs": [
    {
     "data": {
      "text/plain": [
       "733"
      ]
     },
     "execution_count": 287,
     "metadata": {},
     "output_type": "execute_result"
    }
   ],
   "source": [
    "387 + 283 + 57 + 6"
   ]
  },
  {
   "cell_type": "code",
   "execution_count": 288,
   "metadata": {},
   "outputs": [
    {
     "data": {
      "text/plain": [
       "4760"
      ]
     },
     "execution_count": 288,
     "metadata": {},
     "output_type": "execute_result"
    }
   ],
   "source": [
    "len(df)"
   ]
  },
  {
   "cell_type": "code",
   "execution_count": 289,
   "metadata": {},
   "outputs": [
    {
     "data": {
      "text/plain": [
       "4760"
      ]
     },
     "execution_count": 289,
     "metadata": {},
     "output_type": "execute_result"
    }
   ],
   "source": [
    "3249 + 778 + 733"
   ]
  },
  {
   "cell_type": "markdown",
   "metadata": {},
   "source": [
    "→ 갯수 이슈 없음"
   ]
  }
 ],
 "metadata": {
  "kernelspec": {
   "display_name": "Python 3 (ipykernel)",
   "language": "python",
   "name": "python3"
  },
  "language_info": {
   "codemirror_mode": {
    "name": "ipython",
    "version": 3
   },
   "file_extension": ".py",
   "mimetype": "text/x-python",
   "name": "python",
   "nbconvert_exporter": "python",
   "pygments_lexer": "ipython3",
   "version": "3.8.10 (default, Mar 15 2022, 12:22:08) \n[GCC 9.4.0]"
  },
  "orig_nbformat": 4,
  "vscode": {
   "interpreter": {
    "hash": "31f2aee4e71d21fbe5cf8b01ff0e069b9275f58929596ceb00d14d90e3e16cd6"
   }
  }
 },
 "nbformat": 4,
 "nbformat_minor": 2
}

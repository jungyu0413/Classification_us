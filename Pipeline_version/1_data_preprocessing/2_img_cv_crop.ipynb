{
 "cells": [
  {
   "cell_type": "markdown",
   "metadata": {},
   "source": [
    "### OpenCV를 활용해서 Crop"
   ]
  },
  {
   "cell_type": "code",
   "execution_count": 1,
   "metadata": {},
   "outputs": [],
   "source": [
    "import cv2\n",
    "import json\n",
    "from glob import glob\n",
    "from PIL import Image\n",
    "import numpy as np\n",
    "import os\n",
    "import pandas as pd\n",
    "import pydicom\n",
    "import matplotlib.pyplot as plt"
   ]
  },
  {
   "cell_type": "markdown",
   "metadata": {},
   "source": [
    "* train crop"
   ]
  },
  {
   "cell_type": "code",
   "execution_count": 2,
   "metadata": {},
   "outputs": [],
   "source": [
    "img_path = '/workspace/pre_dataset/train'"
   ]
  },
  {
   "cell_type": "code",
   "execution_count": 4,
   "metadata": {},
   "outputs": [
    {
     "name": "stdout",
     "output_type": "stream",
     "text": [
      "/workspace/pre_dataset/train/0/392834309.jpg\n",
      "/workspace/pre_dataset/train/1/497047257.jpg\n",
      "/workspace/pre_dataset/train/1/519988199.jpg\n",
      "/workspace/pre_dataset/train/1/497047255.jpg\n",
      "/workspace/pre_dataset/train/1/156423677.jpg\n",
      "/workspace/pre_dataset/train/1/508970526.jpg\n",
      "/workspace/pre_dataset/train/1/497047253.jpg\n",
      "/workspace/pre_dataset/train/1/156423673.jpg\n",
      "/workspace/pre_dataset/train/2/5089933711.jpg\n",
      "/workspace/pre_dataset/train/2/501668428.jpg\n"
     ]
    }
   ],
   "source": [
    "for top, dir, f in os.walk(img_path):\n",
    "    for filename in f:\n",
    "        url = os.path.join(top,filename)\n",
    "        sp = url.split('/')\n",
    "        img = cv2.imread(url)\n",
    "        img = img[60:500 ,50:900]\n",
    "        gray = cv2.cvtColor(img, cv2.COLOR_BGR2GRAY)\n",
    "        thresh = cv2.threshold(gray, 0, 255, cv2.THRESH_OTSU + cv2.THRESH_BINARY)[1]\n",
    "        cnts = cv2.findContours(thresh, cv2.RETR_EXTERNAL, cv2.CHAIN_APPROX_SIMPLE)\n",
    "        cnts = cnts[0] if len(cnts) == 2 else cnts[1]\n",
    "        cnts = sorted(cnts, key=cv2.contourArea, reverse=True)\n",
    "        for c in cnts:\n",
    "            x,y,w,h = cv2.boundingRect(c)\n",
    "            ROI = img[y:y+h, x:x+w]\n",
    "            break\n",
    "        \n",
    "        try :\n",
    "            ROI = ROI[0:250 ,50:600]\n",
    "            crop_img = Image.fromarray(ROI)\n",
    "            save_path ='/workspace/crop_dataset(csv)/train/' + '/' +sp[4]\n",
    "            save_img_path = '/workspace/crop_dataset(csv)/train/' + '/'.join(sp[4:])\n",
    "        \n",
    "        except:\n",
    "            print(url)\n",
    "\n",
    "        if not os.path.isdir(save_path):\n",
    "                os.makedirs(save_path)\n",
    "        \n",
    "        try:\n",
    "            crop_img.save(save_img_path)\n",
    "        except:\n",
    "            print(save_path)"
   ]
  },
  {
   "cell_type": "markdown",
   "metadata": {},
   "source": [
    "* valid crop"
   ]
  },
  {
   "cell_type": "code",
   "execution_count": 5,
   "metadata": {},
   "outputs": [],
   "source": [
    "img_path = '/workspace/pre_dataset/valid'"
   ]
  },
  {
   "cell_type": "code",
   "execution_count": 6,
   "metadata": {},
   "outputs": [
    {
     "name": "stdout",
     "output_type": "stream",
     "text": [
      "/workspace/pre_dataset/valid/1/497047255.jpg\n",
      "/workspace/pre_dataset/valid/1/156423673.jpg\n"
     ]
    }
   ],
   "source": [
    "for top, dir, f in os.walk(img_path):\n",
    "    for filename in f:\n",
    "        url = os.path.join(top,filename)\n",
    "        sp = url.split('/')\n",
    "        img = cv2.imread(url)\n",
    "        img = img[60:500 ,50:900]\n",
    "        gray = cv2.cvtColor(img, cv2.COLOR_BGR2GRAY)\n",
    "        thresh = cv2.threshold(gray, 0, 255, cv2.THRESH_OTSU + cv2.THRESH_BINARY)[1]\n",
    "        cnts = cv2.findContours(thresh, cv2.RETR_EXTERNAL, cv2.CHAIN_APPROX_SIMPLE)\n",
    "        cnts = cnts[0] if len(cnts) == 2 else cnts[1]\n",
    "        cnts = sorted(cnts, key=cv2.contourArea, reverse=True)\n",
    "        for c in cnts:\n",
    "            x,y,w,h = cv2.boundingRect(c)\n",
    "            ROI = img[y:y+h, x:x+w]\n",
    "            break\n",
    "        \n",
    "        try :\n",
    "            ROI = ROI[0:250 ,50:600]\n",
    "            crop_img = Image.fromarray(ROI)\n",
    "            save_path ='/workspace/crop_dataset(csv)/valid/' + '/' +sp[4]\n",
    "            save_img_path = '/workspace/crop_dataset(csv)/valid/' + '/'.join(sp[4:])\n",
    "        \n",
    "        except:\n",
    "            print(url)\n",
    "\n",
    "        if not os.path.isdir(save_path):\n",
    "                os.makedirs(save_path)\n",
    "        \n",
    "        try:\n",
    "            crop_img.save(save_img_path)\n",
    "        except:\n",
    "            print(save_path)"
   ]
  },
  {
   "cell_type": "markdown",
   "metadata": {},
   "source": [
    "* test crop"
   ]
  },
  {
   "cell_type": "code",
   "execution_count": 7,
   "metadata": {},
   "outputs": [],
   "source": [
    "img_path = '/workspace/pre_dataset/test'"
   ]
  },
  {
   "cell_type": "code",
   "execution_count": 8,
   "metadata": {},
   "outputs": [
    {
     "name": "stdout",
     "output_type": "stream",
     "text": [
      "/workspace/pre_dataset/test/1/497047255.jpg\n",
      "/workspace/pre_dataset/test/1/156423673.jpg\n"
     ]
    }
   ],
   "source": [
    "for top, dir, f in os.walk(img_path):\n",
    "    for filename in f:\n",
    "        url = os.path.join(top,filename)\n",
    "        sp = url.split('/')\n",
    "        img = cv2.imread(url)\n",
    "        img = img[60:500 ,50:900]\n",
    "        gray = cv2.cvtColor(img, cv2.COLOR_BGR2GRAY)\n",
    "        thresh = cv2.threshold(gray, 0, 255, cv2.THRESH_OTSU + cv2.THRESH_BINARY)[1]\n",
    "        cnts = cv2.findContours(thresh, cv2.RETR_EXTERNAL, cv2.CHAIN_APPROX_SIMPLE)\n",
    "        cnts = cnts[0] if len(cnts) == 2 else cnts[1]\n",
    "        cnts = sorted(cnts, key=cv2.contourArea, reverse=True)\n",
    "        for c in cnts:\n",
    "            x,y,w,h = cv2.boundingRect(c)\n",
    "            ROI = img[y:y+h, x:x+w]\n",
    "            break\n",
    "        \n",
    "        try :\n",
    "            ROI = ROI[0:250 ,50:600]\n",
    "            crop_img = Image.fromarray(ROI)\n",
    "            save_path ='/workspace/crop_dataset(csv)/test/' + '/' +sp[4]\n",
    "            save_img_path = '/workspace/crop_dataset(csv)/test/' + '/'.join(sp[4:])\n",
    "        \n",
    "        except:\n",
    "            print(url)\n",
    "\n",
    "        if not os.path.isdir(save_path):\n",
    "                os.makedirs(save_path)\n",
    "        \n",
    "        try:\n",
    "            crop_img.save(save_img_path)\n",
    "        except:\n",
    "            print(save_path)"
   ]
  }
 ],
 "metadata": {
  "kernelspec": {
   "display_name": "Python 3.8.10 64-bit",
   "language": "python",
   "name": "python3"
  },
  "language_info": {
   "codemirror_mode": {
    "name": "ipython",
    "version": 3
   },
   "file_extension": ".py",
   "mimetype": "text/x-python",
   "name": "python",
   "nbconvert_exporter": "python",
   "pygments_lexer": "ipython3",
   "version": "3.8.10"
  },
  "orig_nbformat": 4,
  "vscode": {
   "interpreter": {
    "hash": "31f2aee4e71d21fbe5cf8b01ff0e069b9275f58929596ceb00d14d90e3e16cd6"
   }
  }
 },
 "nbformat": 4,
 "nbformat_minor": 2
}

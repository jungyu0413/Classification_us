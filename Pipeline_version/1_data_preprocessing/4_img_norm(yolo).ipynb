{
 "cells": [
  {
   "cell_type": "code",
   "execution_count": 11,
   "metadata": {},
   "outputs": [
    {
     "name": "stdout",
     "output_type": "stream",
     "text": [
      "/workspace\n"
     ]
    }
   ],
   "source": [
    "cd .."
   ]
  },
  {
   "cell_type": "code",
   "execution_count": 12,
   "metadata": {},
   "outputs": [],
   "source": [
    "import torch\n",
    "import train\n",
    "import model\n",
    "from utils import get_free_gpu\n",
    "import utils\n",
    "import torch.utils.data as torchdata\n",
    "import get_dataset\n",
    "import torch.nn as nn\n",
    "import torch.utils.model_zoo as model_zoo\n",
    "import numpy as np\n",
    "import os\n",
    "import matplotlib.pyplot as plt\n",
    "import pandas as pd"
   ]
  },
  {
   "cell_type": "code",
   "execution_count": 13,
   "metadata": {},
   "outputs": [],
   "source": [
    "trainset = get_dataset.getdataset(path='/workspace/yolo_RoI_version4_manu(0.6)', type='train')"
   ]
  },
  {
   "cell_type": "code",
   "execution_count": 14,
   "metadata": {},
   "outputs": [],
   "source": [
    "def print_stats(dataset):\n",
    "    imgs = np.array([img.numpy() for img, _ in dataset])\n",
    "    print(f'shape: {imgs.shape}')\n",
    "    \n",
    "    min_r = np.min(imgs, axis=(2, 3))[:, 0].min()\n",
    "    min_g = np.min(imgs, axis=(2, 3))[:, 1].min()\n",
    "    min_b = np.min(imgs, axis=(2, 3))[:, 2].min()\n",
    "\n",
    "    max_r = np.max(imgs, axis=(2, 3))[:, 0].max()\n",
    "    max_g = np.max(imgs, axis=(2, 3))[:, 1].max()\n",
    "    max_b = np.max(imgs, axis=(2, 3))[:, 2].max()\n",
    "\n",
    "    mean_r = np.mean(imgs, axis=(2, 3))[:, 0].mean()\n",
    "    mean_g = np.mean(imgs, axis=(2, 3))[:, 1].mean()\n",
    "    mean_b = np.mean(imgs, axis=(2, 3))[:, 2].mean()\n",
    "\n",
    "    std_r = np.std(imgs, axis=(2, 3))[:, 0].std()\n",
    "    std_g = np.std(imgs, axis=(2, 3))[:, 1].std()\n",
    "    std_b = np.std(imgs, axis=(2, 3))[:, 2].std()\n",
    "    \n",
    "    print(f'min: {min_r, min_g, min_b}')\n",
    "    print(f'max: {max_r, max_g, max_b}')\n",
    "    print(f'mean: {mean_r, mean_g, mean_b}')\n",
    "    print(f'std: {std_r, std_g, std_b}')"
   ]
  },
  {
   "cell_type": "code",
   "execution_count": 15,
   "metadata": {},
   "outputs": [
    {
     "name": "stdout",
     "output_type": "stream",
     "text": [
      "shape: (12571, 3, 224, 224)\n",
      "min: (0.0, 0.0, 0.0)\n",
      "max: (1.0, 1.0, 1.0)\n",
      "mean: (0.25429597, 0.25432256, 0.25452384)\n",
      "std: (0.03109195, 0.031083336, 0.030992588)\n"
     ]
    }
   ],
   "source": [
    "print_stats(trainset)"
   ]
  },
  {
   "cell_type": "code",
   "execution_count": 12,
   "metadata": {},
   "outputs": [],
   "source": [
    "from torchvision import datasets\n",
    "import torchvision.transforms as transforms\n",
    "from torch.utils.data.sampler import SubsetRandomSampler\n",
    "import numpy as np\n",
    "from sklearn.model_selection import train_test_split\n",
    "import torch\n",
    "# import package \n",
    "\n",
    "def get_dataset(train_name, valid_name, test_name, img_path='/workspace/yolo_RoI/'):\n",
    "    batch_size=32\n",
    "    if train_name in ['train', 'valid', 'test']:\n",
    "        # dataset name\n",
    "        data_transforms = {\n",
    "            'train': transforms.Compose([\n",
    "                transforms.Resize([64, 128]),\n",
    "            #    transforms.RandomCrop(224),\n",
    "            #    transforms.CenterCrop((256, 128)),\n",
    "            #    transforms.RandomHorizontalFlip(),\n",
    "            #    transforms.RandomVerticalFlip(),\n",
    "            #    transforms.ColorJitter(brightness=0.4, contrast=0.4, saturation=0.4, hue=0.2),\n",
    "\n",
    "                transforms.ToTensor(),\n",
    "                transforms.Normalize([-0.055694155, -0.055332225, -0.055633955], [0.99793416, 0.9979854, 0.9977238]),\n",
    "            ]),\n",
    "            'test': transforms.Compose([\n",
    "                transforms.Resize([64, 128]),\n",
    "            #    transforms.CenterCrop((256, 128)),\n",
    "                transforms.ToTensor(),\n",
    "                transforms.Normalize([-0.055694155, -0.055332225, -0.055633955], [0.99793416, 0.9979854, 0.9977238]),\n",
    "            ]),\n",
    "        }\n",
    "        # data preprocessing & augmentation\n",
    "\n",
    "        trainset = datasets.ImageFolder(img_path + train_name + '/', data_transforms['train'])\n",
    "        validset = datasets.ImageFolder(img_path + valid_name + '/', data_transforms['test'])\n",
    "        testset = datasets.ImageFolder(img_path + test_name + '/', data_transforms['test'])\n",
    "    \n",
    "    else:\n",
    "        raise ValueError('Dataset %s not found!' % train_name)\n",
    "\n",
    "    return trainset, validset, testset "
   ]
  },
  {
   "cell_type": "code",
   "execution_count": 13,
   "metadata": {},
   "outputs": [],
   "source": [
    "trainset, _, _ = get_dataset('train', 'valid', 'test', '/workspace/yolo_RoI/')"
   ]
  },
  {
   "cell_type": "code",
   "execution_count": 14,
   "metadata": {},
   "outputs": [],
   "source": [
    "train_loader = torchdata.DataLoader(trainset, batch_size=1, shuffle=True, num_workers=4, pin_memory=True, drop_last=True)"
   ]
  },
  {
   "cell_type": "code",
   "execution_count": 16,
   "metadata": {},
   "outputs": [],
   "source": [
    "for i in train_loader:\n",
    "    data1 = i\n",
    "    img0 = i[0]\n",
    "    lb0 = i[1]\n",
    "    break"
   ]
  },
  {
   "cell_type": "code",
   "execution_count": 17,
   "metadata": {},
   "outputs": [
    {
     "data": {
      "text/plain": [
       "<matplotlib.image.AxesImage at 0x7fa9033490d0>"
      ]
     },
     "execution_count": 17,
     "metadata": {},
     "output_type": "execute_result"
    },
    {
     "data": {
      "image/png": "[encoded data removed]",
      "text/plain": [
       "<Figure size 432x288 with 1 Axes>"
      ]
     },
     "metadata": {
      "needs_background": "light"
     },
     "output_type": "display_data"
    }
   ],
   "source": [
    "plt.imshow(img0[0].transpose(0,2))"
   ]
  },
  {
   "cell_type": "code",
   "execution_count": 18,
   "metadata": {},
   "outputs": [
    {
     "data": {
      "text/plain": [
       "tensor(0)"
      ]
     },
     "execution_count": 18,
     "metadata": {},
     "output_type": "execute_result"
    }
   ],
   "source": [
    "lb0[0]"
   ]
  }
 ],
 "metadata": {
  "kernelspec": {
   "display_name": "Python 3.8.10 64-bit",
   "language": "python",
   "name": "python3"
  },
  "language_info": {
   "codemirror_mode": {
    "name": "ipython",
    "version": 3
   },
   "file_extension": ".py",
   "mimetype": "text/x-python",
   "name": "python",
   "nbconvert_exporter": "python",
   "pygments_lexer": "ipython3",
   "version": "3.8.10"
  },
  "orig_nbformat": 4,
  "vscode": {
   "interpreter": {
    "hash": "31f2aee4e71d21fbe5cf8b01ff0e069b9275f58929596ceb00d14d90e3e16cd6"
   }
  }
 },
 "nbformat": 4,
 "nbformat_minor": 2
}

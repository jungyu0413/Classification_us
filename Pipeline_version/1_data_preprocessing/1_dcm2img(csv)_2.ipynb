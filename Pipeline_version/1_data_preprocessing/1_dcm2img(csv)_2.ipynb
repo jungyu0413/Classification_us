{
 "cells": [
  {
   "cell_type": "markdown",
   "metadata": {},
   "source": [
    "## Dicom to Image"
   ]
  },
  {
   "cell_type": "code",
   "execution_count": 1,
   "metadata": {},
   "outputs": [],
   "source": [
    "import cv2\n",
    "from PIL import Image\n",
    "import numpy as np\n",
    "import os\n",
    "import pandas as pd\n",
    "import pydicom\n",
    "import matplotlib.pyplot as plt"
   ]
  },
  {
   "cell_type": "markdown",
   "metadata": {},
   "source": [
    "* csv : csv에서 Implant-Manufacturer을 Label로 사용"
   ]
  },
  {
   "cell_type": "code",
   "execution_count": 2,
   "metadata": {},
   "outputs": [
    {
     "name": "stderr",
     "output_type": "stream",
     "text": [
      "/tmp/ipykernel_2211439/1487428822.py:1: DtypeWarning: Columns (4,6) have mixed types. Specify dtype option on import or set low_memory=False.\n",
      "  df = pd.read_csv('/workspace/20221129.csv')\n"
     ]
    }
   ],
   "source": [
    "df = pd.read_csv('/workspace/20221129.csv')"
   ]
  },
  {
   "cell_type": "code",
   "execution_count": 3,
   "metadata": {},
   "outputs": [
    {
     "data": {
      "text/html": [
       "<div>\n",
       "<style scoped>\n",
       "    .dataframe tbody tr th:only-of-type {\n",
       "        vertical-align: middle;\n",
       "    }\n",
       "\n",
       "    .dataframe tbody tr th {\n",
       "        vertical-align: top;\n",
       "    }\n",
       "\n",
       "    .dataframe thead th {\n",
       "        text-align: right;\n",
       "    }\n",
       "</style>\n",
       "<table border=\"1\" class=\"dataframe\">\n",
       "  <thead>\n",
       "    <tr style=\"text-align: right;\">\n",
       "      <th></th>\n",
       "      <th>데이터명</th>\n",
       "      <th>Case_No.</th>\n",
       "      <th>ID</th>\n",
       "      <th>Sex</th>\n",
       "      <th>Age</th>\n",
       "      <th>Insertion  date</th>\n",
       "      <th>Removal date</th>\n",
       "      <th>Side</th>\n",
       "      <th>Manufacturer\\n(Mentor: 0 \\nBellaGel: 1 \\nAllergan: 2\\nSebbin: 3\\nMotiva: 4)</th>\n",
       "      <th>Texture\\n(Smooth: 0\\nMicrotextured: 1\\nTextured: 2)</th>\n",
       "      <th>...</th>\n",
       "      <th>Unnamed: 16374</th>\n",
       "      <th>Unnamed: 16375</th>\n",
       "      <th>Unnamed: 16376</th>\n",
       "      <th>Unnamed: 16377</th>\n",
       "      <th>Unnamed: 16378</th>\n",
       "      <th>Unnamed: 16379</th>\n",
       "      <th>Unnamed: 16380</th>\n",
       "      <th>Unnamed: 16381</th>\n",
       "      <th>Unnamed: 16382</th>\n",
       "      <th>Unnamed: 16383</th>\n",
       "    </tr>\n",
       "  </thead>\n",
       "  <tbody>\n",
       "    <tr>\n",
       "      <th>0</th>\n",
       "      <td>NaN</td>\n",
       "      <td>1</td>\n",
       "      <td>28170976</td>\n",
       "      <td>F</td>\n",
       "      <td>34</td>\n",
       "      <td>6/1/2000</td>\n",
       "      <td>3/13/2007</td>\n",
       "      <td>L</td>\n",
       "      <td>3</td>\n",
       "      <td>0</td>\n",
       "      <td>...</td>\n",
       "      <td>NaN</td>\n",
       "      <td>NaN</td>\n",
       "      <td>NaN</td>\n",
       "      <td>NaN</td>\n",
       "      <td>NaN</td>\n",
       "      <td>NaN</td>\n",
       "      <td>NaN</td>\n",
       "      <td>NaN</td>\n",
       "      <td>NaN</td>\n",
       "      <td>NaN</td>\n",
       "    </tr>\n",
       "    <tr>\n",
       "      <th>1</th>\n",
       "      <td>NaN</td>\n",
       "      <td>1</td>\n",
       "      <td>28170976</td>\n",
       "      <td>F</td>\n",
       "      <td>34</td>\n",
       "      <td>6/1/2000</td>\n",
       "      <td>3/13/2007</td>\n",
       "      <td>L</td>\n",
       "      <td>3</td>\n",
       "      <td>0</td>\n",
       "      <td>...</td>\n",
       "      <td>NaN</td>\n",
       "      <td>NaN</td>\n",
       "      <td>NaN</td>\n",
       "      <td>NaN</td>\n",
       "      <td>NaN</td>\n",
       "      <td>NaN</td>\n",
       "      <td>NaN</td>\n",
       "      <td>NaN</td>\n",
       "      <td>NaN</td>\n",
       "      <td>NaN</td>\n",
       "    </tr>\n",
       "    <tr>\n",
       "      <th>2</th>\n",
       "      <td>NaN</td>\n",
       "      <td>1</td>\n",
       "      <td>28170976</td>\n",
       "      <td>F</td>\n",
       "      <td>34</td>\n",
       "      <td>6/1/2000</td>\n",
       "      <td>3/13/2007</td>\n",
       "      <td>L</td>\n",
       "      <td>3</td>\n",
       "      <td>0</td>\n",
       "      <td>...</td>\n",
       "      <td>NaN</td>\n",
       "      <td>NaN</td>\n",
       "      <td>NaN</td>\n",
       "      <td>NaN</td>\n",
       "      <td>NaN</td>\n",
       "      <td>NaN</td>\n",
       "      <td>NaN</td>\n",
       "      <td>NaN</td>\n",
       "      <td>NaN</td>\n",
       "      <td>NaN</td>\n",
       "    </tr>\n",
       "    <tr>\n",
       "      <th>3</th>\n",
       "      <td>NaN</td>\n",
       "      <td>2</td>\n",
       "      <td>24915920</td>\n",
       "      <td>F</td>\n",
       "      <td>50</td>\n",
       "      <td>8/8/2007</td>\n",
       "      <td>NaN</td>\n",
       "      <td>L</td>\n",
       "      <td>0</td>\n",
       "      <td>0</td>\n",
       "      <td>...</td>\n",
       "      <td>NaN</td>\n",
       "      <td>NaN</td>\n",
       "      <td>NaN</td>\n",
       "      <td>NaN</td>\n",
       "      <td>NaN</td>\n",
       "      <td>NaN</td>\n",
       "      <td>NaN</td>\n",
       "      <td>NaN</td>\n",
       "      <td>NaN</td>\n",
       "      <td>NaN</td>\n",
       "    </tr>\n",
       "    <tr>\n",
       "      <th>4</th>\n",
       "      <td>NaN</td>\n",
       "      <td>2</td>\n",
       "      <td>24915920</td>\n",
       "      <td>F</td>\n",
       "      <td>50</td>\n",
       "      <td>8/8/2007</td>\n",
       "      <td>NaN</td>\n",
       "      <td>L</td>\n",
       "      <td>0</td>\n",
       "      <td>0</td>\n",
       "      <td>...</td>\n",
       "      <td>NaN</td>\n",
       "      <td>NaN</td>\n",
       "      <td>NaN</td>\n",
       "      <td>NaN</td>\n",
       "      <td>NaN</td>\n",
       "      <td>NaN</td>\n",
       "      <td>NaN</td>\n",
       "      <td>NaN</td>\n",
       "      <td>NaN</td>\n",
       "      <td>NaN</td>\n",
       "    </tr>\n",
       "    <tr>\n",
       "      <th>...</th>\n",
       "      <td>...</td>\n",
       "      <td>...</td>\n",
       "      <td>...</td>\n",
       "      <td>...</td>\n",
       "      <td>...</td>\n",
       "      <td>...</td>\n",
       "      <td>...</td>\n",
       "      <td>...</td>\n",
       "      <td>...</td>\n",
       "      <td>...</td>\n",
       "      <td>...</td>\n",
       "      <td>...</td>\n",
       "      <td>...</td>\n",
       "      <td>...</td>\n",
       "      <td>...</td>\n",
       "      <td>...</td>\n",
       "      <td>...</td>\n",
       "      <td>...</td>\n",
       "      <td>...</td>\n",
       "      <td>...</td>\n",
       "      <td>...</td>\n",
       "    </tr>\n",
       "    <tr>\n",
       "      <th>2184</th>\n",
       "      <td>NaN</td>\n",
       "      <td>896</td>\n",
       "      <td>44568032</td>\n",
       "      <td>F</td>\n",
       "      <td>46세</td>\n",
       "      <td>11/24/2017</td>\n",
       "      <td>NaN</td>\n",
       "      <td>L</td>\n",
       "      <td>0</td>\n",
       "      <td>2</td>\n",
       "      <td>...</td>\n",
       "      <td>NaN</td>\n",
       "      <td>NaN</td>\n",
       "      <td>NaN</td>\n",
       "      <td>NaN</td>\n",
       "      <td>NaN</td>\n",
       "      <td>NaN</td>\n",
       "      <td>NaN</td>\n",
       "      <td>NaN</td>\n",
       "      <td>NaN</td>\n",
       "      <td>NaN</td>\n",
       "    </tr>\n",
       "    <tr>\n",
       "      <th>2185</th>\n",
       "      <td>NaN</td>\n",
       "      <td>897</td>\n",
       "      <td>48863878</td>\n",
       "      <td>F</td>\n",
       "      <td>60세</td>\n",
       "      <td>11/28/2017</td>\n",
       "      <td>NaN</td>\n",
       "      <td>R</td>\n",
       "      <td>2</td>\n",
       "      <td>2</td>\n",
       "      <td>...</td>\n",
       "      <td>NaN</td>\n",
       "      <td>NaN</td>\n",
       "      <td>NaN</td>\n",
       "      <td>NaN</td>\n",
       "      <td>NaN</td>\n",
       "      <td>NaN</td>\n",
       "      <td>NaN</td>\n",
       "      <td>NaN</td>\n",
       "      <td>NaN</td>\n",
       "      <td>NaN</td>\n",
       "    </tr>\n",
       "    <tr>\n",
       "      <th>2186</th>\n",
       "      <td>NaN</td>\n",
       "      <td>898</td>\n",
       "      <td>50156319</td>\n",
       "      <td>F</td>\n",
       "      <td>66세</td>\n",
       "      <td>11/29/2017</td>\n",
       "      <td>NaN</td>\n",
       "      <td>L</td>\n",
       "      <td>0</td>\n",
       "      <td>2</td>\n",
       "      <td>...</td>\n",
       "      <td>NaN</td>\n",
       "      <td>NaN</td>\n",
       "      <td>NaN</td>\n",
       "      <td>NaN</td>\n",
       "      <td>NaN</td>\n",
       "      <td>NaN</td>\n",
       "      <td>NaN</td>\n",
       "      <td>NaN</td>\n",
       "      <td>NaN</td>\n",
       "      <td>NaN</td>\n",
       "    </tr>\n",
       "    <tr>\n",
       "      <th>2187</th>\n",
       "      <td>NaN</td>\n",
       "      <td>899</td>\n",
       "      <td>49230565</td>\n",
       "      <td>F</td>\n",
       "      <td>52세</td>\n",
       "      <td>11/30/2017</td>\n",
       "      <td>NaN</td>\n",
       "      <td>R</td>\n",
       "      <td>2</td>\n",
       "      <td>2</td>\n",
       "      <td>...</td>\n",
       "      <td>NaN</td>\n",
       "      <td>NaN</td>\n",
       "      <td>NaN</td>\n",
       "      <td>NaN</td>\n",
       "      <td>NaN</td>\n",
       "      <td>NaN</td>\n",
       "      <td>NaN</td>\n",
       "      <td>NaN</td>\n",
       "      <td>NaN</td>\n",
       "      <td>NaN</td>\n",
       "    </tr>\n",
       "    <tr>\n",
       "      <th>2188</th>\n",
       "      <td>NaN</td>\n",
       "      <td>900</td>\n",
       "      <td>46207939</td>\n",
       "      <td>F</td>\n",
       "      <td>50세</td>\n",
       "      <td>11/30/2017</td>\n",
       "      <td>NaN</td>\n",
       "      <td>L</td>\n",
       "      <td>0</td>\n",
       "      <td>2</td>\n",
       "      <td>...</td>\n",
       "      <td>NaN</td>\n",
       "      <td>NaN</td>\n",
       "      <td>NaN</td>\n",
       "      <td>NaN</td>\n",
       "      <td>NaN</td>\n",
       "      <td>NaN</td>\n",
       "      <td>NaN</td>\n",
       "      <td>NaN</td>\n",
       "      <td>NaN</td>\n",
       "      <td>NaN</td>\n",
       "    </tr>\n",
       "  </tbody>\n",
       "</table>\n",
       "<p>2189 rows × 16384 columns</p>\n",
       "</div>"
      ],
      "text/plain": [
       "      데이터명  Case_No.        ID Sex  Age Insertion  date Removal date Side  \\\n",
       "0      NaN         1  28170976   F   34        6/1/2000    3/13/2007    L   \n",
       "1      NaN         1  28170976   F   34        6/1/2000    3/13/2007    L   \n",
       "2      NaN         1  28170976   F   34        6/1/2000    3/13/2007    L   \n",
       "3      NaN         2  24915920   F   50        8/8/2007          NaN    L   \n",
       "4      NaN         2  24915920   F   50        8/8/2007          NaN    L   \n",
       "...    ...       ...       ...  ..  ...             ...          ...  ...   \n",
       "2184   NaN       896  44568032   F  46세      11/24/2017          NaN    L   \n",
       "2185   NaN       897  48863878   F  60세      11/28/2017          NaN    R   \n",
       "2186   NaN       898  50156319   F  66세      11/29/2017          NaN    L   \n",
       "2187   NaN       899  49230565   F  52세      11/30/2017          NaN    R   \n",
       "2188   NaN       900  46207939   F  50세      11/30/2017          NaN    L   \n",
       "\n",
       "      Manufacturer\\n(Mentor: 0 \\nBellaGel: 1 \\nAllergan: 2\\nSebbin: 3\\nMotiva: 4)  \\\n",
       "0                                                     3                             \n",
       "1                                                     3                             \n",
       "2                                                     3                             \n",
       "3                                                     0                             \n",
       "4                                                     0                             \n",
       "...                                                 ...                             \n",
       "2184                                                  0                             \n",
       "2185                                                  2                             \n",
       "2186                                                  0                             \n",
       "2187                                                  2                             \n",
       "2188                                                  0                             \n",
       "\n",
       "      Texture\\n(Smooth: 0\\nMicrotextured: 1\\nTextured: 2)  ...  \\\n",
       "0                                                     0    ...   \n",
       "1                                                     0    ...   \n",
       "2                                                     0    ...   \n",
       "3                                                     0    ...   \n",
       "4                                                     0    ...   \n",
       "...                                                 ...    ...   \n",
       "2184                                                  2    ...   \n",
       "2185                                                  2    ...   \n",
       "2186                                                  2    ...   \n",
       "2187                                                  2    ...   \n",
       "2188                                                  2    ...   \n",
       "\n",
       "      Unnamed: 16374  Unnamed: 16375  Unnamed: 16376  Unnamed: 16377  \\\n",
       "0                NaN             NaN             NaN             NaN   \n",
       "1                NaN             NaN             NaN             NaN   \n",
       "2                NaN             NaN             NaN             NaN   \n",
       "3                NaN             NaN             NaN             NaN   \n",
       "4                NaN             NaN             NaN             NaN   \n",
       "...              ...             ...             ...             ...   \n",
       "2184             NaN             NaN             NaN             NaN   \n",
       "2185             NaN             NaN             NaN             NaN   \n",
       "2186             NaN             NaN             NaN             NaN   \n",
       "2187             NaN             NaN             NaN             NaN   \n",
       "2188             NaN             NaN             NaN             NaN   \n",
       "\n",
       "      Unnamed: 16378  Unnamed: 16379  Unnamed: 16380  Unnamed: 16381  \\\n",
       "0                NaN             NaN             NaN             NaN   \n",
       "1                NaN             NaN             NaN             NaN   \n",
       "2                NaN             NaN             NaN             NaN   \n",
       "3                NaN             NaN             NaN             NaN   \n",
       "4                NaN             NaN             NaN             NaN   \n",
       "...              ...             ...             ...             ...   \n",
       "2184             NaN             NaN             NaN             NaN   \n",
       "2185             NaN             NaN             NaN             NaN   \n",
       "2186             NaN             NaN             NaN             NaN   \n",
       "2187             NaN             NaN             NaN             NaN   \n",
       "2188             NaN             NaN             NaN             NaN   \n",
       "\n",
       "      Unnamed: 16382  Unnamed: 16383  \n",
       "0                NaN             NaN  \n",
       "1                NaN             NaN  \n",
       "2                NaN             NaN  \n",
       "3                NaN             NaN  \n",
       "4                NaN             NaN  \n",
       "...              ...             ...  \n",
       "2184             NaN             NaN  \n",
       "2185             NaN             NaN  \n",
       "2186             NaN             NaN  \n",
       "2187             NaN             NaN  \n",
       "2188             NaN             NaN  \n",
       "\n",
       "[2189 rows x 16384 columns]"
      ]
     },
     "execution_count": 3,
     "metadata": {},
     "output_type": "execute_result"
    }
   ],
   "source": [
    "df"
   ]
  },
  {
   "cell_type": "code",
   "execution_count": 4,
   "metadata": {},
   "outputs": [
    {
     "data": {
      "text/plain": [
       "900"
      ]
     },
     "execution_count": 4,
     "metadata": {},
     "output_type": "execute_result"
    }
   ],
   "source": [
    "len(set(df['ID']))"
   ]
  },
  {
   "cell_type": "code",
   "execution_count": 5,
   "metadata": {},
   "outputs": [
    {
     "data": {
      "text/plain": [
       "2189"
      ]
     },
     "execution_count": 5,
     "metadata": {},
     "output_type": "execute_result"
    }
   ],
   "source": [
    "len(df)"
   ]
  },
  {
   "cell_type": "markdown",
   "metadata": {},
   "source": [
    "→ 701명 1978장의 데이터"
   ]
  },
  {
   "cell_type": "code",
   "execution_count": 6,
   "metadata": {},
   "outputs": [],
   "source": [
    "df = df.dropna(axis=1)"
   ]
  },
  {
   "cell_type": "code",
   "execution_count": 7,
   "metadata": {},
   "outputs": [
    {
     "data": {
      "text/plain": [
       "2189"
      ]
     },
     "execution_count": 7,
     "metadata": {},
     "output_type": "execute_result"
    }
   ],
   "source": [
    "len(df)"
   ]
  },
  {
   "cell_type": "code",
   "execution_count": 8,
   "metadata": {},
   "outputs": [
    {
     "data": {
      "text/plain": [
       "Index(['Case_No.', 'ID', 'Sex', 'Age', 'Insertion  date',\n",
       "       'Manufacturer\\n(Mentor: 0 \\nBellaGel: 1 \\nAllergan: 2\\nSebbin: 3\\nMotiva: 4)',\n",
       "       'Texture\\n(Smooth: 0\\nMicrotextured: 1\\nTextured: 2)',\n",
       "       'Rupture\\n(Intact: 0\\nRuptured: 1)', 'sono date', 'Num_Img'],\n",
       "      dtype='object')"
      ]
     },
     "execution_count": 8,
     "metadata": {},
     "output_type": "execute_result"
    }
   ],
   "source": [
    "df.columns"
   ]
  },
  {
   "cell_type": "code",
   "execution_count": 9,
   "metadata": {},
   "outputs": [
    {
     "data": {
      "text/html": [
       "<div>\n",
       "<style scoped>\n",
       "    .dataframe tbody tr th:only-of-type {\n",
       "        vertical-align: middle;\n",
       "    }\n",
       "\n",
       "    .dataframe tbody tr th {\n",
       "        vertical-align: top;\n",
       "    }\n",
       "\n",
       "    .dataframe thead th {\n",
       "        text-align: right;\n",
       "    }\n",
       "</style>\n",
       "<table border=\"1\" class=\"dataframe\">\n",
       "  <thead>\n",
       "    <tr style=\"text-align: right;\">\n",
       "      <th></th>\n",
       "      <th>Case_No.</th>\n",
       "      <th>ID</th>\n",
       "      <th>Sex</th>\n",
       "      <th>Age</th>\n",
       "      <th>Insertion  date</th>\n",
       "      <th>Manufacturer\\n(Mentor: 0 \\nBellaGel: 1 \\nAllergan: 2\\nSebbin: 3\\nMotiva: 4)</th>\n",
       "      <th>Texture\\n(Smooth: 0\\nMicrotextured: 1\\nTextured: 2)</th>\n",
       "      <th>Rupture\\n(Intact: 0\\nRuptured: 1)</th>\n",
       "      <th>sono date</th>\n",
       "      <th>Num_Img</th>\n",
       "    </tr>\n",
       "  </thead>\n",
       "  <tbody>\n",
       "    <tr>\n",
       "      <th>0</th>\n",
       "      <td>1</td>\n",
       "      <td>28170976</td>\n",
       "      <td>F</td>\n",
       "      <td>34</td>\n",
       "      <td>6/1/2000</td>\n",
       "      <td>3</td>\n",
       "      <td>0</td>\n",
       "      <td>0</td>\n",
       "      <td>2001</td>\n",
       "      <td>4</td>\n",
       "    </tr>\n",
       "    <tr>\n",
       "      <th>1</th>\n",
       "      <td>1</td>\n",
       "      <td>28170976</td>\n",
       "      <td>F</td>\n",
       "      <td>34</td>\n",
       "      <td>6/1/2000</td>\n",
       "      <td>3</td>\n",
       "      <td>0</td>\n",
       "      <td>0</td>\n",
       "      <td>2003</td>\n",
       "      <td>1</td>\n",
       "    </tr>\n",
       "    <tr>\n",
       "      <th>2</th>\n",
       "      <td>1</td>\n",
       "      <td>28170976</td>\n",
       "      <td>F</td>\n",
       "      <td>34</td>\n",
       "      <td>6/1/2000</td>\n",
       "      <td>3</td>\n",
       "      <td>0</td>\n",
       "      <td>1</td>\n",
       "      <td>2007</td>\n",
       "      <td>3</td>\n",
       "    </tr>\n",
       "    <tr>\n",
       "      <th>3</th>\n",
       "      <td>2</td>\n",
       "      <td>24915920</td>\n",
       "      <td>F</td>\n",
       "      <td>50</td>\n",
       "      <td>8/8/2007</td>\n",
       "      <td>0</td>\n",
       "      <td>0</td>\n",
       "      <td>0</td>\n",
       "      <td>2008</td>\n",
       "      <td>5</td>\n",
       "    </tr>\n",
       "    <tr>\n",
       "      <th>4</th>\n",
       "      <td>2</td>\n",
       "      <td>24915920</td>\n",
       "      <td>F</td>\n",
       "      <td>50</td>\n",
       "      <td>8/8/2007</td>\n",
       "      <td>0</td>\n",
       "      <td>0</td>\n",
       "      <td>0</td>\n",
       "      <td>2009</td>\n",
       "      <td>2</td>\n",
       "    </tr>\n",
       "  </tbody>\n",
       "</table>\n",
       "</div>"
      ],
      "text/plain": [
       "   Case_No.        ID Sex Age Insertion  date  \\\n",
       "0         1  28170976   F  34        6/1/2000   \n",
       "1         1  28170976   F  34        6/1/2000   \n",
       "2         1  28170976   F  34        6/1/2000   \n",
       "3         2  24915920   F  50        8/8/2007   \n",
       "4         2  24915920   F  50        8/8/2007   \n",
       "\n",
       "   Manufacturer\\n(Mentor: 0 \\nBellaGel: 1 \\nAllergan: 2\\nSebbin: 3\\nMotiva: 4)  \\\n",
       "0                                                  3                             \n",
       "1                                                  3                             \n",
       "2                                                  3                             \n",
       "3                                                  0                             \n",
       "4                                                  0                             \n",
       "\n",
       "   Texture\\n(Smooth: 0\\nMicrotextured: 1\\nTextured: 2)  \\\n",
       "0                                                  0     \n",
       "1                                                  0     \n",
       "2                                                  0     \n",
       "3                                                  0     \n",
       "4                                                  0     \n",
       "\n",
       "   Rupture\\n(Intact: 0\\nRuptured: 1)  sono date  Num_Img  \n",
       "0                                  0       2001        4  \n",
       "1                                  0       2003        1  \n",
       "2                                  1       2007        3  \n",
       "3                                  0       2008        5  \n",
       "4                                  0       2009        2  "
      ]
     },
     "execution_count": 9,
     "metadata": {},
     "output_type": "execute_result"
    }
   ],
   "source": [
    "df.head()"
   ]
  },
  {
   "cell_type": "markdown",
   "metadata": {},
   "source": [
    "* Exclusion = 1 제외"
   ]
  },
  {
   "cell_type": "code",
   "execution_count": 10,
   "metadata": {},
   "outputs": [
    {
     "name": "stderr",
     "output_type": "stream",
     "text": [
      "/tmp/ipykernel_2211439/3905389438.py:1: SettingWithCopyWarning: \n",
      "A value is trying to be set on a copy of a slice from a DataFrame.\n",
      "Try using .loc[row_indexer,col_indexer] = value instead\n",
      "\n",
      "See the caveats in the documentation: https://pandas.pydata.org/pandas-docs/stable/user_guide/indexing.html#returning-a-view-versus-a-copy\n",
      "  df['Exclusion여부'] = df['Rupture\\n(Intact: 0\\nRuptured: 1)'].astype('str')\n"
     ]
    }
   ],
   "source": [
    "df['Exclusion여부'] = df['Rupture\\n(Intact: 0\\nRuptured: 1)'].astype('str')"
   ]
  },
  {
   "cell_type": "code",
   "execution_count": 11,
   "metadata": {},
   "outputs": [
    {
     "data": {
      "text/plain": [
       "array(['0', '1'], dtype=object)"
      ]
     },
     "execution_count": 11,
     "metadata": {},
     "output_type": "execute_result"
    }
   ],
   "source": [
    "df['Exclusion여부'].unique()"
   ]
  },
  {
   "cell_type": "code",
   "execution_count": 12,
   "metadata": {},
   "outputs": [
    {
     "data": {
      "text/plain": [
       "0        True\n",
       "1        True\n",
       "2       False\n",
       "3        True\n",
       "4        True\n",
       "        ...  \n",
       "2184     True\n",
       "2185     True\n",
       "2186     True\n",
       "2187     True\n",
       "2188     True\n",
       "Name: Exclusion여부, Length: 2189, dtype: bool"
      ]
     },
     "execution_count": 12,
     "metadata": {},
     "output_type": "execute_result"
    }
   ],
   "source": [
    "(df['Exclusion여부'] == '0')"
   ]
  },
  {
   "cell_type": "code",
   "execution_count": 13,
   "metadata": {},
   "outputs": [
    {
     "data": {
      "text/plain": [
       "0       False\n",
       "1       False\n",
       "2       False\n",
       "3       False\n",
       "4       False\n",
       "        ...  \n",
       "2184    False\n",
       "2185    False\n",
       "2186    False\n",
       "2187    False\n",
       "2188    False\n",
       "Name: Exclusion여부, Length: 2189, dtype: bool"
      ]
     },
     "execution_count": 13,
     "metadata": {},
     "output_type": "execute_result"
    }
   ],
   "source": [
    "(df['Exclusion여부'] == 'nan')"
   ]
  },
  {
   "cell_type": "code",
   "execution_count": 14,
   "metadata": {},
   "outputs": [
    {
     "data": {
      "text/html": [
       "<div>\n",
       "<style scoped>\n",
       "    .dataframe tbody tr th:only-of-type {\n",
       "        vertical-align: middle;\n",
       "    }\n",
       "\n",
       "    .dataframe tbody tr th {\n",
       "        vertical-align: top;\n",
       "    }\n",
       "\n",
       "    .dataframe thead th {\n",
       "        text-align: right;\n",
       "    }\n",
       "</style>\n",
       "<table border=\"1\" class=\"dataframe\">\n",
       "  <thead>\n",
       "    <tr style=\"text-align: right;\">\n",
       "      <th></th>\n",
       "      <th>Case_No.</th>\n",
       "      <th>ID</th>\n",
       "      <th>Sex</th>\n",
       "      <th>Age</th>\n",
       "      <th>Insertion  date</th>\n",
       "      <th>Manufacturer\\n(Mentor: 0 \\nBellaGel: 1 \\nAllergan: 2\\nSebbin: 3\\nMotiva: 4)</th>\n",
       "      <th>Texture\\n(Smooth: 0\\nMicrotextured: 1\\nTextured: 2)</th>\n",
       "      <th>Rupture\\n(Intact: 0\\nRuptured: 1)</th>\n",
       "      <th>sono date</th>\n",
       "      <th>Num_Img</th>\n",
       "      <th>Exclusion여부</th>\n",
       "    </tr>\n",
       "  </thead>\n",
       "  <tbody>\n",
       "    <tr>\n",
       "      <th>0</th>\n",
       "      <td>1</td>\n",
       "      <td>28170976</td>\n",
       "      <td>F</td>\n",
       "      <td>34</td>\n",
       "      <td>6/1/2000</td>\n",
       "      <td>3</td>\n",
       "      <td>0</td>\n",
       "      <td>0</td>\n",
       "      <td>2001</td>\n",
       "      <td>4</td>\n",
       "      <td>0</td>\n",
       "    </tr>\n",
       "    <tr>\n",
       "      <th>1</th>\n",
       "      <td>1</td>\n",
       "      <td>28170976</td>\n",
       "      <td>F</td>\n",
       "      <td>34</td>\n",
       "      <td>6/1/2000</td>\n",
       "      <td>3</td>\n",
       "      <td>0</td>\n",
       "      <td>0</td>\n",
       "      <td>2003</td>\n",
       "      <td>1</td>\n",
       "      <td>0</td>\n",
       "    </tr>\n",
       "    <tr>\n",
       "      <th>3</th>\n",
       "      <td>2</td>\n",
       "      <td>24915920</td>\n",
       "      <td>F</td>\n",
       "      <td>50</td>\n",
       "      <td>8/8/2007</td>\n",
       "      <td>0</td>\n",
       "      <td>0</td>\n",
       "      <td>0</td>\n",
       "      <td>2008</td>\n",
       "      <td>5</td>\n",
       "      <td>0</td>\n",
       "    </tr>\n",
       "    <tr>\n",
       "      <th>4</th>\n",
       "      <td>2</td>\n",
       "      <td>24915920</td>\n",
       "      <td>F</td>\n",
       "      <td>50</td>\n",
       "      <td>8/8/2007</td>\n",
       "      <td>0</td>\n",
       "      <td>0</td>\n",
       "      <td>0</td>\n",
       "      <td>2009</td>\n",
       "      <td>2</td>\n",
       "      <td>0</td>\n",
       "    </tr>\n",
       "    <tr>\n",
       "      <th>5</th>\n",
       "      <td>2</td>\n",
       "      <td>24915920</td>\n",
       "      <td>F</td>\n",
       "      <td>50</td>\n",
       "      <td>8/8/2007</td>\n",
       "      <td>0</td>\n",
       "      <td>0</td>\n",
       "      <td>0</td>\n",
       "      <td>2011</td>\n",
       "      <td>2</td>\n",
       "      <td>0</td>\n",
       "    </tr>\n",
       "  </tbody>\n",
       "</table>\n",
       "</div>"
      ],
      "text/plain": [
       "   Case_No.        ID Sex Age Insertion  date  \\\n",
       "0         1  28170976   F  34        6/1/2000   \n",
       "1         1  28170976   F  34        6/1/2000   \n",
       "3         2  24915920   F  50        8/8/2007   \n",
       "4         2  24915920   F  50        8/8/2007   \n",
       "5         2  24915920   F  50        8/8/2007   \n",
       "\n",
       "   Manufacturer\\n(Mentor: 0 \\nBellaGel: 1 \\nAllergan: 2\\nSebbin: 3\\nMotiva: 4)  \\\n",
       "0                                                  3                             \n",
       "1                                                  3                             \n",
       "3                                                  0                             \n",
       "4                                                  0                             \n",
       "5                                                  0                             \n",
       "\n",
       "   Texture\\n(Smooth: 0\\nMicrotextured: 1\\nTextured: 2)  \\\n",
       "0                                                  0     \n",
       "1                                                  0     \n",
       "3                                                  0     \n",
       "4                                                  0     \n",
       "5                                                  0     \n",
       "\n",
       "   Rupture\\n(Intact: 0\\nRuptured: 1)  sono date  Num_Img Exclusion여부  \n",
       "0                                  0       2001        4           0  \n",
       "1                                  0       2003        1           0  \n",
       "3                                  0       2008        5           0  \n",
       "4                                  0       2009        2           0  \n",
       "5                                  0       2011        2           0  "
      ]
     },
     "execution_count": 14,
     "metadata": {},
     "output_type": "execute_result"
    }
   ],
   "source": [
    "df = df[(df['Exclusion여부'] == '0') | (df['Exclusion여부'] == 'nan')] ; df.head()"
   ]
  },
  {
   "cell_type": "code",
   "execution_count": 15,
   "metadata": {},
   "outputs": [
    {
     "data": {
      "text/plain": [
       "2186"
      ]
     },
     "execution_count": 15,
     "metadata": {},
     "output_type": "execute_result"
    }
   ],
   "source": [
    "len(df)"
   ]
  },
  {
   "cell_type": "code",
   "execution_count": 16,
   "metadata": {},
   "outputs": [
    {
     "data": {
      "text/plain": [
       "898"
      ]
     },
     "execution_count": 16,
     "metadata": {},
     "output_type": "execute_result"
    }
   ],
   "source": [
    "len(df['ID'].unique())"
   ]
  },
  {
   "attachments": {},
   "cell_type": "markdown",
   "metadata": {},
   "source": [
    "→ 900명, 2189개 중 2명, 3개 제외"
   ]
  },
  {
   "cell_type": "markdown",
   "metadata": {},
   "source": [
    "* 사용할 데이터만 남기기"
   ]
  },
  {
   "cell_type": "code",
   "execution_count": 38,
   "metadata": {},
   "outputs": [
    {
     "data": {
      "text/html": [
       "<div>\n",
       "<style scoped>\n",
       "    .dataframe tbody tr th:only-of-type {\n",
       "        vertical-align: middle;\n",
       "    }\n",
       "\n",
       "    .dataframe tbody tr th {\n",
       "        vertical-align: top;\n",
       "    }\n",
       "\n",
       "    .dataframe thead th {\n",
       "        text-align: right;\n",
       "    }\n",
       "</style>\n",
       "<table border=\"1\" class=\"dataframe\">\n",
       "  <thead>\n",
       "    <tr style=\"text-align: right;\">\n",
       "      <th></th>\n",
       "      <th>ID</th>\n",
       "      <th>Manufacturer\\n(Mentor: 0 \\nBellaGel: 1 \\nAllergan: 2\\nSebbin: 3\\nMotiva: 4)</th>\n",
       "    </tr>\n",
       "  </thead>\n",
       "  <tbody>\n",
       "    <tr>\n",
       "      <th>1</th>\n",
       "      <td>28170976</td>\n",
       "      <td>3</td>\n",
       "    </tr>\n",
       "    <tr>\n",
       "      <th>3</th>\n",
       "      <td>24915920</td>\n",
       "      <td>0</td>\n",
       "    </tr>\n",
       "    <tr>\n",
       "      <th>4</th>\n",
       "      <td>24915920</td>\n",
       "      <td>0</td>\n",
       "    </tr>\n",
       "    <tr>\n",
       "      <th>5</th>\n",
       "      <td>24915920</td>\n",
       "      <td>0</td>\n",
       "    </tr>\n",
       "    <tr>\n",
       "      <th>6</th>\n",
       "      <td>24915920</td>\n",
       "      <td>0</td>\n",
       "    </tr>\n",
       "    <tr>\n",
       "      <th>...</th>\n",
       "      <td>...</td>\n",
       "      <td>...</td>\n",
       "    </tr>\n",
       "    <tr>\n",
       "      <th>2184</th>\n",
       "      <td>44568032</td>\n",
       "      <td>0</td>\n",
       "    </tr>\n",
       "    <tr>\n",
       "      <th>2185</th>\n",
       "      <td>48863878</td>\n",
       "      <td>2</td>\n",
       "    </tr>\n",
       "    <tr>\n",
       "      <th>2186</th>\n",
       "      <td>50156319</td>\n",
       "      <td>0</td>\n",
       "    </tr>\n",
       "    <tr>\n",
       "      <th>2187</th>\n",
       "      <td>49230565</td>\n",
       "      <td>2</td>\n",
       "    </tr>\n",
       "    <tr>\n",
       "      <th>2188</th>\n",
       "      <td>46207939</td>\n",
       "      <td>0</td>\n",
       "    </tr>\n",
       "  </tbody>\n",
       "</table>\n",
       "<p>2185 rows × 2 columns</p>\n",
       "</div>"
      ],
      "text/plain": [
       "            ID  \\\n",
       "1     28170976   \n",
       "3     24915920   \n",
       "4     24915920   \n",
       "5     24915920   \n",
       "6     24915920   \n",
       "...        ...   \n",
       "2184  44568032   \n",
       "2185  48863878   \n",
       "2186  50156319   \n",
       "2187  49230565   \n",
       "2188  46207939   \n",
       "\n",
       "      Manufacturer\\n(Mentor: 0 \\nBellaGel: 1 \\nAllergan: 2\\nSebbin: 3\\nMotiva: 4)  \n",
       "1                                                     3                            \n",
       "3                                                     0                            \n",
       "4                                                     0                            \n",
       "5                                                     0                            \n",
       "6                                                     0                            \n",
       "...                                                 ...                            \n",
       "2184                                                  0                            \n",
       "2185                                                  2                            \n",
       "2186                                                  0                            \n",
       "2187                                                  2                            \n",
       "2188                                                  0                            \n",
       "\n",
       "[2185 rows x 2 columns]"
      ]
     },
     "execution_count": 38,
     "metadata": {},
     "output_type": "execute_result"
    }
   ],
   "source": [
    "data = df[1:][['ID', 'Manufacturer\\n(Mentor: 0 \\nBellaGel: 1 \\nAllergan: 2\\nSebbin: 3\\nMotiva: 4)']] ; data"
   ]
  },
  {
   "cell_type": "code",
   "execution_count": 40,
   "metadata": {},
   "outputs": [],
   "source": [
    "data.rename(columns={'Manufacturer\\n(Mentor: 0 \\nBellaGel: 1 \\nAllergan: 2\\nSebbin: 3\\nMotiva: 4)':'Num_Img'}, inplace=True)"
   ]
  },
  {
   "cell_type": "code",
   "execution_count": 41,
   "metadata": {},
   "outputs": [
    {
     "data": {
      "text/html": [
       "<div>\n",
       "<style scoped>\n",
       "    .dataframe tbody tr th:only-of-type {\n",
       "        vertical-align: middle;\n",
       "    }\n",
       "\n",
       "    .dataframe tbody tr th {\n",
       "        vertical-align: top;\n",
       "    }\n",
       "\n",
       "    .dataframe thead th {\n",
       "        text-align: right;\n",
       "    }\n",
       "</style>\n",
       "<table border=\"1\" class=\"dataframe\">\n",
       "  <thead>\n",
       "    <tr style=\"text-align: right;\">\n",
       "      <th></th>\n",
       "      <th>ID</th>\n",
       "      <th>Num_Img</th>\n",
       "    </tr>\n",
       "  </thead>\n",
       "  <tbody>\n",
       "    <tr>\n",
       "      <th>1</th>\n",
       "      <td>28170976</td>\n",
       "      <td>3</td>\n",
       "    </tr>\n",
       "    <tr>\n",
       "      <th>3</th>\n",
       "      <td>24915920</td>\n",
       "      <td>0</td>\n",
       "    </tr>\n",
       "    <tr>\n",
       "      <th>4</th>\n",
       "      <td>24915920</td>\n",
       "      <td>0</td>\n",
       "    </tr>\n",
       "    <tr>\n",
       "      <th>5</th>\n",
       "      <td>24915920</td>\n",
       "      <td>0</td>\n",
       "    </tr>\n",
       "    <tr>\n",
       "      <th>6</th>\n",
       "      <td>24915920</td>\n",
       "      <td>0</td>\n",
       "    </tr>\n",
       "    <tr>\n",
       "      <th>...</th>\n",
       "      <td>...</td>\n",
       "      <td>...</td>\n",
       "    </tr>\n",
       "    <tr>\n",
       "      <th>2184</th>\n",
       "      <td>44568032</td>\n",
       "      <td>0</td>\n",
       "    </tr>\n",
       "    <tr>\n",
       "      <th>2185</th>\n",
       "      <td>48863878</td>\n",
       "      <td>2</td>\n",
       "    </tr>\n",
       "    <tr>\n",
       "      <th>2186</th>\n",
       "      <td>50156319</td>\n",
       "      <td>0</td>\n",
       "    </tr>\n",
       "    <tr>\n",
       "      <th>2187</th>\n",
       "      <td>49230565</td>\n",
       "      <td>2</td>\n",
       "    </tr>\n",
       "    <tr>\n",
       "      <th>2188</th>\n",
       "      <td>46207939</td>\n",
       "      <td>0</td>\n",
       "    </tr>\n",
       "  </tbody>\n",
       "</table>\n",
       "<p>2185 rows × 2 columns</p>\n",
       "</div>"
      ],
      "text/plain": [
       "            ID  Num_Img\n",
       "1     28170976        3\n",
       "3     24915920        0\n",
       "4     24915920        0\n",
       "5     24915920        0\n",
       "6     24915920        0\n",
       "...        ...      ...\n",
       "2184  44568032        0\n",
       "2185  48863878        2\n",
       "2186  50156319        0\n",
       "2187  49230565        2\n",
       "2188  46207939        0\n",
       "\n",
       "[2185 rows x 2 columns]"
      ]
     },
     "execution_count": 41,
     "metadata": {},
     "output_type": "execute_result"
    }
   ],
   "source": [
    "data"
   ]
  },
  {
   "cell_type": "markdown",
   "metadata": {},
   "source": [
    "* 중복 제거 : 중복 없음"
   ]
  },
  {
   "cell_type": "code",
   "execution_count": 42,
   "metadata": {},
   "outputs": [],
   "source": [
    "data = data.drop_duplicates(subset=None, keep='first', inplace=False, ignore_index=False)"
   ]
  },
  {
   "cell_type": "code",
   "execution_count": 43,
   "metadata": {},
   "outputs": [
    {
     "data": {
      "text/plain": [
       "898"
      ]
     },
     "execution_count": 43,
     "metadata": {},
     "output_type": "execute_result"
    }
   ],
   "source": [
    "len(set(data['ID']))"
   ]
  },
  {
   "cell_type": "markdown",
   "metadata": {},
   "source": [
    "* 데이터 환자수 확인"
   ]
  },
  {
   "cell_type": "code",
   "execution_count": 44,
   "metadata": {},
   "outputs": [],
   "source": [
    "dicom_path = '/workspace/dataset_dec/media'"
   ]
  },
  {
   "cell_type": "code",
   "execution_count": 45,
   "metadata": {},
   "outputs": [],
   "source": [
    "def get_files_count(folder_path):\n",
    "\tdirListing = os.listdir(folder_path)\n",
    "\treturn len(dirListing)"
   ]
  },
  {
   "cell_type": "code",
   "execution_count": 46,
   "metadata": {},
   "outputs": [
    {
     "data": {
      "text/plain": [
       "900"
      ]
     },
     "execution_count": 46,
     "metadata": {},
     "output_type": "execute_result"
    }
   ],
   "source": [
    "get_files_count(dicom_path)"
   ]
  },
  {
   "cell_type": "markdown",
   "metadata": {},
   "source": [
    "* image save : dicom 이미지를 array → Image로 변환하여 저장<br>\n",
    "이때 image의 환자명을 csv와 매칭하여 Implant 1번이 Label이 되게 한다."
   ]
  },
  {
   "cell_type": "code",
   "execution_count": 47,
   "metadata": {},
   "outputs": [],
   "source": [
    "img_path = '/workspace/dataset_dec/media'"
   ]
  },
  {
   "cell_type": "markdown",
   "metadata": {},
   "source": [
    "* dcm to array : dataframe으로 만들어서 train_test_split 후 저장"
   ]
  },
  {
   "cell_type": "code",
   "execution_count": 48,
   "metadata": {},
   "outputs": [],
   "source": [
    "dcm_to_arr =  pd.DataFrame()"
   ]
  },
  {
   "cell_type": "code",
   "execution_count": 49,
   "metadata": {},
   "outputs": [],
   "source": [
    "t_ct = []\n",
    "# 이미지로 변환 성공한 url\n",
    "f_ct = []\n",
    "# 이미지로 변환 실패한 url\n",
    "dcm_all = []\n",
    "# dicom 전체 url\n",
    "\n",
    "## True df 구성 ##\n",
    "img_arr = []\n",
    "# img array\n",
    "lb_arr = []\n",
    "# label array\n",
    "path_arr = []\n",
    "# path array\n",
    "\n",
    "## False df 구성 ##\n",
    "#f_img_arr = []\n",
    "# img array\n",
    "f_lb_arr = []\n",
    "# label array\n",
    "#f_path_arr = []\n",
    "# path array\n",
    "for top, _, f in os.walk(img_path):\n",
    "    # img_path에 접근하여 폴더별로 이미지에 접근한다.\n",
    "    # top은 img_path/세부경로\n",
    "    # f는 환자별 image file 이름\n",
    "    for ix, filename in enumerate(f):\n",
    "        # 그중 f는 각 환자 폴더 안의 이미지 전부의 주소이다.\n",
    "        # filename은 그 중 하나에 접근.\n",
    "        url = os.path.join(top,filename)\n",
    "        # 세부 이미지 경로\n",
    "        id = int(url.split('/')[4])\n",
    "        # 환자 number\n",
    "        dcm_all.append(url)\n",
    "        break"
   ]
  },
  {
   "cell_type": "code",
   "execution_count": 50,
   "metadata": {},
   "outputs": [
    {
     "data": {
      "text/plain": [
       "['/workspace/dataset_dec/media/48207865/17_02_22_L_020.dcm',\n",
       " '/workspace/dataset_dec/media/52017201/21-01-15_L_1100003.dcm',\n",
       " '/workspace/dataset_dec/media/50676642/21-12-14_L_1200002.dcm',\n",
       " '/workspace/dataset_dec/media/32430451/22-03-17_R_1100001.dcm',\n",
       " '/workspace/dataset_dec/media/51870896/22_02_08_R_000002.dcm',\n",
       " '/workspace/dataset_dec/media/52957284/22-07-27_L_0000003.dcm',\n",
       " '/workspace/dataset_dec/media/53203858/21_01_14_L_000001.dcm',\n",
       " '/workspace/dataset_dec/media/31278775/211109_L_1100006.dcm',\n",
       " '/workspace/dataset_dec/media/41947249/21-11-24_L_0000002.dcm',\n",
       " '/workspace/dataset_dec/media/50145186/22_03_31_R_1100002.dcm',\n",
       " '/workspace/dataset_dec/media/47754964/22_04_18_R_0200001.dcm',\n",
       " '/workspace/dataset_dec/media/52698686/22-08-25_L_0000007.dcm',\n",
       " '/workspace/dataset_dec/media/49812051/20_05_25_L_1200001.dcm',\n",
       " '/workspace/dataset_dec/media/51162780/20-06-19_R_2200001.dcm',\n",
       " '/workspace/dataset_dec/media/54979064/220802_R_0000004.dcm',\n",
       " '/workspace/dataset_dec/media/45095830/211105_L_1100003.dcm',\n",
       " '/workspace/dataset_dec/media/50156319/19_10_25_L_0200005.dcm',\n",
       " '/workspace/dataset_dec/media/51869043/220317_L_0000003.dcm',\n",
       " '/workspace/dataset_dec/media/29186431/20-10-20_L_0000001.dcm',\n",
       " '/workspace/dataset_dec/media/52639391/22-03-18_R_0000002.dcm',\n",
       " '/workspace/dataset_dec/media/52228645/22-03-04_R_000.dcm',\n",
       " '/workspace/dataset_dec/media/42262770/211209_R_0000001.dcm',\n",
       " '/workspace/dataset_dec/media/35940010/220228_R_0000002.dcm',\n",
       " '/workspace/dataset_dec/media/51959535/22-08-01_L_0000002.dcm',\n",
       " '/workspace/dataset_dec/media/46218263/220531_R_0000003.dcm',\n",
       " '/workspace/dataset_dec/media/49498013/19_07_24_L_0200003.dcm',\n",
       " '/workspace/dataset_dec/media/53652342/21-12-29_L_0000003.dcm',\n",
       " '/workspace/dataset_dec/media/48564412/22_06_29_R_1200002.dcm',\n",
       " '/workspace/dataset_dec/media/71351104/22-07-25_R_0000004.dcm',\n",
       " '/workspace/dataset_dec/media/15052546/20-05-12_L_220001.dcm',\n",
       " '/workspace/dataset_dec/media/50646526/21-03-23_R_020.dcm',\n",
       " '/workspace/dataset_dec/media/52869301/21-08-05_R_0000003.dcm',\n",
       " '/workspace/dataset_dec/media/46494423/19-06-27_L_020005.dcm',\n",
       " '/workspace/dataset_dec/media/21719868/21-02-24_R_1100002.dcm',\n",
       " '/workspace/dataset_dec/media/25292581/21-08-06_R_0000002.dcm',\n",
       " '/workspace/dataset_dec/media/47963162/19_06_13_R_0200002.dcm',\n",
       " '/workspace/dataset_dec/media/48335018/21_08_19_L_0200001.dcm',\n",
       " '/workspace/dataset_dec/media/52990863/20-10-13_R_1100001.dcm',\n",
       " '/workspace/dataset_dec/media/33011031/220812_R_0000002.dcm',\n",
       " '/workspace/dataset_dec/media/51044286/22-04-19_L_0200002.dcm',\n",
       " '/workspace/dataset_dec/media/53188702/21_02_09_L_000002.dcm',\n",
       " '/workspace/dataset_dec/media/49605943/20_01_29_R_1200002.dcm',\n",
       " '/workspace/dataset_dec/media/48117001/22_01_03_L_0100003.dcm',\n",
       " '/workspace/dataset_dec/media/70263343/220217_L_1000001.dcm',\n",
       " '/workspace/dataset_dec/media/23144112/19_02_22_R_2200004.dcm',\n",
       " '/workspace/dataset_dec/media/53365011/220311_L_0000001.dcm',\n",
       " '/workspace/dataset_dec/media/51228495/21-06-25_L_1200002.dcm',\n",
       " '/workspace/dataset_dec/media/51112963/19-09-30_R_1200001.dcm',\n",
       " '/workspace/dataset_dec/media/50995064/220218_L_0000003.dcm',\n",
       " '/workspace/dataset_dec/media/49711716/20_05_22_L_120001.dcm',\n",
       " '/workspace/dataset_dec/media/49520143/220712_L_0200001.dcm',\n",
       " '/workspace/dataset_dec/media/22404950/20_01_10_L_020003.dcm',\n",
       " '/workspace/dataset_dec/media/53853309/20-11-27_L_0000003.dcm',\n",
       " '/workspace/dataset_dec/media/47713095/19-08-21_R_0200002.dcm',\n",
       " '/workspace/dataset_dec/media/54341498/21-12-09_R_0000002.dcm',\n",
       " '/workspace/dataset_dec/media/50452954/22-05-26_L_020001.dcm',\n",
       " '/workspace/dataset_dec/media/38639030/21-11-11_L_0000002.dcm',\n",
       " '/workspace/dataset_dec/media/50610743/22-01-27_R_1100002.dcm',\n",
       " '/workspace/dataset_dec/media/45984257/21_08_13_L_220002.dcm',\n",
       " '/workspace/dataset_dec/media/50978083/19_07_11_L_220001.dcm',\n",
       " '/workspace/dataset_dec/media/50697120/20_07_03_R_020001.dcm',\n",
       " '/workspace/dataset_dec/media/54072172/22-04-22_R_0000001.dcm',\n",
       " '/workspace/dataset_dec/media/52117497/22-05-06_L_0200001.dcm',\n",
       " '/workspace/dataset_dec/media/47502093/22_02_16_L_0200002.dcm',\n",
       " '/workspace/dataset_dec/media/51956149/21-12-20_R_020.dcm',\n",
       " '/workspace/dataset_dec/media/51117223/19-10-29_R_120.dcm',\n",
       " '/workspace/dataset_dec/media/51022387/22-05-31_L_000.dcm',\n",
       " '/workspace/dataset_dec/media/49075706/20_11_26_L_0200002.dcm',\n",
       " '/workspace/dataset_dec/media/50475375/22_06-08_R_0100005.dcm',\n",
       " '/workspace/dataset_dec/media/32344202/20_07_30_r_1100002.dcm',\n",
       " '/workspace/dataset_dec/media/47468218/22-02-08_L_0000001.dcm',\n",
       " '/workspace/dataset_dec/media/51716613/20-05-27_R_0000002.dcm',\n",
       " '/workspace/dataset_dec/media/54512207/220902_L_3100001.dcm',\n",
       " '/workspace/dataset_dec/media/49009343/22_11_07_L_2200004.dcm',\n",
       " '/workspace/dataset_dec/media/55346667/220302_L_3100001.dcm',\n",
       " '/workspace/dataset_dec/media/51256096/20-11-16_L_1200001.dcm',\n",
       " '/workspace/dataset_dec/media/50976119/21-12-01_R_0000001.dcm',\n",
       " '/workspace/dataset_dec/media/50934906/20-06-15_L_120.dcm',\n",
       " '/workspace/dataset_dec/media/25318926/21_08_20_L_000002.dcm',\n",
       " '/workspace/dataset_dec/media/23688302/21_09_23_L_2200003.dcm',\n",
       " '/workspace/dataset_dec/media/35571515/20-09-10_L_110.dcm',\n",
       " '/workspace/dataset_dec/media/08141190/22_09_13_L_0200002.dcm',\n",
       " '/workspace/dataset_dec/media/53322045/210205_L_0000001.dcm',\n",
       " '/workspace/dataset_dec/media/50107401/21-01-13_R_1100002.dcm',\n",
       " '/workspace/dataset_dec/media/45224690/20-09-09_R_1100001.dcm',\n",
       " '/workspace/dataset_dec/media/55558181/220816_R_0000001.dcm',\n",
       " '/workspace/dataset_dec/media/51217046/22-07-25_L_1100001.dcm',\n",
       " '/workspace/dataset_dec/media/53431266/220719_L_0000002.dcm',\n",
       " '/workspace/dataset_dec/media/51951423/22-07-08_R_0200002.dcm',\n",
       " '/workspace/dataset_dec/media/53192509/21_09_01_L_000002.dcm',\n",
       " '/workspace/dataset_dec/media/24776536/22-07-06_R_0200002.dcm',\n",
       " '/workspace/dataset_dec/media/49109870/19_08_30_R_0100001.dcm',\n",
       " '/workspace/dataset_dec/media/42600985/21_01_13_R_0200001.dcm',\n",
       " '/workspace/dataset_dec/media/48556194/20_06_05_L_2200002.dcm',\n",
       " '/workspace/dataset_dec/media/52947124/220113_R_000.dcm',\n",
       " '/workspace/dataset_dec/media/51420020/20-12-15_L_1200002.dcm',\n",
       " '/workspace/dataset_dec/media/52919802/22-02-17_L_0000001.dcm',\n",
       " '/workspace/dataset_dec/media/51258232/22-07-29_L_1100003.dcm',\n",
       " '/workspace/dataset_dec/media/39164058/19-05-09_L_1200002.dcm',\n",
       " '/workspace/dataset_dec/media/20068233/22-07-29_R_0000002.dcm',\n",
       " '/workspace/dataset_dec/media/54631401/220422_R_0000002.dcm',\n",
       " '/workspace/dataset_dec/media/50341489/19-09-06_L_2200001.dcm',\n",
       " '/workspace/dataset_dec/media/53408026/220210_R_0000002.dcm',\n",
       " '/workspace/dataset_dec/media/49796111/22_06_30_L_0200002.dcm',\n",
       " '/workspace/dataset_dec/media/50862241/20-01-03_L_220.dcm',\n",
       " '/workspace/dataset_dec/media/51713948/20-05-04_R_0000002.dcm',\n",
       " '/workspace/dataset_dec/media/46588171/21-06-24_L_000.dcm',\n",
       " '/workspace/dataset_dec/media/50257863/20-09-25_L_020003.dcm',\n",
       " '/workspace/dataset_dec/media/52330810/21-01-14_L_0000001.dcm',\n",
       " '/workspace/dataset_dec/media/51540164/20-08-17_R_1100002.dcm',\n",
       " '/workspace/dataset_dec/media/45671683/17_11_06_L_020001.dcm',\n",
       " '/workspace/dataset_dec/media/29473483/10_04_06_R_3200001.dcm',\n",
       " '/workspace/dataset_dec/media/52812235/22_02_15_R_000001.dcm',\n",
       " '/workspace/dataset_dec/media/48694560/200904_R_0100002.dcm',\n",
       " '/workspace/dataset_dec/media/47147270/22-04-13_L_1100001.dcm',\n",
       " '/workspace/dataset_dec/media/42182881/20-12-04_R_0000002.dcm',\n",
       " '/workspace/dataset_dec/media/51842149/20-10-13_R_1100001.dcm',\n",
       " '/workspace/dataset_dec/media/50133626/21-07-23_R_020.dcm',\n",
       " '/workspace/dataset_dec/media/47327696/22_08_17_R_0200001.dcm',\n",
       " '/workspace/dataset_dec/media/31862923/22-02-10_R_0000001.dcm',\n",
       " '/workspace/dataset_dec/media/44568032/21_12_21_L_0200002.dcm',\n",
       " '/workspace/dataset_dec/media/52106675/21-11-17_L_0000001.dcm',\n",
       " '/workspace/dataset_dec/media/46019846/22-06-27_R_1100003.dcm',\n",
       " '/workspace/dataset_dec/media/47671564/210703_R_2200003.dcm',\n",
       " '/workspace/dataset_dec/media/46986612/220107_L_000.dcm',\n",
       " '/workspace/dataset_dec/media/53472654/220727_L_3100001.dcm',\n",
       " '/workspace/dataset_dec/media/53174277/220620_R_0000002.dcm',\n",
       " '/workspace/dataset_dec/media/46489678/21-06-29_L_0000001.dcm',\n",
       " '/workspace/dataset_dec/media/51526043/22-04-12_R_1100002.dcm',\n",
       " '/workspace/dataset_dec/media/50353552/20_04_03_R_120002.dcm',\n",
       " '/workspace/dataset_dec/media/15642367/20-03-24_R_1100003.dcm',\n",
       " '/workspace/dataset_dec/media/34724462/22-04-08_R_0000002.dcm',\n",
       " '/workspace/dataset_dec/media/50788196/20_07_16_L_220002.dcm',\n",
       " '/workspace/dataset_dec/media/48368645/21_10_25_L_1100001.dcm',\n",
       " '/workspace/dataset_dec/media/34746291/21_05_22_R_1200008.dcm',\n",
       " '/workspace/dataset_dec/media/54468502/22_04_13_R_000001.dcm',\n",
       " '/workspace/dataset_dec/media/50636567/22_05_06_L_020002.dcm',\n",
       " '/workspace/dataset_dec/media/48562322/19-08-05_L_0200003.dcm',\n",
       " '/workspace/dataset_dec/media/46485520/19-12-31_R_120001.dcm',\n",
       " '/workspace/dataset_dec/media/49383957/19_07_29_R_2200002.dcm',\n",
       " '/workspace/dataset_dec/media/45437991/21-02-24_R_1100002.dcm',\n",
       " '/workspace/dataset_dec/media/51029030/20-09-14_R_220.dcm',\n",
       " '/workspace/dataset_dec/media/47362707/22-05-12_L_1100001.dcm',\n",
       " '/workspace/dataset_dec/media/53356738/220722_R_0000002.dcm',\n",
       " '/workspace/dataset_dec/media/51419479/20-11-27_R_0200004.dcm',\n",
       " '/workspace/dataset_dec/media/48754051/21_08_25_R_0200003.dcm',\n",
       " '/workspace/dataset_dec/media/45878460/20-07-08_L_0000002.dcm',\n",
       " '/workspace/dataset_dec/media/54288465/220805_L_0000003.dcm',\n",
       " '/workspace/dataset_dec/media/70441547/21_03_03_L_0000004.dcm',\n",
       " '/workspace/dataset_dec/media/51377544/21-10-01_L_1100002.dcm',\n",
       " '/workspace/dataset_dec/media/32976180/22-07-18_R_0000002.dcm',\n",
       " '/workspace/dataset_dec/media/53835008/21-07-06_L_1100002.dcm',\n",
       " '/workspace/dataset_dec/media/31897316/19_06_24_R_0200001.dcm',\n",
       " '/workspace/dataset_dec/media/50458109/22-06-22_R_1100001.dcm',\n",
       " '/workspace/dataset_dec/media/29563230/21_01_18_L_120001.dcm',\n",
       " '/workspace/dataset_dec/media/27213368/22_02_24_L_000003.dcm',\n",
       " '/workspace/dataset_dec/media/70585151/220905_R_0000004.dcm',\n",
       " '/workspace/dataset_dec/media/50889640/22-02-28_R_0000004.dcm',\n",
       " '/workspace/dataset_dec/media/52472372/22-03-24_R_120.dcm',\n",
       " '/workspace/dataset_dec/media/48498445/18_06_20_L_0100001.dcm',\n",
       " '/workspace/dataset_dec/media/49821271/22_07_12_L_0200003.dcm',\n",
       " '/workspace/dataset_dec/media/46837905/19-07-18_R_1200002.dcm',\n",
       " '/workspace/dataset_dec/media/51324209/22-04-26_R_110.dcm',\n",
       " '/workspace/dataset_dec/media/42985338/220204_R_0000004.dcm',\n",
       " '/workspace/dataset_dec/media/48310064/22_05_02_R_0200003.dcm',\n",
       " '/workspace/dataset_dec/media/51222459/19-10-11_L_020.dcm',\n",
       " '/workspace/dataset_dec/media/54519950/220611_R_3100003.dcm',\n",
       " '/workspace/dataset_dec/media/32504181/21-11-16_R_0000003.dcm',\n",
       " '/workspace/dataset_dec/media/52331875/22-05-16_R_1100002.dcm',\n",
       " '/workspace/dataset_dec/media/54170401/22-04-23_L_1000003.dcm',\n",
       " '/workspace/dataset_dec/media/50540394/20_12_29_R_0200002.dcm',\n",
       " '/workspace/dataset_dec/media/48268846/22_04_06_R_0200004.dcm',\n",
       " '/workspace/dataset_dec/media/54131103/21-06-21_R_1100002.dcm',\n",
       " '/workspace/dataset_dec/media/38870545/22-06-13_L_0000002.dcm',\n",
       " '/workspace/dataset_dec/media/48582511/22_10_20_L_0200001.dcm',\n",
       " '/workspace/dataset_dec/media/51632676/21-11-11_L_1100002.dcm',\n",
       " '/workspace/dataset_dec/media/53900647/21-07-29_R_1100001.dcm',\n",
       " '/workspace/dataset_dec/media/51388056/20-10-19_L_0200001.dcm',\n",
       " '/workspace/dataset_dec/media/46540807/20_04_02_R_0200001.dcm',\n",
       " '/workspace/dataset_dec/media/53784845/21-01_21_L_020001.dcm',\n",
       " '/workspace/dataset_dec/media/34777992/22-05-02_R_1200001.dcm',\n",
       " '/workspace/dataset_dec/media/50458781/21-02-17_L_1000001.dcm',\n",
       " '/workspace/dataset_dec/media/70568947/22_03_24_L-1200001.dcm',\n",
       " '/workspace/dataset_dec/media/53133656/220124_L_0000002.dcm',\n",
       " '/workspace/dataset_dec/media/36188745/22_05_25_L_000002.dcm',\n",
       " '/workspace/dataset_dec/media/49021482/22-03-14_R_1100002.dcm',\n",
       " '/workspace/dataset_dec/media/48242952/21_07_05_L_0200002.dcm',\n",
       " '/workspace/dataset_dec/media/50271124/19-10-11_L_0200002.dcm',\n",
       " '/workspace/dataset_dec/media/50745694/20-12-30_R_2200001.dcm',\n",
       " '/workspace/dataset_dec/media/51206697/220915_R_0000002.dcm',\n",
       " '/workspace/dataset_dec/media/32477809/220330_R_3100002.dcm',\n",
       " '/workspace/dataset_dec/media/18057797/19_11_13_L_2200001.dcm',\n",
       " '/workspace/dataset_dec/media/47144334/21-08-19_R_1100002.dcm',\n",
       " '/workspace/dataset_dec/media/41499182/22_08_01_R_2200002.dcm',\n",
       " '/workspace/dataset_dec/media/36123630/21_07_29_L_110.dcm',\n",
       " '/workspace/dataset_dec/media/43372834/22_03_04_R_2200003.dcm',\n",
       " '/workspace/dataset_dec/media/50305957/22_03_17_L_220004.dcm',\n",
       " '/workspace/dataset_dec/media/50766521/22-07-15_L_0000003.dcm',\n",
       " '/workspace/dataset_dec/media/51032803/22-08-04_R_200002.dcm',\n",
       " '/workspace/dataset_dec/media/22848466/18_11_17_R_011002.dcm',\n",
       " '/workspace/dataset_dec/media/49035335/22_05_30_R_0100001.dcm',\n",
       " '/workspace/dataset_dec/media/50324369/21-07-09_R_110.dcm',\n",
       " '/workspace/dataset_dec/media/36758531/20-04-20_L_0200001.dcm',\n",
       " '/workspace/dataset_dec/media/54238592/211005_R_3100003.dcm',\n",
       " '/workspace/dataset_dec/media/52346219/20-10-30_R_0200001.dcm',\n",
       " '/workspace/dataset_dec/media/49844546/19-06-13_R_120.dcm',\n",
       " '/workspace/dataset_dec/media/49446663/220323_R_1200002.dcm',\n",
       " '/workspace/dataset_dec/media/22807249/22_08_03_L_0100001.dcm',\n",
       " '/workspace/dataset_dec/media/51482338/220504_R_0000002.dcm',\n",
       " '/workspace/dataset_dec/media/53593979/21_10_21_L_0000005.dcm',\n",
       " '/workspace/dataset_dec/media/24787466/22-06-27_L_0000005.dcm',\n",
       " '/workspace/dataset_dec/media/47391192/21_09_28_L_0200002.dcm',\n",
       " '/workspace/dataset_dec/media/51366450/210726_L_1100002.dcm',\n",
       " '/workspace/dataset_dec/media/37228932/21-11-23_L_1100003.dcm',\n",
       " '/workspace/dataset_dec/media/51112545/20-05-22_R_110.dcm',\n",
       " '/workspace/dataset_dec/media/45369788/21-12-16_L_1100001.dcm',\n",
       " '/workspace/dataset_dec/media/29871063/21-09-14_R_000.dcm',\n",
       " '/workspace/dataset_dec/media/48841847/22_03_03_L_0200002.dcm',\n",
       " '/workspace/dataset_dec/media/47453463/21-11_05_0000004 (3).dcm',\n",
       " '/workspace/dataset_dec/media/48422734/210317_L_1100002.dcm',\n",
       " '/workspace/dataset_dec/media/51302588/21-04-19_L_1100002.dcm',\n",
       " '/workspace/dataset_dec/media/52605228/20-07-03__R_1100003.dcm',\n",
       " '/workspace/dataset_dec/media/51389965/22_11_22_L_2200002.dcm',\n",
       " '/workspace/dataset_dec/media/50275520/21-06-10_R_000.dcm',\n",
       " '/workspace/dataset_dec/media/30818202/22_07_11_R_000001.dcm',\n",
       " '/workspace/dataset_dec/media/15338202/20_01_23_L_2200002.dcm',\n",
       " '/workspace/dataset_dec/media/48589985/21_05_24_L_0000001.dcm',\n",
       " '/workspace/dataset_dec/media/36322127/19_05_02_R_0200002.dcm',\n",
       " '/workspace/dataset_dec/media/19008680/210303_R_1200001.dcm',\n",
       " '/workspace/dataset_dec/media/51901442/20-03-05_R_000.dcm',\n",
       " '/workspace/dataset_dec/media/50830509/19-10-28_L_020.dcm',\n",
       " '/workspace/dataset_dec/media/49692815/19_10_21_L_0200003.dcm',\n",
       " '/workspace/dataset_dec/media/44631055/18_07_31_L_2200004.dcm',\n",
       " '/workspace/dataset_dec/media/52009952/20_06_29_R_0200001.dcm',\n",
       " '/workspace/dataset_dec/media/50285255/20_11_03_R_020001.dcm',\n",
       " '/workspace/dataset_dec/media/50808540/21-08-02_R_1100002.dcm',\n",
       " '/workspace/dataset_dec/media/51494557/19_03_14_R_110.dcm',\n",
       " '/workspace/dataset_dec/media/52141267/22-07-18_R_0000002.dcm',\n",
       " '/workspace/dataset_dec/media/52097586/220514_L_1100002.dcm',\n",
       " '/workspace/dataset_dec/media/50394825/22_04_22_L_120004.dcm',\n",
       " '/workspace/dataset_dec/media/49237100/18_10_01_R_0200003.dcm',\n",
       " '/workspace/dataset_dec/media/48401092/18_09_21_L_0200001.dcm',\n",
       " '/workspace/dataset_dec/media/40387705/200805_R_1200001.dcm',\n",
       " '/workspace/dataset_dec/media/53663722/22-08-24_L_1100002.dcm',\n",
       " '/workspace/dataset_dec/media/50034503/22-05-26_L_020001.dcm',\n",
       " '/workspace/dataset_dec/media/48523512/22_02_23_L_0200004.dcm',\n",
       " '/workspace/dataset_dec/media/52615991/22_04_18_R_000001.dcm',\n",
       " '/workspace/dataset_dec/media/50678996/21-08-02_R_000.dcm',\n",
       " '/workspace/dataset_dec/media/39283430/20-04-21_R_0100001.dcm',\n",
       " '/workspace/dataset_dec/media/52141003/20-12-29_R_0200001.dcm',\n",
       " '/workspace/dataset_dec/media/49479663/2202250002.dcm',\n",
       " '/workspace/dataset_dec/media/49442678/22_02_04_L_0100005.dcm',\n",
       " '/workspace/dataset_dec/media/54094165/22-08-10_L_0000002.dcm',\n",
       " '/workspace/dataset_dec/media/30427163/220913_L_0200006.dcm',\n",
       " '/workspace/dataset_dec/media/52770386/22-07-18_L_0000001.dcm',\n",
       " '/workspace/dataset_dec/media/53396091/220620_R_0000002.dcm',\n",
       " '/workspace/dataset_dec/media/49925863/22-02_L_0200003.dcm',\n",
       " '/workspace/dataset_dec/media/47413319/22_02_08_L_2200001.dcm',\n",
       " '/workspace/dataset_dec/media/50301690/21_03_29_L_000001.dcm',\n",
       " '/workspace/dataset_dec/media/51832919/22_05_13_L_000003.dcm',\n",
       " '/workspace/dataset_dec/media/72415126/20_01_16_R_1200002.dcm',\n",
       " '/workspace/dataset_dec/media/50996416/21-06-10_L_1100002.dcm',\n",
       " '/workspace/dataset_dec/media/53178248/220620_L_1100003.dcm',\n",
       " '/workspace/dataset_dec/media/51412283/22_11_08_R_2200002.dcm',\n",
       " '/workspace/dataset_dec/media/30014031/20-09-24_R_0000002.dcm',\n",
       " '/workspace/dataset_dec/media/47769423/19_09_09_L_220.dcm',\n",
       " '/workspace/dataset_dec/media/37782140/11_10_12_R_0000002.dcm',\n",
       " '/workspace/dataset_dec/media/49817018/22_06_08_R_220.dcm',\n",
       " '/workspace/dataset_dec/media/40443201/22_03_07_R_1200003.dcm',\n",
       " '/workspace/dataset_dec/media/42553616/21-03-08_L_0000001.dcm',\n",
       " '/workspace/dataset_dec/media/23336043/220302_L_0000002.dcm',\n",
       " '/workspace/dataset_dec/media/49230565/22_02_25_R_2200008.dcm',\n",
       " '/workspace/dataset_dec/media/35861441/21-10-25_L_0200003.dcm',\n",
       " '/workspace/dataset_dec/media/46905086/19_09_09_L_0200004.dcm',\n",
       " '/workspace/dataset_dec/media/51188629/22-04-21_L_1000004.dcm',\n",
       " '/workspace/dataset_dec/media/41630882/21_07_30_L_0200002.dcm',\n",
       " '/workspace/dataset_dec/media/52767018/22-08-10_R_1100002.dcm',\n",
       " '/workspace/dataset_dec/media/43213478/201126_L_2200003.dcm',\n",
       " '/workspace/dataset_dec/media/49691874/21_06_21_R_220.dcm',\n",
       " '/workspace/dataset_dec/media/48927400/21_07_29_R_2200003.dcm',\n",
       " '/workspace/dataset_dec/media/29332917/22-07-22_L_0000002.dcm',\n",
       " '/workspace/dataset_dec/media/40663029/22_04_14_R_2200003.dcm',\n",
       " '/workspace/dataset_dec/media/51103248/19-08-28_L_1200004.dcm',\n",
       " '/workspace/dataset_dec/media/50422326/22_02_07_L_020005.dcm',\n",
       " '/workspace/dataset_dec/media/51568559/22_01_04_L_000003.dcm',\n",
       " '/workspace/dataset_dec/media/50400193/22_05_26_L_11000010002.dcm',\n",
       " '/workspace/dataset_dec/media/44726883/220324_L_0000002.dcm',\n",
       " '/workspace/dataset_dec/media/35743815/21-05-03_L_000.dcm',\n",
       " '/workspace/dataset_dec/media/51447087/19-06-25_R_120.dcm',\n",
       " '/workspace/dataset_dec/media/51007302/20-09-11_L_0100001.dcm',\n",
       " '/workspace/dataset_dec/media/22555579/22-09-07_R_1100004.dcm',\n",
       " '/workspace/dataset_dec/media/50536047/21_04_26_L_020.dcm',\n",
       " '/workspace/dataset_dec/media/48849339/22_06_15_L_1100002.dcm',\n",
       " '/workspace/dataset_dec/media/49087754/21-09-23_R_0100001.dcm',\n",
       " '/workspace/dataset_dec/media/45560947/21-09-24_L_1000002.dcm',\n",
       " '/workspace/dataset_dec/media/53686453/20-12-08_R_0000002.dcm',\n",
       " '/workspace/dataset_dec/media/51027128/2202250002.dcm',\n",
       " '/workspace/dataset_dec/media/22016531/21_11_16_L_0100002.dcm',\n",
       " '/workspace/dataset_dec/media/49176205/22_07_04_L_220002.dcm',\n",
       " '/workspace/dataset_dec/media/50274976/19-08-16_L_020001.dcm',\n",
       " '/workspace/dataset_dec/media/25805033/19-12-27_L_220.dcm',\n",
       " '/workspace/dataset_dec/media/52834451/22_03_30_L_000004.dcm',\n",
       " '/workspace/dataset_dec/media/36492792/21-08-02_R_0000001.dcm',\n",
       " '/workspace/dataset_dec/media/51936239/22-03-14_L_000.dcm',\n",
       " '/workspace/dataset_dec/media/51293297/20-05-20_L_1200001.dcm',\n",
       " '/workspace/dataset_dec/media/51508975/20-08-04_R_0200002.dcm',\n",
       " '/workspace/dataset_dec/media/20337357/20_01_14_R_0200002.dcm',\n",
       " '/workspace/dataset_dec/media/31103352/22-01-14_L_120.dcm',\n",
       " '/workspace/dataset_dec/media/50200038/22_01_26_L_12000002.dcm',\n",
       " '/workspace/dataset_dec/media/50431957/20_05_21_L_1200002.dcm',\n",
       " '/workspace/dataset_dec/media/49657090/201211_R_0200003.dcm',\n",
       " '/workspace/dataset_dec/media/49744545/19_11_20_L_0200001.dcm',\n",
       " '/workspace/dataset_dec/media/48559542/20_06_15_L_0200002.dcm',\n",
       " '/workspace/dataset_dec/media/54226931/21-04-19_L_000.dcm',\n",
       " '/workspace/dataset_dec/media/47993954/220715_L_0000003.dcm',\n",
       " '/workspace/dataset_dec/media/52303577/20-07-23_R_1100001.dcm',\n",
       " '/workspace/dataset_dec/media/48614728/200602_L_220.dcm',\n",
       " '/workspace/dataset_dec/media/48791315/19_07_04_R_020.dcm',\n",
       " '/workspace/dataset_dec/media/54961669/220525_R_0000002.dcm',\n",
       " '/workspace/dataset_dec/media/20288068/19_02_19_L_0200001.dcm',\n",
       " '/workspace/dataset_dec/media/50401552/21-10-18_L_0100002.dcm',\n",
       " '/workspace/dataset_dec/media/51752222/20-02-19_R_110.dcm',\n",
       " '/workspace/dataset_dec/media/43759594/21_04_08_L_1200002.dcm',\n",
       " '/workspace/dataset_dec/media/52781999/220824_L_0000001.dcm',\n",
       " '/workspace/dataset_dec/media/74473539/19_11_27_R_1200001.dcm',\n",
       " '/workspace/dataset_dec/media/29464953/17_11_20_L_0200002.dcm',\n",
       " '/workspace/dataset_dec/media/50032204/22_02_05_R_0000001.dcm',\n",
       " '/workspace/dataset_dec/media/43894961/22-03-17_R_1100001.dcm',\n",
       " '/workspace/dataset_dec/media/50633746/210603_R_1000002.dcm',\n",
       " '/workspace/dataset_dec/media/52397680/211101_R_0000001.dcm',\n",
       " '/workspace/dataset_dec/media/52497814/21-10-07_L_0000003.dcm',\n",
       " '/workspace/dataset_dec/media/51267560/20-08-19_L_1100002.dcm',\n",
       " '/workspace/dataset_dec/media/52003125/21_02_24_L_0200002.dcm',\n",
       " '/workspace/dataset_dec/media/53574163/21-07-28_R_110.dcm',\n",
       " '/workspace/dataset_dec/media/37497574/21-01-04_R_1100001.dcm',\n",
       " '/workspace/dataset_dec/media/51365565/20-11-03_R_1100002.dcm',\n",
       " '/workspace/dataset_dec/media/50707351/20_06_17_R_020002.dcm',\n",
       " '/workspace/dataset_dec/media/49814970/19_10_28_L_010005.dcm',\n",
       " '/workspace/dataset_dec/media/44974118/21_05_27_R_0200001.dcm',\n",
       " '/workspace/dataset_dec/media/51232533/220714_L_0000001.dcm',\n",
       " '/workspace/dataset_dec/media/50899337/19-06-25_L_200001.dcm',\n",
       " '/workspace/dataset_dec/media/30700921/22-07-11_R_0000001.dcm',\n",
       " '/workspace/dataset_dec/media/40162634/21-05-22_L_0200001.dcm',\n",
       " '/workspace/dataset_dec/media/49097410/22_07_15_R_0200002.dcm',\n",
       " '/workspace/dataset_dec/media/42033864/21_12_31_L-0200002.dcm',\n",
       " '/workspace/dataset_dec/media/37276683/22-01-26_L_1100001.dcm',\n",
       " '/workspace/dataset_dec/media/48167741/19_09_30_R_0100002.dcm',\n",
       " '/workspace/dataset_dec/media/24753160/20-07-16_L_0200001.dcm',\n",
       " '/workspace/dataset_dec/media/48521927/19_12_02_L-1200005.dcm',\n",
       " '/workspace/dataset_dec/media/51570026/22_04_21_L_000002.dcm',\n",
       " '/workspace/dataset_dec/media/53674551/21-03-13_R_110.dcm',\n",
       " '/workspace/dataset_dec/media/51998819/22-08-17_L_0000003.dcm',\n",
       " '/workspace/dataset_dec/media/38368749/21-08-04_L_000.dcm',\n",
       " '/workspace/dataset_dec/media/32927892/21_09_01_R_000002.dcm',\n",
       " '/workspace/dataset_dec/media/54488830/21-06-24_R_0000005.dcm',\n",
       " '/workspace/dataset_dec/media/53023300/20-10-07_R_1100004.dcm',\n",
       " '/workspace/dataset_dec/media/46207939/21_12_22_L_0200001.dcm',\n",
       " '/workspace/dataset_dec/media/36128426/200206_R_0200001.dcm',\n",
       " '/workspace/dataset_dec/media/51795173/21-09-27_R_0000002.dcm',\n",
       " '/workspace/dataset_dec/media/55372084/220527R_0000001.dcm',\n",
       " '/workspace/dataset_dec/media/49832916/20_10_20_L_220.dcm',\n",
       " '/workspace/dataset_dec/media/51905475/21-08-18_L_1100001.dcm',\n",
       " '/workspace/dataset_dec/media/50401158/220321_L_1100003.dcm',\n",
       " '/workspace/dataset_dec/media/50254927/19-08-20_R_2200004.dcm',\n",
       " '/workspace/dataset_dec/media/40188294/19-11-22_L_120001.dcm',\n",
       " '/workspace/dataset_dec/media/50591246/19-06-25_L_0200004.dcm',\n",
       " '/workspace/dataset_dec/media/51034621/22-05-27_R_0200001.dcm',\n",
       " '/workspace/dataset_dec/media/49896718/21_05_24_R_0200001.dcm',\n",
       " '/workspace/dataset_dec/media/49721489/21-08-05_R_2200001.dcm',\n",
       " '/workspace/dataset_dec/media/50486894/21_01_25_R_020006.dcm',\n",
       " '/workspace/dataset_dec/media/49723005/20_03_24_R_0100002.dcm',\n",
       " '/workspace/dataset_dec/media/51155612/22-06-11_L_020.dcm',\n",
       " '/workspace/dataset_dec/media/25699687/20-10-26_L_0000001.dcm',\n",
       " '/workspace/dataset_dec/media/46042839/211029_L_0000001.dcm',\n",
       " '/workspace/dataset_dec/media/49984615/20-08-06_L_220001.dcm',\n",
       " '/workspace/dataset_dec/media/48862248/210628_R_0200003.dcm',\n",
       " '/workspace/dataset_dec/media/38528806/21_09_23_R_0200001.dcm',\n",
       " '/workspace/dataset_dec/media/49192980/21-12-28_L_1100002.dcm',\n",
       " '/workspace/dataset_dec/media/28703338/21-08-06_R_020001.dcm',\n",
       " '/workspace/dataset_dec/media/50881660/22_04_08_R_0000002.dcm',\n",
       " '/workspace/dataset_dec/media/32878091/22-04-01_L_000.dcm',\n",
       " '/workspace/dataset_dec/media/53422363/20-10-08_R_0000002.dcm',\n",
       " '/workspace/dataset_dec/media/09135989/19-10-08_R_220.dcm',\n",
       " '/workspace/dataset_dec/media/51378826/20-06-12_L_1100002.dcm',\n",
       " '/workspace/dataset_dec/media/50782934/19_09_27_R_220002.dcm',\n",
       " '/workspace/dataset_dec/media/52949935/22-02-14_L_0000001.dcm',\n",
       " '/workspace/dataset_dec/media/25290989/22-07-13_L_1000001.dcm',\n",
       " '/workspace/dataset_dec/media/33071785/19_01_09_L_2200002.dcm',\n",
       " '/workspace/dataset_dec/media/43463172/19-08-09_L_0200001.dcm',\n",
       " '/workspace/dataset_dec/media/53634849/22-01-20_R_0000001.dcm',\n",
       " '/workspace/dataset_dec/media/40415617/21-03-08_L_000.dcm',\n",
       " '/workspace/dataset_dec/media/51128177/22-07-29_R_1100003.dcm',\n",
       " '/workspace/dataset_dec/media/51641461/220610_L_3100001.dcm',\n",
       " '/workspace/dataset_dec/media/49834277/210917_R_000.dcm',\n",
       " '/workspace/dataset_dec/media/35006446/20_09_25_L_0200003.dcm',\n",
       " '/workspace/dataset_dec/media/51702359/22-02-28_L_0000004.dcm',\n",
       " '/workspace/dataset_dec/media/27578096/20-05-07_R_110.dcm',\n",
       " '/workspace/dataset_dec/media/51312927/21-07-27_R_110.dcm',\n",
       " '/workspace/dataset_dec/media/52598027/22-06-23_R_0000001.dcm',\n",
       " '/workspace/dataset_dec/media/51845960/22-01-28_R_1100003.dcm',\n",
       " '/workspace/dataset_dec/media/53887124/21-08-05_L_0000001.dcm',\n",
       " '/workspace/dataset_dec/media/49381261/22_02_14_R_0100001.dcm',\n",
       " '/workspace/dataset_dec/media/51695381/20-09-28_R_1100001.dcm',\n",
       " '/workspace/dataset_dec/media/51763796/21_12_17_R_000002.dcm',\n",
       " '/workspace/dataset_dec/media/46830199/22-08-24_R_0000003.dcm',\n",
       " '/workspace/dataset_dec/media/52222003/21-12-22_L_1100003.dcm',\n",
       " '/workspace/dataset_dec/media/50356272/21-09-28_L_1200001.dcm',\n",
       " '/workspace/dataset_dec/media/51815952/22-04-05_R_0200002.dcm',\n",
       " '/workspace/dataset_dec/media/52187845/20-08-11_L_0000004.dcm',\n",
       " '/workspace/dataset_dec/media/53297574/220325_R_0000004.dcm',\n",
       " '/workspace/dataset_dec/media/45401954/21-01-15_R_110.dcm',\n",
       " '/workspace/dataset_dec/media/45965922/22-03-16_L_0000001.dcm',\n",
       " '/workspace/dataset_dec/media/52112151/22-01-27_R_0000002.dcm',\n",
       " '/workspace/dataset_dec/media/52794971/21-05-07_L_1100002.dcm',\n",
       " '/workspace/dataset_dec/media/52743346/20-05-12_L_1100001.dcm',\n",
       " '/workspace/dataset_dec/media/49609990/20-04-07_L_1200001.dcm',\n",
       " '/workspace/dataset_dec/media/51424813/210419_L_1100002.dcm',\n",
       " '/workspace/dataset_dec/media/48428220/21_04_26_R_0200001.dcm',\n",
       " '/workspace/dataset_dec/media/53036654/22_04_26_R_000003.dcm',\n",
       " '/workspace/dataset_dec/media/52747393/22-08-12_L_0200001.dcm',\n",
       " '/workspace/dataset_dec/media/38806948/22_02_28_R_000002.dcm',\n",
       " '/workspace/dataset_dec/media/30328019/20-08-19_L_020.dcm',\n",
       " '/workspace/dataset_dec/media/52225141/21-11-19_L_1200004.dcm',\n",
       " '/workspace/dataset_dec/media/37953726/22_01_12_R_1200004.dcm',\n",
       " '/workspace/dataset_dec/media/17734882/21_11_09_L_120005.dcm',\n",
       " '/workspace/dataset_dec/media/48226657/20_12_30_R_0200001.dcm',\n",
       " '/workspace/dataset_dec/media/51052340/19-12-16_L_1200003.dcm',\n",
       " '/workspace/dataset_dec/media/52219379/22-07-11_R_1100002.dcm',\n",
       " '/workspace/dataset_dec/media/54206146/220420_R_000.dcm',\n",
       " '/workspace/dataset_dec/media/42098481/19-10-24_R_1200001.dcm',\n",
       " '/workspace/dataset_dec/media/51504207/22-06-16_L_1200002.dcm',\n",
       " '/workspace/dataset_dec/media/38962158/20-07-23_L_0000003.dcm',\n",
       " '/workspace/dataset_dec/media/53511845/22-04-27_R_0000003.dcm',\n",
       " '/workspace/dataset_dec/media/51163745/22-07-22_L_220002.dcm',\n",
       " '/workspace/dataset_dec/media/44065672/21_08_24_R_0200001.dcm',\n",
       " '/workspace/dataset_dec/media/53736024/21-08-17_L_1100002.dcm',\n",
       " '/workspace/dataset_dec/media/50542662/20-08-31_L_110.dcm',\n",
       " '/workspace/dataset_dec/media/36052295/22-08-02_L_1100001.dcm',\n",
       " '/workspace/dataset_dec/media/53708858/20-12-04_L_1100003.dcm',\n",
       " '/workspace/dataset_dec/media/53029726/21-12-30_R_0000003.dcm',\n",
       " '/workspace/dataset_dec/media/49663196/19_07_05_L_0200001.dcm',\n",
       " '/workspace/dataset_dec/media/49773930/20_08_25_R_2200002.dcm',\n",
       " '/workspace/dataset_dec/media/55303266/220808_R_0000002.dcm',\n",
       " '/workspace/dataset_dec/media/44826000/19-09-27_L_2200004.dcm',\n",
       " '/workspace/dataset_dec/media/55124533/220808_R_0000002.dcm',\n",
       " '/workspace/dataset_dec/media/51244187/21-12-27_L_1100002.dcm',\n",
       " '/workspace/dataset_dec/media/53351687/220527_R_3100001.dcm',\n",
       " '/workspace/dataset_dec/media/45954225/22_02_23_R_110003.dcm',\n",
       " '/workspace/dataset_dec/media/32254804/21-11-18_R_1100004.dcm',\n",
       " '/workspace/dataset_dec/media/39381682/220908_L_0000002.dcm',\n",
       " '/workspace/dataset_dec/media/46950101/22-04-20_R_1100001.dcm',\n",
       " '/workspace/dataset_dec/media/23858675/22_06_14_R_2200003.dcm',\n",
       " '/workspace/dataset_dec/media/51513636/21-12-23_R_1100002.dcm',\n",
       " '/workspace/dataset_dec/media/51361912/19_11_26_R_2200001.dcm',\n",
       " '/workspace/dataset_dec/media/48036289/19_07_02_L_0200001.dcm',\n",
       " '/workspace/dataset_dec/media/49422612/20_01_23_R_0100002.dcm',\n",
       " '/workspace/dataset_dec/media/27373051/21_08_11_R_000003.dcm',\n",
       " '/workspace/dataset_dec/media/50876992/20-06-05_L_0200001.dcm',\n",
       " '/workspace/dataset_dec/media/19284802/22_01_25_L_2200001.dcm',\n",
       " '/workspace/dataset_dec/media/39123026/20-11-25_L_1100001.dcm',\n",
       " '/workspace/dataset_dec/media/54721119/220308_L_0000001.dcm',\n",
       " '/workspace/dataset_dec/media/44239365/22_03_14_L_120002.dcm',\n",
       " '/workspace/dataset_dec/media/49924132/22-05-14_R_1200002.dcm',\n",
       " '/workspace/dataset_dec/media/52758610/21-11-08_L_000.dcm',\n",
       " '/workspace/dataset_dec/media/51460840/20-10-28_R_0000001.dcm',\n",
       " '/workspace/dataset_dec/media/43828421/22_05_06_R_2200003.dcm',\n",
       " '/workspace/dataset_dec/media/54369434/22-02-11_R_0000003.dcm',\n",
       " '/workspace/dataset_dec/media/51989389/21-10-18_R_0000003.dcm',\n",
       " '/workspace/dataset_dec/media/50213630/22_08_10_L_2200002.dcm',\n",
       " '/workspace/dataset_dec/media/46594486/21-05-06_L_110.dcm',\n",
       " '/workspace/dataset_dec/media/51858827/22-03-10_L_1100003.dcm',\n",
       " '/workspace/dataset_dec/media/51870997/20-10-21_R_0000001.dcm',\n",
       " '/workspace/dataset_dec/media/49019061/211118_R_0000001.dcm',\n",
       " '/workspace/dataset_dec/media/18003048/19-09-04_L_220001.dcm',\n",
       " '/workspace/dataset_dec/media/51007713/22-07-28_L_2200002.dcm',\n",
       " '/workspace/dataset_dec/media/49785856/20_05_07_R_220.dcm',\n",
       " '/workspace/dataset_dec/media/48562872/20_10_21_L-0200002.dcm',\n",
       " '/workspace/dataset_dec/media/40838070/19_01_25_L_0100001.dcm',\n",
       " '/workspace/dataset_dec/media/37726436/220118_R_0000001.dcm',\n",
       " '/workspace/dataset_dec/media/48403423/22_02_28_R_0200002.dcm',\n",
       " '/workspace/dataset_dec/media/49202856/19_12_30_R_2200001.dcm',\n",
       " '/workspace/dataset_dec/media/44066233/21_12_15_R_2200002.dcm',\n",
       " '/workspace/dataset_dec/media/46098128/20_05_07_R_0200002.dcm',\n",
       " '/workspace/dataset_dec/media/43030907/21-12-22_R_0200002.dcm',\n",
       " '/workspace/dataset_dec/media/47169883/21-07-05_R_1100002.dcm',\n",
       " '/workspace/dataset_dec/media/52586031/22_03_31_L_000002.dcm',\n",
       " '/workspace/dataset_dec/media/53577263/22-03-11_R_0000003.dcm',\n",
       " '/workspace/dataset_dec/media/53534273/21-10-11_R_1100002.dcm',\n",
       " '/workspace/dataset_dec/media/50409626/21-07-12_L_110.dcm',\n",
       " '/workspace/dataset_dec/media/50792450/22-03-31_L_000.dcm',\n",
       " '/workspace/dataset_dec/media/50347177/20-07-27_R_0200003.dcm',\n",
       " '/workspace/dataset_dec/media/48902975/20_04_29_R_1200003.dcm',\n",
       " '/workspace/dataset_dec/media/44407896/21_04_21_L_000002.dcm',\n",
       " '/workspace/dataset_dec/media/53036173/211022_R_0000001.dcm',\n",
       " '/workspace/dataset_dec/media/50945780/22_06_02_L_120001.dcm',\n",
       " '/workspace/dataset_dec/media/53282084/21-08-02_R_1100004.dcm',\n",
       " '/workspace/dataset_dec/media/48505071/21_12_13_L_0200004.dcm',\n",
       " '/workspace/dataset_dec/media/51763967/20-03-16_L_0200002.dcm',\n",
       " '/workspace/dataset_dec/media/47886645/22_05_27_R_0200002.dcm',\n",
       " '/workspace/dataset_dec/media/53241564/22-03-14_L_110.dcm',\n",
       " '/workspace/dataset_dec/media/50494143/22_03_31_R_2200003.dcm',\n",
       " '/workspace/dataset_dec/media/32889286/210121_R_1100001.dcm',\n",
       " '/workspace/dataset_dec/media/52781122/19_11_12_R_220003.dcm',\n",
       " '/workspace/dataset_dec/media/51618322/22-03-30_L_1100002.dcm',\n",
       " '/workspace/dataset_dec/media/51335526/22_06_29_L_000003.dcm',\n",
       " '/workspace/dataset_dec/media/42208048/20-10-08_L_0000002.dcm',\n",
       " '/workspace/dataset_dec/media/55112268/22011_R_0000001.dcm',\n",
       " '/workspace/dataset_dec/media/44336583/21-09_01_R_0000001.dcm',\n",
       " '/workspace/dataset_dec/media/70443341/22_01_17_R_2200004.dcm',\n",
       " '/workspace/dataset_dec/media/43170076/18_07_24_R_0200001.dcm',\n",
       " '/workspace/dataset_dec/media/48774721/190705_R_2200002.dcm',\n",
       " '/workspace/dataset_dec/media/18110953/18_08_08_L_0200001.dcm',\n",
       " '/workspace/dataset_dec/media/49704725/20-04-10_R_1200003.dcm',\n",
       " '/workspace/dataset_dec/media/46744375/220223_L_0000001.dcm',\n",
       " '/workspace/dataset_dec/media/48099879/21_07_16_R_0100001.dcm',\n",
       " '/workspace/dataset_dec/media/38938117/211122_L_0000003.dcm',\n",
       " '/workspace/dataset_dec/media/43654170/21_07_03_R_020003.dcm',\n",
       " '/workspace/dataset_dec/media/50717327/18_12_07_R_1200002.dcm',\n",
       " '/workspace/dataset_dec/media/49164428/21-07-15_L_1100001.dcm',\n",
       " '/workspace/dataset_dec/media/49588125/21_04_28_R_0200001.dcm',\n",
       " '/workspace/dataset_dec/media/50637700/19-10-10_L_0200004.dcm',\n",
       " '/workspace/dataset_dec/media/52707946/21-11-11_L_0200001.dcm',\n",
       " '/workspace/dataset_dec/media/49570364/220108_L_3100002.dcm',\n",
       " '/workspace/dataset_dec/media/49836040/19_05_30_R_0100003.dcm',\n",
       " '/workspace/dataset_dec/media/48237051/22_05_13_R_0200002.dcm',\n",
       " '/workspace/dataset_dec/media/51318800/21-09-27_R_1100002.dcm',\n",
       " '/workspace/dataset_dec/media/50632534/19_09_11_R_0100003.dcm',\n",
       " '/workspace/dataset_dec/media/30530805/21-06-12_R_0000004.dcm',\n",
       " '/workspace/dataset_dec/media/50065189/20_03_12_R_0200002.dcm',\n",
       " '/workspace/dataset_dec/media/48282703/220822_L_1100005.dcm',\n",
       " '/workspace/dataset_dec/media/54042140/21-03-25_R_000.dcm',\n",
       " '/workspace/dataset_dec/media/50277052/22-02-14_L_0200002.dcm',\n",
       " '/workspace/dataset_dec/media/53007973/21_11_09_L_3100001.dcm',\n",
       " '/workspace/dataset_dec/media/45863970/22_02_24_L_000003.dcm',\n",
       " '/workspace/dataset_dec/media/51242369/21-10-05_R_0000002.dcm',\n",
       " '/workspace/dataset_dec/media/38034039/22-06-30_R_0000001.dcm',\n",
       " '/workspace/dataset_dec/media/42494724/21_04_23_R_0100001.dcm',\n",
       " '/workspace/dataset_dec/media/51794264/21-07-20_L_1100002.dcm',\n",
       " '/workspace/dataset_dec/media/50527360/20_03_16_R_010002.dcm',\n",
       " '/workspace/dataset_dec/media/26867212/220228_R_0000002.dcm',\n",
       " '/workspace/dataset_dec/media/45063509/21_03_03_R_0100004.dcm',\n",
       " '/workspace/dataset_dec/media/47429484/20-09-29_R_0000002.dcm',\n",
       " '/workspace/dataset_dec/media/49700444/21_12_31_L_2200001.dcm',\n",
       " '/workspace/dataset_dec/media/38928552/21_07_19_L_000003.dcm',\n",
       " '/workspace/dataset_dec/media/36430112/22_06_28_L_220004.dcm',\n",
       " '/workspace/dataset_dec/media/51777548/200706_L_1100003.dcm',\n",
       " '/workspace/dataset_dec/media/52670486/21-11-16_L_1100001.dcm',\n",
       " '/workspace/dataset_dec/media/50382620/22_05_11_R_0200002.dcm',\n",
       " '/workspace/dataset_dec/media/49455782/22_02_21_R_0100003.dcm',\n",
       " '/workspace/dataset_dec/media/53377968/220803_R_3100002.dcm',\n",
       " '/workspace/dataset_dec/media/53320931/22-03-11_L_1100002.dcm',\n",
       " '/workspace/dataset_dec/media/50196069/22_04_18_L_000004.dcm',\n",
       " '/workspace/dataset_dec/media/53023456/21-10-12_L_1100002.dcm',\n",
       " '/workspace/dataset_dec/media/53460954/20-07-03_L_0000001.dcm',\n",
       " '/workspace/dataset_dec/media/44796318/21_07_13_L_000008.dcm',\n",
       " '/workspace/dataset_dec/media/51957407/21_09_30_L_000002.dcm',\n",
       " '/workspace/dataset_dec/media/49870987/20_06_08_R_1200004.dcm',\n",
       " '/workspace/dataset_dec/media/24845456/220112_L_2200003.dcm',\n",
       " '/workspace/dataset_dec/media/46963121/22_10_18_L_0200008.dcm',\n",
       " '/workspace/dataset_dec/media/54970106/220223_L_0000005.dcm',\n",
       " '/workspace/dataset_dec/media/49587812/19-10-04_L_020002.dcm',\n",
       " '/workspace/dataset_dec/media/52054907/21-04-16_R_0000001.dcm',\n",
       " '/workspace/dataset_dec/media/50346965/22_12_05_L_0200002.dcm',\n",
       " '/workspace/dataset_dec/media/50798782/21-03-19_L_000.dcm',\n",
       " '/workspace/dataset_dec/media/47647422/17_02_15_R_020005.dcm',\n",
       " '/workspace/dataset_dec/media/29951558/19_05_27_R_000001.dcm',\n",
       " '/workspace/dataset_dec/media/50897052/19-09-11_L_010004.dcm',\n",
       " '/workspace/dataset_dec/media/48882660/22_07_27_L_2200003.dcm',\n",
       " '/workspace/dataset_dec/media/49513323/22_11_11_R_1200002.dcm',\n",
       " '/workspace/dataset_dec/media/52791011/21-05-10_L_000.dcm',\n",
       " '/workspace/dataset_dec/media/28827924/201126_R_1200002.dcm',\n",
       " '/workspace/dataset_dec/media/51024484/220310_L_0000001.dcm',\n",
       " '/workspace/dataset_dec/media/42433039/220526_R_1000001.dcm',\n",
       " '/workspace/dataset_dec/media/44289834/22_04_22_L_31000030001.dcm',\n",
       " '/workspace/dataset_dec/media/53804617/22-03-02_L_0000002.dcm',\n",
       " '/workspace/dataset_dec/media/25317891/19-10-25_R_0200001.dcm',\n",
       " '/workspace/dataset_dec/media/49666241/19_03_29_R_2200002.dcm',\n",
       " '/workspace/dataset_dec/media/51344258/21-01-22_L_2200001.dcm',\n",
       " '/workspace/dataset_dec/media/50895861/20-04-01_R_0200002.dcm',\n",
       " '/workspace/dataset_dec/media/52552571/211001_L_0000002.dcm',\n",
       " '/workspace/dataset_dec/media/28447210/21_07_30_R_000003.dcm',\n",
       " '/workspace/dataset_dec/media/40376781/22-05-13_R_0000002.dcm',\n",
       " '/workspace/dataset_dec/media/29876873/19_08_02_L_0100001.dcm',\n",
       " '/workspace/dataset_dec/media/26561514/220521_R_0000003.dcm',\n",
       " '/workspace/dataset_dec/media/36769827/22-05-20_R_0000002.dcm',\n",
       " '/workspace/dataset_dec/media/48307880/22_03_16_L_0100003.dcm',\n",
       " '/workspace/dataset_dec/media/54187771/220811_L_0000003.dcm',\n",
       " '/workspace/dataset_dec/media/13716279/21-11-08_R_0200002.dcm',\n",
       " '/workspace/dataset_dec/media/27804531/09_10_28_R_411.dcm',\n",
       " '/workspace/dataset_dec/media/49026045/22-01-26_L_1100001.dcm',\n",
       " '/workspace/dataset_dec/media/37124131/19_09_26_L_020.dcm',\n",
       " '/workspace/dataset_dec/media/49853843/22_05_17_R_2200004.dcm',\n",
       " '/workspace/dataset_dec/media/47323942/21-01-27_R_000.dcm',\n",
       " '/workspace/dataset_dec/media/27067046/20_04_25_L_2200005.dcm',\n",
       " '/workspace/dataset_dec/media/32598124/220122_R_0000002.dcm',\n",
       " '/workspace/dataset_dec/media/49162941/22-02-11_R_1200002.dcm',\n",
       " '/workspace/dataset_dec/media/38622537/211231_L_0000001.dcm',\n",
       " '/workspace/dataset_dec/media/55045344/220211_R_0000001.dcm',\n",
       " '/workspace/dataset_dec/media/55287775/220727_L_3100001.dcm',\n",
       " '/workspace/dataset_dec/media/53572321/220812_L_0000006.dcm',\n",
       " '/workspace/dataset_dec/media/51300157/20-08-12_R_2200004.dcm',\n",
       " '/workspace/dataset_dec/media/42455053/210607_L_0000001.dcm',\n",
       " '/workspace/dataset_dec/media/48172419/21_08_20_R_0200002.dcm',\n",
       " '/workspace/dataset_dec/media/53439943/22_04_04_R_000002.dcm',\n",
       " '/workspace/dataset_dec/media/46941354/21-07-28_L_1100003.dcm',\n",
       " '/workspace/dataset_dec/media/54146965/220428_R_0000001.dcm',\n",
       " '/workspace/dataset_dec/media/50048999/22-04-11_R_1100001.dcm',\n",
       " '/workspace/dataset_dec/media/53006653/22-07-27_R_1100004.dcm',\n",
       " '/workspace/dataset_dec/media/50609572/22_10_13_L_220002.dcm',\n",
       " '/workspace/dataset_dec/media/43713581/22_08_23_L_0200002.dcm',\n",
       " '/workspace/dataset_dec/media/53684990/220107_L_3100003.dcm',\n",
       " '/workspace/dataset_dec/media/51745178/21-12-220006.dcm',\n",
       " '/workspace/dataset_dec/media/28705031/22-08-01_L_0000002.dcm',\n",
       " '/workspace/dataset_dec/media/46368702/220622_L_0000001.dcm',\n",
       " '/workspace/dataset_dec/media/53984436/220203_L_3100002.dcm',\n",
       " '/workspace/dataset_dec/media/50391617/21_11_25_L_0200002.dcm',\n",
       " '/workspace/dataset_dec/media/42668455/14_01_06_R_2200003.dcm',\n",
       " '/workspace/dataset_dec/media/49813232/22_04_20_R_0200001.dcm',\n",
       " '/workspace/dataset_dec/media/53111430/22-05-10_L_0200001.dcm',\n",
       " '/workspace/dataset_dec/media/49257010/22_05_27_R_0200002.dcm',\n",
       " '/workspace/dataset_dec/media/50403332/21_07_05_L_1200004.dcm',\n",
       " '/workspace/dataset_dec/media/53892258/22-03-14_R_0000002.dcm',\n",
       " '/workspace/dataset_dec/media/42724968/19_05_30_L_0200001.dcm',\n",
       " '/workspace/dataset_dec/media/49490280/220222_L_0000001.dcm',\n",
       " '/workspace/dataset_dec/media/52065116/20-11-26_L_000.dcm',\n",
       " '/workspace/dataset_dec/media/48529262/19_11_23_L_0200004.dcm',\n",
       " '/workspace/dataset_dec/media/37415837/22_02_21_L_000005.dcm',\n",
       " '/workspace/dataset_dec/media/49637096/20-12-21_L_1100002.dcm',\n",
       " '/workspace/dataset_dec/media/50465417/19_12_11_L_2200001.dcm',\n",
       " '/workspace/dataset_dec/media/47203745/21_06_08_R_0100002.dcm',\n",
       " '/workspace/dataset_dec/media/49124413/22_02_11_L_2200003.dcm',\n",
       " '/workspace/dataset_dec/media/52102123/21-06-08_000.dcm',\n",
       " '/workspace/dataset_dec/media/34558658/20-05-07_R_110.dcm',\n",
       " '/workspace/dataset_dec/media/50588536/21-08-18_R_020002.dcm',\n",
       " '/workspace/dataset_dec/media/48614540/191002_R_0200003.dcm',\n",
       " '/workspace/dataset_dec/media/48038184/20_08_14_R_0100002.dcm',\n",
       " '/workspace/dataset_dec/media/39114039/13_08_28_R_000.dcm',\n",
       " '/workspace/dataset_dec/media/50856998/220217_L_0000001.dcm',\n",
       " '/workspace/dataset_dec/media/19082703/21_01_19_R_0200003.dcm',\n",
       " '/workspace/dataset_dec/media/45146295/220122_L_000.dcm',\n",
       " '/workspace/dataset_dec/media/53900919/21-09-06_R_1100002.dcm',\n",
       " '/workspace/dataset_dec/media/52108309/211124_L_1100002.dcm',\n",
       " '/workspace/dataset_dec/media/51219376/19-07-24_R_0200003.dcm',\n",
       " '/workspace/dataset_dec/media/49317602/21-08-31_R_120002.dcm',\n",
       " '/workspace/dataset_dec/media/50481572/22_11_11_R_1200005.dcm',\n",
       " '/workspace/dataset_dec/media/48996057/22_10_17_R_2200002.dcm',\n",
       " '/workspace/dataset_dec/media/54463507/22-03-11_R_0000001.dcm',\n",
       " '/workspace/dataset_dec/media/48894137/22_10_25_R_0200006.dcm',\n",
       " '/workspace/dataset_dec/media/51986481/21-12-27_R_1100002.dcm',\n",
       " '/workspace/dataset_dec/media/46803128/22_09_13_R_0200002.dcm',\n",
       " '/workspace/dataset_dec/media/44049430/21_02_01_L_0200001.dcm',\n",
       " '/workspace/dataset_dec/media/47067925/21_09_08_L-0200003.dcm',\n",
       " '/workspace/dataset_dec/media/53757052/220315_L_0000002.dcm',\n",
       " '/workspace/dataset_dec/media/54488683/220609_R_3100003.dcm',\n",
       " '/workspace/dataset_dec/media/50487936/22-02-09_R_120002.dcm',\n",
       " '/workspace/dataset_dec/media/53325246/22_01_07_R_110.dcm',\n",
       " '/workspace/dataset_dec/media/52148181/20-06-23_R_0000003.dcm',\n",
       " '/workspace/dataset_dec/media/32814415/210722_L_0000001.dcm',\n",
       " '/workspace/dataset_dec/media/51320081/21-06-25_L_1200002.dcm',\n",
       " '/workspace/dataset_dec/media/50238189/20-08-28_R_2200002.dcm',\n",
       " '/workspace/dataset_dec/media/47666865/22_01_19_L_1200001.dcm',\n",
       " '/workspace/dataset_dec/media/53388487/211103_L_3100002.dcm',\n",
       " '/workspace/dataset_dec/media/49871966/20_12_22_L_1200002.dcm',\n",
       " '/workspace/dataset_dec/media/45554175/21_12_14_R_0200001.dcm',\n",
       " '/workspace/dataset_dec/media/36925526/19-12-23_R_0200001.dcm',\n",
       " '/workspace/dataset_dec/media/47904808/22-02-04_R_0000003.dcm',\n",
       " '/workspace/dataset_dec/media/46526166/22_02_08_R_0100002.dcm',\n",
       " '/workspace/dataset_dec/media/51007814/20-04-29_R_120.dcm',\n",
       " '/workspace/dataset_dec/media/51438843/21-08-25_R_1100003.dcm',\n",
       " '/workspace/dataset_dec/media/53333968/21-09-23_R_0000001.dcm',\n",
       " '/workspace/dataset_dec/media/42514433/21_12_16_R_1200002.dcm',\n",
       " '/workspace/dataset_dec/media/48449599/21_12_13_L_000004.dcm',\n",
       " '/workspace/dataset_dec/media/48259772/21_07_28_L_0200003.dcm',\n",
       " '/workspace/dataset_dec/media/39748292/21-07-13_R_0000003.dcm',\n",
       " '/workspace/dataset_dec/media/32032097/20-08-05_R_120.dcm',\n",
       " '/workspace/dataset_dec/media/38422294/22-08-08_L_1100001.dcm',\n",
       " '/workspace/dataset_dec/media/28832490/210720_L_0000002.dcm',\n",
       " '/workspace/dataset_dec/media/49717132/22_08_05_R_0200002.dcm',\n",
       " '/workspace/dataset_dec/media/47772931/18_06_19_R_1200001.dcm',\n",
       " '/workspace/dataset_dec/media/35499529/211228_L_000.dcm',\n",
       " '/workspace/dataset_dec/media/38528611/211017_R_0000001.dcm',\n",
       " '/workspace/dataset_dec/media/52361744/220811_L_0000003.dcm',\n",
       " '/workspace/dataset_dec/media/51601223/22-03-02_R_0000002.dcm',\n",
       " '/workspace/dataset_dec/media/50681721/21_04_14_L_120.dcm',\n",
       " '/workspace/dataset_dec/media/47057005/21_10_04_L_000002.dcm',\n",
       " '/workspace/dataset_dec/media/50673388/21-03-31_L_0000002.dcm',\n",
       " '/workspace/dataset_dec/media/48387381/20-05-29_R_020001.dcm',\n",
       " '/workspace/dataset_dec/media/32972708/22-06-10_R_1100002.dcm',\n",
       " '/workspace/dataset_dec/media/26295413/22-04-19_R_1100002.dcm',\n",
       " '/workspace/dataset_dec/media/52049619/22-05-03_L_0200002.dcm',\n",
       " '/workspace/dataset_dec/media/50821891/22-02-24_R_020.dcm',\n",
       " '/workspace/dataset_dec/media/29850857/20-10-06_R_1100001.dcm',\n",
       " '/workspace/dataset_dec/media/47636864/21_04_01_R_0200001.dcm',\n",
       " '/workspace/dataset_dec/media/52808591/22_01_14_R_000001.dcm',\n",
       " '/workspace/dataset_dec/media/51549022/21-01-19_R_1100002.dcm',\n",
       " '/workspace/dataset_dec/media/51551436/20-04-03_R_1200003.dcm',\n",
       " '/workspace/dataset_dec/media/54025873/22_03_02_L_1000002.dcm',\n",
       " '/workspace/dataset_dec/media/50258873/21-07-01_R_010.dcm',\n",
       " '/workspace/dataset_dec/media/23988127/191210_R_0100001.dcm',\n",
       " '/workspace/dataset_dec/media/23894828/220308_R_0000001.dcm',\n",
       " '/workspace/dataset_dec/media/53757526/220613_L_3100002.dcm',\n",
       " '/workspace/dataset_dec/media/51186382/19-11-06_L_0100002.dcm',\n",
       " '/workspace/dataset_dec/media/53548405/22-07-09_R_0000002.dcm',\n",
       " '/workspace/dataset_dec/media/51246260/21_08_02_R_0200002.dcm',\n",
       " '/workspace/dataset_dec/media/51759379/22-02-08_R_0200001.dcm',\n",
       " '/workspace/dataset_dec/media/26595005/22-07-20_L_0000003.dcm',\n",
       " '/workspace/dataset_dec/media/32197071/22_04_12_R_0200001.dcm',\n",
       " '/workspace/dataset_dec/media/55648224/220919_L_0000003.dcm',\n",
       " '/workspace/dataset_dec/media/54671904/220914_L_0000001.dcm',\n",
       " '/workspace/dataset_dec/media/51468697/21-06-03_R_020002.dcm',\n",
       " '/workspace/dataset_dec/media/48720692/21_06_30_R_0200001.dcm',\n",
       " '/workspace/dataset_dec/media/48035488/200730_L_220.dcm',\n",
       " '/workspace/dataset_dec/media/52839432/211216_L_0000003.dcm',\n",
       " '/workspace/dataset_dec/media/54491836/211207_R_0000001.dcm',\n",
       " '/workspace/dataset_dec/media/51959629/22-05-31_L_120002.dcm',\n",
       " '/workspace/dataset_dec/media/55321132/220808_R_0000002.dcm',\n",
       " '/workspace/dataset_dec/media/35693840/22-05-14_R_0000001.dcm',\n",
       " '/workspace/dataset_dec/media/52126655/20-11-12_L_0000002.dcm',\n",
       " '/workspace/dataset_dec/media/47115709/211006_L_1100001.dcm',\n",
       " '/workspace/dataset_dec/media/52134663/22-07-25_L_1200005.dcm',\n",
       " '/workspace/dataset_dec/media/70670701/22-01-27_R_1100002.dcm',\n",
       " '/workspace/dataset_dec/media/44391597/21_12_31_R_2200002.dcm',\n",
       " '/workspace/dataset_dec/media/51603856/21_08_18_L_110.dcm',\n",
       " '/workspace/dataset_dec/media/53610432/22-09-07_L_0000004.dcm',\n",
       " '/workspace/dataset_dec/media/54229497/220803_L_0000001.dcm',\n",
       " '/workspace/dataset_dec/media/51139184/210506_R_0000002.dcm',\n",
       " '/workspace/dataset_dec/media/42068459/21_12_13_L_120003.dcm',\n",
       " '/workspace/dataset_dec/media/49465772/19_08_21_R_0200002.dcm',\n",
       " '/workspace/dataset_dec/media/46416632/22-06-28_L_1100002.dcm',\n",
       " '/workspace/dataset_dec/media/51870942/22-03-29_R_1100002.dcm',\n",
       " '/workspace/dataset_dec/media/39562823/21_10_28_L_000001.dcm',\n",
       " '/workspace/dataset_dec/media/50683563/19-08-02_L_220002.dcm',\n",
       " '/workspace/dataset_dec/media/51039936/19-09-27_R_120.dcm',\n",
       " '/workspace/dataset_dec/media/51881911/20-09-04_L_1100001.dcm',\n",
       " '/workspace/dataset_dec/media/51627597/22-07-06_L_220.dcm',\n",
       " '/workspace/dataset_dec/media/55233228/220706_L_0000003.dcm',\n",
       " '/workspace/dataset_dec/media/48399889/220727_L_0000005.dcm',\n",
       " '/workspace/dataset_dec/media/50516865/19-11-27_L_0200002.dcm',\n",
       " '/workspace/dataset_dec/media/52655247/220408_L_0000002.dcm',\n",
       " '/workspace/dataset_dec/media/51340612/22_06_15_L_110003.dcm',\n",
       " '/workspace/dataset_dec/media/53549198/220119_R_0000002.dcm',\n",
       " '/workspace/dataset_dec/media/51963673/21-09-23_R_1100001.dcm',\n",
       " '/workspace/dataset_dec/media/48926919/21_02_26_L_0200002.dcm',\n",
       " '/workspace/dataset_dec/media/52730807/20-06-12_R_0200003.dcm',\n",
       " '/workspace/dataset_dec/media/54514133/210909_R_0000002.dcm',\n",
       " '/workspace/dataset_dec/media/30516722/200320_R_1200001.dcm',\n",
       " '/workspace/dataset_dec/media/50678150/20-06-04_R_0000001.dcm',\n",
       " '/workspace/dataset_dec/media/52708932/21-07-14_R_1100001.dcm',\n",
       " '/workspace/dataset_dec/media/51181983/21-08-13_R_1100002.dcm',\n",
       " '/workspace/dataset_dec/media/50900965/21-08-26_L_1100002.dcm',\n",
       " '/workspace/dataset_dec/media/51161871/19-11-26_R_020.dcm',\n",
       " '/workspace/dataset_dec/media/45367838/20-07-15_L_000.dcm',\n",
       " '/workspace/dataset_dec/media/24245265/21-09-14_L_0000002.dcm',\n",
       " '/workspace/dataset_dec/media/44487119/22_06_30_L_110.dcm',\n",
       " '/workspace/dataset_dec/media/72422256/211229_L_0000002.dcm',\n",
       " '/workspace/dataset_dec/media/42328074/21-11-17_R_1100002.dcm',\n",
       " '/workspace/dataset_dec/media/50404094/19_10_14_R_020002.dcm',\n",
       " '/workspace/dataset_dec/media/52009945/22-07-04_L_0000001.dcm',\n",
       " '/workspace/dataset_dec/media/51868141/21-03-03_R_0000002.dcm',\n",
       " '/workspace/dataset_dec/media/51408392/22-06-16_R_220.dcm',\n",
       " '/workspace/dataset_dec/media/53067689/21_08_09_L_000003.dcm',\n",
       " '/workspace/dataset_dec/media/33744540/21-04-06_R_1100001.dcm',\n",
       " '/workspace/dataset_dec/media/53852243/22-04-22_R_0000004.dcm',\n",
       " '/workspace/dataset_dec/media/52622425/21-10-12_R_0200001.dcm',\n",
       " '/workspace/dataset_dec/media/34352456/21-05-07_L_1100002.dcm',\n",
       " '/workspace/dataset_dec/media/15381198/22-05-31_L_0000001.dcm',\n",
       " '/workspace/dataset_dec/media/53519647/20-10-24_L_0000003.dcm',\n",
       " '/workspace/dataset_dec/media/50518607/21-10-27_L_1100001.dcm',\n",
       " '/workspace/dataset_dec/media/51603894/20-07-03_R_0200003.dcm',\n",
       " '/workspace/dataset_dec/media/47841534/22_10_20_R_0100003.dcm',\n",
       " '/workspace/dataset_dec/media/28152644/20-07-02_L_0000003.dcm',\n",
       " '/workspace/dataset_dec/media/28170976/07_01_11_L_0020001.dcm',\n",
       " '/workspace/dataset_dec/media/52221086/21-08-02_R_1100004.dcm',\n",
       " '/workspace/dataset_dec/media/18022126/22-03-23_L_0000001.dcm',\n",
       " '/workspace/dataset_dec/media/50873094/22_02_08_L_020001.dcm',\n",
       " '/workspace/dataset_dec/media/50419180/21-02-23_R_1100001.dcm',\n",
       " '/workspace/dataset_dec/media/51421650/22-07-09_R_1100002.dcm',\n",
       " '/workspace/dataset_dec/media/16515019/220427_R_3100002.dcm',\n",
       " '/workspace/dataset_dec/media/49793112/22_07_01_L_2200001.dcm',\n",
       " '/workspace/dataset_dec/media/53361761/220728_L_0000002.dcm',\n",
       " '/workspace/dataset_dec/media/51528328/20-08-24_R_1100001.dcm',\n",
       " '/workspace/dataset_dec/media/53577225/22_07_05_L_1100002.dcm',\n",
       " '/workspace/dataset_dec/media/49271023/220729_R_0000001.dcm',\n",
       " '/workspace/dataset_dec/media/27656701/22_05_31_R_1200001.dcm',\n",
       " '/workspace/dataset_dec/media/50559134/22-03-16_R_1200003.dcm',\n",
       " '/workspace/dataset_dec/media/21752252/22-05-30_L_220001.dcm',\n",
       " '/workspace/dataset_dec/media/30035829/19_05_09_R_0100002.dcm',\n",
       " '/workspace/dataset_dec/media/39276007/211005_L_0000001.dcm',\n",
       " '/workspace/dataset_dec/media/49541892/21-09-16_L_1100001.dcm',\n",
       " '/workspace/dataset_dec/media/49970926/19-06-24_R_0200001.dcm',\n",
       " '/workspace/dataset_dec/media/16535037/22-05-16_R_1100005.dcm',\n",
       " '/workspace/dataset_dec/media/49009350/22_07_12_R_120.dcm',\n",
       " '/workspace/dataset_dec/media/40380672/22_02_07_L_0200003.dcm',\n",
       " '/workspace/dataset_dec/media/36463965/20-12-31_L_1100001.dcm',\n",
       " '/workspace/dataset_dec/media/52840797/21-10-20_L_1100002.dcm',\n",
       " '/workspace/dataset_dec/media/44323462/21-08-02_L_1000001.dcm',\n",
       " '/workspace/dataset_dec/media/50020085/19-06-14_R_120.dcm',\n",
       " '/workspace/dataset_dec/media/40470917/22_12_05_R_0000001.dcm',\n",
       " '/workspace/dataset_dec/media/43266256/17_01_24_R_0100002.dcm',\n",
       " '/workspace/dataset_dec/media/52508808/20-10-30_R_1100001.dcm',\n",
       " '/workspace/dataset_dec/media/53230223/220610_R_0000002.dcm',\n",
       " '/workspace/dataset_dec/media/52315044/21-05-21_R_0000003.dcm',\n",
       " '/workspace/dataset_dec/media/52242502/22-02-23_R_0000002.dcm',\n",
       " '/workspace/dataset_dec/media/48452836/21-09-16_L_0200002.dcm',\n",
       " '/workspace/dataset_dec/media/53661315/22-01-17_R_000.dcm',\n",
       " '/workspace/dataset_dec/media/48707752/22_06_27_R_020002.dcm',\n",
       " '/workspace/dataset_dec/media/43520075/20-04-01_R_0200002.dcm',\n",
       " '/workspace/dataset_dec/media/41398436/20-02-27_R_010.dcm',\n",
       " '/workspace/dataset_dec/media/29225437/220526_R_0000002.dcm',\n",
       " '/workspace/dataset_dec/media/54173222/21-08-09_R_0000004.dcm',\n",
       " '/workspace/dataset_dec/media/52266546/22-04-21_R_0000002.dcm',\n",
       " '/workspace/dataset_dec/media/38812277/20-10-14_R_010.dcm',\n",
       " '/workspace/dataset_dec/media/48180403/22_05_03_R_0200001.dcm',\n",
       " '/workspace/dataset_dec/media/52378658/21-05-31_L_0000001.dcm',\n",
       " '/workspace/dataset_dec/media/49588668/220519_L_0000001.dcm',\n",
       " '/workspace/dataset_dec/media/70282298/200313_R_0100002.dcm',\n",
       " '/workspace/dataset_dec/media/54512353/210624_R_0000003.dcm',\n",
       " '/workspace/dataset_dec/media/55437804/220218_L_0000003.dcm',\n",
       " '/workspace/dataset_dec/media/52960196/21-06-11_L_1100004.dcm',\n",
       " '/workspace/dataset_dec/media/49357819/21_08_19_L_0200001.dcm',\n",
       " '/workspace/dataset_dec/media/51361789/20-11-24_L_020002.dcm',\n",
       " '/workspace/dataset_dec/media/30435760/21-08-20_L_1100003.dcm',\n",
       " '/workspace/dataset_dec/media/51101615/22-04-11_R_020001.dcm',\n",
       " '/workspace/dataset_dec/media/49020319/21_09_23_L-0200003.dcm',\n",
       " '/workspace/dataset_dec/media/50360815/22_07_01_R_0100003.dcm',\n",
       " '/workspace/dataset_dec/media/53433983/22_01_27_L_110002.dcm',\n",
       " '/workspace/dataset_dec/media/50823385/22_07_28_R_0200003.dcm',\n",
       " '/workspace/dataset_dec/media/70146354/220602_L_0000003.dcm',\n",
       " '/workspace/dataset_dec/media/52951798/220214_L_0000002.dcm',\n",
       " '/workspace/dataset_dec/media/48050920/20_01_16_R_0100003.dcm',\n",
       " '/workspace/dataset_dec/media/48863878/22_08_30_R_2200001.dcm',\n",
       " '/workspace/dataset_dec/media/49376872/20_03_05_L_0200002.dcm',\n",
       " '/workspace/dataset_dec/media/55657381/220215_R_0000001.dcm',\n",
       " '/workspace/dataset_dec/media/53409966/20-09-26_L_1100001.dcm',\n",
       " '/workspace/dataset_dec/media/52237199/22-02-14_R_0000001.dcm',\n",
       " '/workspace/dataset_dec/media/54556579/220117_L_0000001.dcm',\n",
       " '/workspace/dataset_dec/media/42861968/220418_R_3100003.dcm',\n",
       " '/workspace/dataset_dec/media/49544606/20-08-11_R_0100004.dcm',\n",
       " '/workspace/dataset_dec/media/46662404/21_12_22_L_0000003.dcm',\n",
       " '/workspace/dataset_dec/media/50240144/20_10_07_L_220.dcm',\n",
       " '/workspace/dataset_dec/media/51692700/20-12-14_L_1100001.dcm',\n",
       " '/workspace/dataset_dec/media/51960061/21-10-01_L_000.dcm',\n",
       " '/workspace/dataset_dec/media/52362709/21-12-23_0000005 (1).dcm',\n",
       " '/workspace/dataset_dec/media/48043092/22_07_05_R_0200002.dcm',\n",
       " '/workspace/dataset_dec/media/53287180/21-04-02_R_0000003.dcm',\n",
       " '/workspace/dataset_dec/media/48619514/19-12-26_R_2000001.dcm',\n",
       " '/workspace/dataset_dec/media/51590549/22-01-25_R_0200002.dcm',\n",
       " '/workspace/dataset_dec/media/50166842/21-01-12_R_220001.dcm',\n",
       " '/workspace/dataset_dec/media/49559754/22_04_21_L_1200001.dcm',\n",
       " '/workspace/dataset_dec/media/45722714/210216_L_0200001.dcm',\n",
       " '/workspace/dataset_dec/media/51664217/21-03-03_L_0000001.dcm',\n",
       " '/workspace/dataset_dec/media/48301332/22_04_05_R_2200002.dcm',\n",
       " '/workspace/dataset_dec/media/41549436/20_06_16_R_0200002.dcm',\n",
       " '/workspace/dataset_dec/media/46045643/21-08-05_R_0000003.dcm',\n",
       " '/workspace/dataset_dec/media/49362998/21_08_24_L_1200003.dcm',\n",
       " '/workspace/dataset_dec/media/16286568/22-05-04_L_0000001.dcm',\n",
       " '/workspace/dataset_dec/media/52369894/21-02-04_L_1100003.dcm',\n",
       " '/workspace/dataset_dec/media/27536371/22_03_23_L_2200004.dcm',\n",
       " '/workspace/dataset_dec/media/51936549/22-06-22_R_1100001.dcm',\n",
       " '/workspace/dataset_dec/media/49851993/22-06-15_L_020002.dcm',\n",
       " '/workspace/dataset_dec/media/41370832/21-07-13_L_0000003.dcm',\n",
       " '/workspace/dataset_dec/media/48258926/19_08_08_R_020.dcm',\n",
       " '/workspace/dataset_dec/media/52746244/22-07-26_L_0000004.dcm',\n",
       " '/workspace/dataset_dec/media/48980540/20_09_09_R_0200002.dcm',\n",
       " '/workspace/dataset_dec/media/47778023/22_01_03_R_0200004.dcm',\n",
       " '/workspace/dataset_dec/media/41019067/22-03-02_R_1100002.dcm',\n",
       " '/workspace/dataset_dec/media/51314581/21-12-17_L_1100003.dcm',\n",
       " '/workspace/dataset_dec/media/37388517/21_08_04_R_0200001.dcm',\n",
       " '/workspace/dataset_dec/media/50143755/19_04_09_R_0200002.dcm',\n",
       " '/workspace/dataset_dec/media/53762179/22-02-09_L_110.dcm',\n",
       " '/workspace/dataset_dec/media/54156157/220623_L_0000001.dcm',\n",
       " '/workspace/dataset_dec/media/52525959/20-09-07_L_0000002.dcm',\n",
       " '/workspace/dataset_dec/media/48554554/22_08_05_R_0200002.dcm',\n",
       " '/workspace/dataset_dec/media/37043287/21-11-03_R_1100001.dcm',\n",
       " '/workspace/dataset_dec/media/27127397/22-01-28_R_1100003.dcm',\n",
       " '/workspace/dataset_dec/media/44109990/22_07_12_R_2200003.dcm',\n",
       " '/workspace/dataset_dec/media/19834904/20-09-28_L_0200003.dcm',\n",
       " '/workspace/dataset_dec/media/55309947/220716_R_0000002.dcm',\n",
       " '/workspace/dataset_dec/media/42769598/21-12-30_R_0000001.dcm',\n",
       " '/workspace/dataset_dec/media/17969640/21-12-20_L_0000002.dcm',\n",
       " '/workspace/dataset_dec/media/31467203/19-09-07_L_120.dcm',\n",
       " '/workspace/dataset_dec/media/46750736/20_08_21_R_0200001.dcm',\n",
       " '/workspace/dataset_dec/media/51848875/21-08-12_R_1100002.dcm',\n",
       " '/workspace/dataset_dec/media/30464085/22-04-11_L_0000001.dcm',\n",
       " '/workspace/dataset_dec/media/53441939/20-10-23_R_0000002.dcm',\n",
       " '/workspace/dataset_dec/media/45922639/19_06_25_L_0200003.dcm',\n",
       " '/workspace/dataset_dec/media/37987178/22-08-26_L_0200002.dcm',\n",
       " '/workspace/dataset_dec/media/52303382/20-03-23_L_1200002.dcm',\n",
       " '/workspace/dataset_dec/media/49830059/220620_L_0200003.dcm',\n",
       " '/workspace/dataset_dec/media/48959779/21_12_06_L_1200005.dcm',\n",
       " '/workspace/dataset_dec/media/52361410/21-02-03_L_1100001.dcm',\n",
       " '/workspace/dataset_dec/media/50425387/19-11-26_R_020.dcm',\n",
       " '/workspace/dataset_dec/media/51965941/21_09_29_L_000002.dcm',\n",
       " '/workspace/dataset_dec/media/52757439/20-11-05_L_0000001.dcm',\n",
       " '/workspace/dataset_dec/media/24915920/09_04_25_L_0000002.dcm',\n",
       " '/workspace/dataset_dec/media/50466489/19_05_29_L_2200002.dcm',\n",
       " '/workspace/dataset_dec/media/53604398/201120.dcm',\n",
       " '/workspace/dataset_dec/media/50205451/21-10-01_L_1100002.dcm',\n",
       " '/workspace/dataset_dec/media/34716454/21-07-29_L_110.dcm',\n",
       " '/workspace/dataset_dec/media/49368460/20_10_29_L_2200003.dcm']"
      ]
     },
     "execution_count": 50,
     "metadata": {},
     "output_type": "execute_result"
    }
   ],
   "source": [
    "dcm_all"
   ]
  },
  {
   "cell_type": "code",
   "execution_count": 51,
   "metadata": {},
   "outputs": [],
   "source": [
    "dcm = pydicom.dcmread('/workspace/dataset_dec/media/49368460/20_10_29_L_2200003.dcm')"
   ]
  },
  {
   "cell_type": "code",
   "execution_count": 52,
   "metadata": {},
   "outputs": [],
   "source": [
    "img = dcm.pixel_array"
   ]
  },
  {
   "cell_type": "code",
   "execution_count": 53,
   "metadata": {},
   "outputs": [
    {
     "name": "stdout",
     "output_type": "stream",
     "text": [
      "error:  /workspace/dataset_dec/media/29473483/04_04_01_R_3200002.dcm\n",
      "error:  /workspace/dataset_dec/media/29473483/04_04_01_R_3200001.dcm\n",
      "error:  /workspace/dataset_dec/media/22848466/18_11_17_R_011002.dcm\n",
      "error:  /workspace/dataset_dec/media/22848466/18_11_17_R_011001.dcm\n",
      "error:  /workspace/dataset_dec/media/49479663/2202250002.dcm\n",
      "error:  /workspace/dataset_dec/media/49479663/2202250003.dcm\n",
      "error:  /workspace/dataset_dec/media/49479663/2202250001.dcm\n",
      "error:  /workspace/dataset_dec/media/49479663/200804.dcm\n",
      "error:  /workspace/dataset_dec/media/27804531/09_10_28_R_411.dcm\n",
      "error:  /workspace/dataset_dec/media/28170976/03_04_02_L_0020001.dcm\n",
      "error:  /workspace/dataset_dec/media/28170976/01_02_21_L_0020003.dcm\n",
      "error:  /workspace/dataset_dec/media/28170976/01_02_21_L_0020002.dcm\n",
      "error:  /workspace/dataset_dec/media/28170976/01_02_21_L_0020004.dcm\n",
      "error:  /workspace/dataset_dec/media/28170976/01_02_21_L_0020001.dcm\n"
     ]
    }
   ],
   "source": [
    "t_ct = []\n",
    "# 이미지로 변환 성공한 url\n",
    "f_ct = []\n",
    "# 이미지로 변환 실패한 url\n",
    "dcm_all = []\n",
    "# dicom 전체 url\n",
    "t_id = []\n",
    "## True df 구성 ##\n",
    "img_arr = []\n",
    "# img array\n",
    "lb_arr = []\n",
    "# label array\n",
    "path_arr = []\n",
    "# path array\n",
    "\n",
    "## False df 구성 ##\n",
    "#f_img_arr = []\n",
    "# img array\n",
    "f_lb_arr = []\n",
    "# label array\n",
    "#f_path_arr = []\n",
    "# path array\n",
    "\n",
    "\n",
    "\n",
    "for top, _, f in os.walk(img_path):\n",
    "    # img_path에 접근하여 폴더별로 이미지에 접근한다.\n",
    "    # top은 img_path/세부경로\n",
    "    # f는 환자별 image file 이름\n",
    "    for ix, filename in enumerate(f):\n",
    "        # 그중 f는 각 환자 폴더 안의 이미지 전부의 주소이다.\n",
    "        # filename은 그 중 하나에 접근.\n",
    "        url = os.path.join(top,filename)\n",
    "        # 세부 이미지 경로\n",
    "        id = int(url.split('/')[4])\n",
    "        # 환자 number\n",
    "        dcm_all.append(url)\n",
    "        # dicom 전체 url\n",
    "        try:\n",
    "\n",
    "            label = str(data[data['ID'] == id].iloc[0].Num_Img)\n",
    "            # label을 csv의 Implant에 해당하는 값으로 지정\n",
    "            dcm = pydicom.dcmread(url)\n",
    "            # dcm read\n",
    "            img = dcm.pixel_array\n",
    "            # try 적용 영역 : 변환이 안되면 except 문으로\n",
    "            lb_arr.append(label)\n",
    "            # label 순서대로 더하기 : df에 사용\n",
    "            img_arr.append(img)\n",
    "            # array 순서대로 더하기 : df에 사용\n",
    "            # dcm2array\n",
    "            save_img = Image.fromarray(img)\n",
    "            # array2img\n",
    "            t_ct.append(url)\n",
    "            t_id.append(id)\n",
    "            # 성공적으로 읽어온 rul\n",
    "            save_path = '/workspace/pre_dataset2/' + label\n",
    "            # 이미지로 저장할 label url : label별로 저장\n",
    "            img_save_path = save_path + '/' + url.split('/')[-2]+ str(ix) + '.jpg'\n",
    "            path_arr.append(img_save_path)\n",
    "            # 이미지 세부 경로 순서대로 더하기 : df에 사용\n",
    "            # label url에 세부적으로 저장할 img url, 중복된 이미지명 존재로 인해 index도 이름에 같이 넣어준다.\n",
    "          #  if not os.path.isdir(save_path):\n",
    "           #     os.makedirs(save_path)\n",
    "                # 폴더가 없으면 생성\n",
    "           # save_img.save(img_save_path)\n",
    "            # 이미지 저장\n",
    "\n",
    "        except:\n",
    "            f_ct.append(url)\n",
    "            try:\n",
    "                f_lb_arr.append(label)\n",
    "            except:\n",
    "                f_lb_arr.append('NaN')\n",
    "            # dicom으로 읽지 못한 url 저장\n",
    "\n",
    "            print('error: ' , url)"
   ]
  },
  {
   "attachments": {},
   "cell_type": "markdown",
   "metadata": {},
   "source": [
    "* 예외처리된 링크는 dcmread로 읽히지 않음"
   ]
  },
  {
   "cell_type": "code",
   "execution_count": 54,
   "metadata": {},
   "outputs": [],
   "source": [
    "# dcm = pydicom.dcmread('/workspace/dataset_dec/media/28170976/01_02_21_L_0020001.dcm')"
   ]
  },
  {
   "cell_type": "code",
   "execution_count": 55,
   "metadata": {},
   "outputs": [],
   "source": [
    "#img = dcm.pixel_array"
   ]
  },
  {
   "cell_type": "code",
   "execution_count": 57,
   "metadata": {},
   "outputs": [
    {
     "data": {
      "text/plain": [
       "5882"
      ]
     },
     "execution_count": 57,
     "metadata": {},
     "output_type": "execute_result"
    }
   ],
   "source": [
    "len(t_ct)"
   ]
  },
  {
   "cell_type": "code",
   "execution_count": 58,
   "metadata": {},
   "outputs": [
    {
     "data": {
      "text/plain": [
       "14"
      ]
     },
     "execution_count": 58,
     "metadata": {},
     "output_type": "execute_result"
    }
   ],
   "source": [
    "len(f_ct)"
   ]
  },
  {
   "cell_type": "markdown",
   "metadata": {},
   "source": [
    "* 읽힌 파일과 읽지 못한 파일"
   ]
  },
  {
   "cell_type": "code",
   "execution_count": 59,
   "metadata": {},
   "outputs": [
    {
     "data": {
      "text/plain": [
       "5896"
      ]
     },
     "execution_count": 59,
     "metadata": {},
     "output_type": "execute_result"
    }
   ],
   "source": [
    "len(dcm_all)"
   ]
  },
  {
   "cell_type": "code",
   "execution_count": 60,
   "metadata": {},
   "outputs": [
    {
     "data": {
      "text/plain": [
       "5882"
      ]
     },
     "execution_count": 60,
     "metadata": {},
     "output_type": "execute_result"
    }
   ],
   "source": [
    "len(t_ct)"
   ]
  },
  {
   "cell_type": "code",
   "execution_count": 61,
   "metadata": {},
   "outputs": [
    {
     "data": {
      "text/plain": [
       "14"
      ]
     },
     "execution_count": 61,
     "metadata": {},
     "output_type": "execute_result"
    }
   ],
   "source": [
    "len(f_ct)"
   ]
  },
  {
   "cell_type": "markdown",
   "metadata": {},
   "source": [
    "* jpg check"
   ]
  },
  {
   "cell_type": "code",
   "execution_count": 62,
   "metadata": {},
   "outputs": [],
   "source": [
    "ecp = []\n",
    "for pt in f_ct:\n",
    "    if pt.split('.')[-1] == 'jpg':\n",
    "        pass\n",
    "    else:\n",
    "        ecp.append(pt)"
   ]
  },
  {
   "cell_type": "code",
   "execution_count": 63,
   "metadata": {},
   "outputs": [
    {
     "data": {
      "text/plain": [
       "['/workspace/dataset_dec/media/29473483/04_04_01_R_3200002.dcm',\n",
       " '/workspace/dataset_dec/media/29473483/04_04_01_R_3200001.dcm',\n",
       " '/workspace/dataset_dec/media/22848466/18_11_17_R_011002.dcm',\n",
       " '/workspace/dataset_dec/media/22848466/18_11_17_R_011001.dcm',\n",
       " '/workspace/dataset_dec/media/49479663/2202250002.dcm',\n",
       " '/workspace/dataset_dec/media/49479663/2202250003.dcm',\n",
       " '/workspace/dataset_dec/media/49479663/2202250001.dcm',\n",
       " '/workspace/dataset_dec/media/49479663/200804.dcm',\n",
       " '/workspace/dataset_dec/media/27804531/09_10_28_R_411.dcm',\n",
       " '/workspace/dataset_dec/media/28170976/03_04_02_L_0020001.dcm',\n",
       " '/workspace/dataset_dec/media/28170976/01_02_21_L_0020003.dcm',\n",
       " '/workspace/dataset_dec/media/28170976/01_02_21_L_0020002.dcm',\n",
       " '/workspace/dataset_dec/media/28170976/01_02_21_L_0020004.dcm',\n",
       " '/workspace/dataset_dec/media/28170976/01_02_21_L_0020001.dcm']"
      ]
     },
     "execution_count": 63,
     "metadata": {},
     "output_type": "execute_result"
    }
   ],
   "source": [
    "ecp"
   ]
  },
  {
   "cell_type": "code",
   "execution_count": 64,
   "metadata": {},
   "outputs": [],
   "source": [
    "ct_f_num = []\n",
    "for i in f_ct:\n",
    "    ct_f_num.append(i.split('/')[4])"
   ]
  },
  {
   "cell_type": "code",
   "execution_count": 65,
   "metadata": {},
   "outputs": [
    {
     "data": {
      "text/plain": [
       "{'22848466', '27804531', '28170976', '29473483', '49479663'}"
      ]
     },
     "execution_count": 65,
     "metadata": {},
     "output_type": "execute_result"
    }
   ],
   "source": [
    "set(ct_f_num)"
   ]
  },
  {
   "cell_type": "code",
   "execution_count": 66,
   "metadata": {},
   "outputs": [
    {
     "data": {
      "text/plain": [
       "5"
      ]
     },
     "execution_count": 66,
     "metadata": {},
     "output_type": "execute_result"
    }
   ],
   "source": [
    "len(set(ct_f_num))"
   ]
  },
  {
   "cell_type": "code",
   "execution_count": 67,
   "metadata": {},
   "outputs": [
    {
     "data": {
      "text/plain": [
       "897"
      ]
     },
     "execution_count": 67,
     "metadata": {},
     "output_type": "execute_result"
    }
   ],
   "source": [
    "len(set(t_id))"
   ]
  },
  {
   "attachments": {},
   "cell_type": "markdown",
   "metadata": {},
   "source": [
    "* dcmread로 읽혀지지 않는 파일 14개\n",
    "→ 897명 5882장으로 진행"
   ]
  },
  {
   "cell_type": "markdown",
   "metadata": {},
   "source": [
    "* data frame 구성"
   ]
  },
  {
   "cell_type": "code",
   "execution_count": 68,
   "metadata": {},
   "outputs": [],
   "source": [
    "df = pd.DataFrame([ x for x in zip(t_ct,lb_arr, t_id)], columns = ['url', 'label', 'id'])"
   ]
  },
  {
   "cell_type": "code",
   "execution_count": 69,
   "metadata": {},
   "outputs": [
    {
     "data": {
      "text/html": [
       "<div>\n",
       "<style scoped>\n",
       "    .dataframe tbody tr th:only-of-type {\n",
       "        vertical-align: middle;\n",
       "    }\n",
       "\n",
       "    .dataframe tbody tr th {\n",
       "        vertical-align: top;\n",
       "    }\n",
       "\n",
       "    .dataframe thead th {\n",
       "        text-align: right;\n",
       "    }\n",
       "</style>\n",
       "<table border=\"1\" class=\"dataframe\">\n",
       "  <thead>\n",
       "    <tr style=\"text-align: right;\">\n",
       "      <th></th>\n",
       "      <th>url</th>\n",
       "      <th>label</th>\n",
       "      <th>id</th>\n",
       "    </tr>\n",
       "  </thead>\n",
       "  <tbody>\n",
       "    <tr>\n",
       "      <th>0</th>\n",
       "      <td>/workspace/dataset_dec/media/48207865/17_02_22...</td>\n",
       "      <td>0</td>\n",
       "      <td>48207865</td>\n",
       "    </tr>\n",
       "    <tr>\n",
       "      <th>1</th>\n",
       "      <td>/workspace/dataset_dec/media/52017201/21-01-15...</td>\n",
       "      <td>1</td>\n",
       "      <td>52017201</td>\n",
       "    </tr>\n",
       "    <tr>\n",
       "      <th>2</th>\n",
       "      <td>/workspace/dataset_dec/media/52017201/21-01-15...</td>\n",
       "      <td>1</td>\n",
       "      <td>52017201</td>\n",
       "    </tr>\n",
       "    <tr>\n",
       "      <th>3</th>\n",
       "      <td>/workspace/dataset_dec/media/52017201/22-03-21...</td>\n",
       "      <td>1</td>\n",
       "      <td>52017201</td>\n",
       "    </tr>\n",
       "    <tr>\n",
       "      <th>4</th>\n",
       "      <td>/workspace/dataset_dec/media/52017201/21-01-15...</td>\n",
       "      <td>1</td>\n",
       "      <td>52017201</td>\n",
       "    </tr>\n",
       "  </tbody>\n",
       "</table>\n",
       "</div>"
      ],
      "text/plain": [
       "                                                 url label        id\n",
       "0  /workspace/dataset_dec/media/48207865/17_02_22...     0  48207865\n",
       "1  /workspace/dataset_dec/media/52017201/21-01-15...     1  52017201\n",
       "2  /workspace/dataset_dec/media/52017201/21-01-15...     1  52017201\n",
       "3  /workspace/dataset_dec/media/52017201/22-03-21...     1  52017201\n",
       "4  /workspace/dataset_dec/media/52017201/21-01-15...     1  52017201"
      ]
     },
     "execution_count": 69,
     "metadata": {},
     "output_type": "execute_result"
    }
   ],
   "source": [
    "df.head()"
   ]
  },
  {
   "cell_type": "code",
   "execution_count": 70,
   "metadata": {},
   "outputs": [],
   "source": [
    "df.to_csv('df.csv', index=False)"
   ]
  },
  {
   "cell_type": "code",
   "execution_count": 71,
   "metadata": {},
   "outputs": [
    {
     "data": {
      "text/plain": [
       "897"
      ]
     },
     "execution_count": 71,
     "metadata": {},
     "output_type": "execute_result"
    }
   ],
   "source": [
    "len(df['id'].unique())"
   ]
  },
  {
   "cell_type": "markdown",
   "metadata": {},
   "source": [
    "* 읽지 못한 url"
   ]
  },
  {
   "cell_type": "code",
   "execution_count": 72,
   "metadata": {},
   "outputs": [
    {
     "data": {
      "text/plain": [
       "7390"
      ]
     },
     "execution_count": 72,
     "metadata": {},
     "output_type": "execute_result"
    }
   ],
   "source": [
    "1296+2062+1911+1238+594+289"
   ]
  },
  {
   "cell_type": "code",
   "execution_count": 73,
   "metadata": {},
   "outputs": [
    {
     "data": {
      "text/plain": [
       "1632"
      ]
     },
     "execution_count": 73,
     "metadata": {},
     "output_type": "execute_result"
    }
   ],
   "source": [
    "347+433+412+247+127+66\n"
   ]
  },
  {
   "cell_type": "code",
   "execution_count": 74,
   "metadata": {},
   "outputs": [
    {
     "data": {
      "text/plain": [
       "1510"
      ]
     },
     "execution_count": 74,
     "metadata": {},
     "output_type": "execute_result"
    }
   ],
   "source": [
    "259+430+361+265+110+85"
   ]
  },
  {
   "cell_type": "code",
   "execution_count": 75,
   "metadata": {},
   "outputs": [
    {
     "data": {
      "text/plain": [
       "['/workspace/dataset_dec/media/29473483/04_04_01_R_3200002.dcm',\n",
       " '/workspace/dataset_dec/media/29473483/04_04_01_R_3200001.dcm',\n",
       " '/workspace/dataset_dec/media/22848466/18_11_17_R_011002.dcm',\n",
       " '/workspace/dataset_dec/media/22848466/18_11_17_R_011001.dcm',\n",
       " '/workspace/dataset_dec/media/49479663/2202250002.dcm',\n",
       " '/workspace/dataset_dec/media/49479663/2202250003.dcm',\n",
       " '/workspace/dataset_dec/media/49479663/2202250001.dcm',\n",
       " '/workspace/dataset_dec/media/49479663/200804.dcm',\n",
       " '/workspace/dataset_dec/media/27804531/09_10_28_R_411.dcm',\n",
       " '/workspace/dataset_dec/media/28170976/03_04_02_L_0020001.dcm',\n",
       " '/workspace/dataset_dec/media/28170976/01_02_21_L_0020003.dcm',\n",
       " '/workspace/dataset_dec/media/28170976/01_02_21_L_0020002.dcm',\n",
       " '/workspace/dataset_dec/media/28170976/01_02_21_L_0020004.dcm',\n",
       " '/workspace/dataset_dec/media/28170976/01_02_21_L_0020001.dcm']"
      ]
     },
     "execution_count": 75,
     "metadata": {},
     "output_type": "execute_result"
    }
   ],
   "source": [
    "f_ct"
   ]
  },
  {
   "cell_type": "code",
   "execution_count": 76,
   "metadata": {},
   "outputs": [],
   "source": [
    "#f_df = pd.DataFrame([ x for x in zip(f_ct, f_lb_arr)], columns = ['url', 'check'])"
   ]
  },
  {
   "cell_type": "code",
   "execution_count": 77,
   "metadata": {},
   "outputs": [],
   "source": [
    "#f_df.to_csv('f_df.csv', index=False)"
   ]
  },
  {
   "cell_type": "markdown",
   "metadata": {},
   "source": [
    "* data leakage 방지 split"
   ]
  },
  {
   "cell_type": "code",
   "execution_count": 78,
   "metadata": {},
   "outputs": [
    {
     "data": {
      "text/html": [
       "<div>\n",
       "<style scoped>\n",
       "    .dataframe tbody tr th:only-of-type {\n",
       "        vertical-align: middle;\n",
       "    }\n",
       "\n",
       "    .dataframe tbody tr th {\n",
       "        vertical-align: top;\n",
       "    }\n",
       "\n",
       "    .dataframe thead th {\n",
       "        text-align: right;\n",
       "    }\n",
       "</style>\n",
       "<table border=\"1\" class=\"dataframe\">\n",
       "  <thead>\n",
       "    <tr style=\"text-align: right;\">\n",
       "      <th></th>\n",
       "      <th>url</th>\n",
       "      <th>label</th>\n",
       "      <th>id</th>\n",
       "    </tr>\n",
       "  </thead>\n",
       "  <tbody>\n",
       "    <tr>\n",
       "      <th>0</th>\n",
       "      <td>/workspace/dataset_dec/media/48207865/17_02_22...</td>\n",
       "      <td>0</td>\n",
       "      <td>48207865</td>\n",
       "    </tr>\n",
       "    <tr>\n",
       "      <th>1</th>\n",
       "      <td>/workspace/dataset_dec/media/52017201/21-01-15...</td>\n",
       "      <td>1</td>\n",
       "      <td>52017201</td>\n",
       "    </tr>\n",
       "    <tr>\n",
       "      <th>2</th>\n",
       "      <td>/workspace/dataset_dec/media/52017201/21-01-15...</td>\n",
       "      <td>1</td>\n",
       "      <td>52017201</td>\n",
       "    </tr>\n",
       "    <tr>\n",
       "      <th>3</th>\n",
       "      <td>/workspace/dataset_dec/media/52017201/22-03-21...</td>\n",
       "      <td>1</td>\n",
       "      <td>52017201</td>\n",
       "    </tr>\n",
       "    <tr>\n",
       "      <th>4</th>\n",
       "      <td>/workspace/dataset_dec/media/52017201/21-01-15...</td>\n",
       "      <td>1</td>\n",
       "      <td>52017201</td>\n",
       "    </tr>\n",
       "  </tbody>\n",
       "</table>\n",
       "</div>"
      ],
      "text/plain": [
       "                                                 url label        id\n",
       "0  /workspace/dataset_dec/media/48207865/17_02_22...     0  48207865\n",
       "1  /workspace/dataset_dec/media/52017201/21-01-15...     1  52017201\n",
       "2  /workspace/dataset_dec/media/52017201/21-01-15...     1  52017201\n",
       "3  /workspace/dataset_dec/media/52017201/22-03-21...     1  52017201\n",
       "4  /workspace/dataset_dec/media/52017201/21-01-15...     1  52017201"
      ]
     },
     "execution_count": 78,
     "metadata": {},
     "output_type": "execute_result"
    }
   ],
   "source": [
    "df.head()"
   ]
  },
  {
   "cell_type": "markdown",
   "metadata": {},
   "source": [
    "→ 동일한 id의 파일은 train, valid, test중 모두 하나에 속해야함."
   ]
  },
  {
   "cell_type": "code",
   "execution_count": 79,
   "metadata": {},
   "outputs": [],
   "source": [
    "import pandas as pd\n",
    "import numpy as np"
   ]
  },
  {
   "cell_type": "code",
   "execution_count": 81,
   "metadata": {},
   "outputs": [],
   "source": [
    "df = pd.read_csv('/workspace/Pipeline_version3_manufacturer/1_data_preprocessing/df.csv')"
   ]
  },
  {
   "cell_type": "code",
   "execution_count": 82,
   "metadata": {},
   "outputs": [
    {
     "data": {
      "text/html": [
       "<div>\n",
       "<style scoped>\n",
       "    .dataframe tbody tr th:only-of-type {\n",
       "        vertical-align: middle;\n",
       "    }\n",
       "\n",
       "    .dataframe tbody tr th {\n",
       "        vertical-align: top;\n",
       "    }\n",
       "\n",
       "    .dataframe thead th {\n",
       "        text-align: right;\n",
       "    }\n",
       "</style>\n",
       "<table border=\"1\" class=\"dataframe\">\n",
       "  <thead>\n",
       "    <tr style=\"text-align: right;\">\n",
       "      <th></th>\n",
       "      <th>url</th>\n",
       "      <th>label</th>\n",
       "      <th>id</th>\n",
       "    </tr>\n",
       "  </thead>\n",
       "  <tbody>\n",
       "    <tr>\n",
       "      <th>0</th>\n",
       "      <td>/workspace/dataset_dec/media/48207865/17_02_22...</td>\n",
       "      <td>0</td>\n",
       "      <td>48207865</td>\n",
       "    </tr>\n",
       "    <tr>\n",
       "      <th>1</th>\n",
       "      <td>/workspace/dataset_dec/media/52017201/21-01-15...</td>\n",
       "      <td>1</td>\n",
       "      <td>52017201</td>\n",
       "    </tr>\n",
       "    <tr>\n",
       "      <th>2</th>\n",
       "      <td>/workspace/dataset_dec/media/52017201/21-01-15...</td>\n",
       "      <td>1</td>\n",
       "      <td>52017201</td>\n",
       "    </tr>\n",
       "    <tr>\n",
       "      <th>3</th>\n",
       "      <td>/workspace/dataset_dec/media/52017201/22-03-21...</td>\n",
       "      <td>1</td>\n",
       "      <td>52017201</td>\n",
       "    </tr>\n",
       "    <tr>\n",
       "      <th>4</th>\n",
       "      <td>/workspace/dataset_dec/media/52017201/21-01-15...</td>\n",
       "      <td>1</td>\n",
       "      <td>52017201</td>\n",
       "    </tr>\n",
       "    <tr>\n",
       "      <th>...</th>\n",
       "      <td>...</td>\n",
       "      <td>...</td>\n",
       "      <td>...</td>\n",
       "    </tr>\n",
       "    <tr>\n",
       "      <th>5877</th>\n",
       "      <td>/workspace/dataset_dec/media/49368460/22_03_26...</td>\n",
       "      <td>2</td>\n",
       "      <td>49368460</td>\n",
       "    </tr>\n",
       "    <tr>\n",
       "      <th>5878</th>\n",
       "      <td>/workspace/dataset_dec/media/49368460/22_03_26...</td>\n",
       "      <td>2</td>\n",
       "      <td>49368460</td>\n",
       "    </tr>\n",
       "    <tr>\n",
       "      <th>5879</th>\n",
       "      <td>/workspace/dataset_dec/media/49368460/20_10_29...</td>\n",
       "      <td>2</td>\n",
       "      <td>49368460</td>\n",
       "    </tr>\n",
       "    <tr>\n",
       "      <th>5880</th>\n",
       "      <td>/workspace/dataset_dec/media/49368460/22_03_26...</td>\n",
       "      <td>2</td>\n",
       "      <td>49368460</td>\n",
       "    </tr>\n",
       "    <tr>\n",
       "      <th>5881</th>\n",
       "      <td>/workspace/dataset_dec/media/49368460/22_03_26...</td>\n",
       "      <td>2</td>\n",
       "      <td>49368460</td>\n",
       "    </tr>\n",
       "  </tbody>\n",
       "</table>\n",
       "<p>5882 rows × 3 columns</p>\n",
       "</div>"
      ],
      "text/plain": [
       "                                                    url  label        id\n",
       "0     /workspace/dataset_dec/media/48207865/17_02_22...      0  48207865\n",
       "1     /workspace/dataset_dec/media/52017201/21-01-15...      1  52017201\n",
       "2     /workspace/dataset_dec/media/52017201/21-01-15...      1  52017201\n",
       "3     /workspace/dataset_dec/media/52017201/22-03-21...      1  52017201\n",
       "4     /workspace/dataset_dec/media/52017201/21-01-15...      1  52017201\n",
       "...                                                 ...    ...       ...\n",
       "5877  /workspace/dataset_dec/media/49368460/22_03_26...      2  49368460\n",
       "5878  /workspace/dataset_dec/media/49368460/22_03_26...      2  49368460\n",
       "5879  /workspace/dataset_dec/media/49368460/20_10_29...      2  49368460\n",
       "5880  /workspace/dataset_dec/media/49368460/22_03_26...      2  49368460\n",
       "5881  /workspace/dataset_dec/media/49368460/22_03_26...      2  49368460\n",
       "\n",
       "[5882 rows x 3 columns]"
      ]
     },
     "execution_count": 82,
     "metadata": {},
     "output_type": "execute_result"
    }
   ],
   "source": [
    "df"
   ]
  },
  {
   "cell_type": "code",
   "execution_count": 83,
   "metadata": {},
   "outputs": [
    {
     "data": {
      "text/plain": [
       "897"
      ]
     },
     "execution_count": 83,
     "metadata": {},
     "output_type": "execute_result"
    }
   ],
   "source": [
    "len(set(list(df['id'])))"
   ]
  },
  {
   "cell_type": "markdown",
   "metadata": {},
   "source": [
    "* train valid split"
   ]
  },
  {
   "cell_type": "code",
   "execution_count": 84,
   "metadata": {},
   "outputs": [
    {
     "data": {
      "text/plain": [
       "0       48207865\n",
       "1       52017201\n",
       "2       52017201\n",
       "3       52017201\n",
       "4       52017201\n",
       "          ...   \n",
       "5877    49368460\n",
       "5878    49368460\n",
       "5879    49368460\n",
       "5880    49368460\n",
       "5881    49368460\n",
       "Name: id, Length: 5882, dtype: int64"
      ]
     },
     "execution_count": 84,
     "metadata": {},
     "output_type": "execute_result"
    }
   ],
   "source": [
    "df['id']"
   ]
  },
  {
   "cell_type": "code",
   "execution_count": 89,
   "metadata": {},
   "outputs": [],
   "source": [
    "df_du = df[['label', 'id']].drop_duplicates('id').reindex()"
   ]
  },
  {
   "cell_type": "code",
   "execution_count": 90,
   "metadata": {},
   "outputs": [
    {
     "data": {
      "text/html": [
       "<div>\n",
       "<style scoped>\n",
       "    .dataframe tbody tr th:only-of-type {\n",
       "        vertical-align: middle;\n",
       "    }\n",
       "\n",
       "    .dataframe tbody tr th {\n",
       "        vertical-align: top;\n",
       "    }\n",
       "\n",
       "    .dataframe thead th {\n",
       "        text-align: right;\n",
       "    }\n",
       "</style>\n",
       "<table border=\"1\" class=\"dataframe\">\n",
       "  <thead>\n",
       "    <tr style=\"text-align: right;\">\n",
       "      <th></th>\n",
       "      <th>label</th>\n",
       "      <th>id</th>\n",
       "    </tr>\n",
       "  </thead>\n",
       "  <tbody>\n",
       "    <tr>\n",
       "      <th>0</th>\n",
       "      <td>0</td>\n",
       "      <td>48207865</td>\n",
       "    </tr>\n",
       "    <tr>\n",
       "      <th>1</th>\n",
       "      <td>1</td>\n",
       "      <td>52017201</td>\n",
       "    </tr>\n",
       "    <tr>\n",
       "      <th>7</th>\n",
       "      <td>1</td>\n",
       "      <td>50676642</td>\n",
       "    </tr>\n",
       "    <tr>\n",
       "      <th>12</th>\n",
       "      <td>1</td>\n",
       "      <td>32430451</td>\n",
       "    </tr>\n",
       "    <tr>\n",
       "      <th>15</th>\n",
       "      <td>0</td>\n",
       "      <td>51870896</td>\n",
       "    </tr>\n",
       "    <tr>\n",
       "      <th>...</th>\n",
       "      <td>...</td>\n",
       "      <td>...</td>\n",
       "    </tr>\n",
       "    <tr>\n",
       "      <th>5850</th>\n",
       "      <td>2</td>\n",
       "      <td>50466489</td>\n",
       "    </tr>\n",
       "    <tr>\n",
       "      <th>5852</th>\n",
       "      <td>0</td>\n",
       "      <td>53604398</td>\n",
       "    </tr>\n",
       "    <tr>\n",
       "      <th>5853</th>\n",
       "      <td>1</td>\n",
       "      <td>50205451</td>\n",
       "    </tr>\n",
       "    <tr>\n",
       "      <th>5866</th>\n",
       "      <td>1</td>\n",
       "      <td>34716454</td>\n",
       "    </tr>\n",
       "    <tr>\n",
       "      <th>5873</th>\n",
       "      <td>2</td>\n",
       "      <td>49368460</td>\n",
       "    </tr>\n",
       "  </tbody>\n",
       "</table>\n",
       "<p>897 rows × 2 columns</p>\n",
       "</div>"
      ],
      "text/plain": [
       "      label        id\n",
       "0         0  48207865\n",
       "1         1  52017201\n",
       "7         1  50676642\n",
       "12        1  32430451\n",
       "15        0  51870896\n",
       "...     ...       ...\n",
       "5850      2  50466489\n",
       "5852      0  53604398\n",
       "5853      1  50205451\n",
       "5866      1  34716454\n",
       "5873      2  49368460\n",
       "\n",
       "[897 rows x 2 columns]"
      ]
     },
     "execution_count": 90,
     "metadata": {},
     "output_type": "execute_result"
    }
   ],
   "source": [
    "df_du"
   ]
  },
  {
   "cell_type": "code",
   "execution_count": 91,
   "metadata": {},
   "outputs": [
    {
     "data": {
      "text/plain": [
       "0    528\n",
       "1    260\n",
       "2     91\n",
       "3     18\n",
       "Name: label, dtype: int64"
      ]
     },
     "execution_count": 91,
     "metadata": {},
     "output_type": "execute_result"
    }
   ],
   "source": [
    "df_du['label'].value_counts()"
   ]
  },
  {
   "cell_type": "code",
   "execution_count": 92,
   "metadata": {},
   "outputs": [],
   "source": [
    "df_du = df_du[df_du['label'].map(lambda x : x in [0, 1, 2, 3])]"
   ]
  },
  {
   "cell_type": "code",
   "execution_count": 93,
   "metadata": {},
   "outputs": [],
   "source": [
    "from sklearn.model_selection import train_test_split"
   ]
  },
  {
   "cell_type": "code",
   "execution_count": 94,
   "metadata": {},
   "outputs": [],
   "source": [
    "x_train, x_valid ,y_train, y_valid = train_test_split(df_du['id'], df_du['label'], test_size=0.3, shuffle=True, stratify=df_du['label'], random_state=2022)"
   ]
  },
  {
   "cell_type": "code",
   "execution_count": 95,
   "metadata": {},
   "outputs": [
    {
     "name": "stdout",
     "output_type": "stream",
     "text": [
      "(627,) (627,) (270,) (270,)\n"
     ]
    }
   ],
   "source": [
    "print(x_train.shape, y_train.shape, x_valid.shape, y_valid.shape)"
   ]
  },
  {
   "cell_type": "markdown",
   "metadata": {},
   "source": [
    "* valid test split"
   ]
  },
  {
   "cell_type": "code",
   "execution_count": 96,
   "metadata": {},
   "outputs": [],
   "source": [
    "x_valid, x_test ,y_valid, y_test = train_test_split(x_valid, y_valid, test_size=0.5, shuffle=True, stratify=y_valid, random_state=2022)"
   ]
  },
  {
   "cell_type": "code",
   "execution_count": 97,
   "metadata": {},
   "outputs": [
    {
     "name": "stdout",
     "output_type": "stream",
     "text": [
      "(627,) (627,) (135,) (135,) (135,) (135,)\n"
     ]
    }
   ],
   "source": [
    "print(x_train.shape, y_train.shape, x_valid.shape, y_valid.shape, x_test.shape, y_test.shape)"
   ]
  },
  {
   "cell_type": "code",
   "execution_count": 98,
   "metadata": {},
   "outputs": [
    {
     "name": "stdout",
     "output_type": "stream",
     "text": [
      "(627,) (627,) (135,) (135,) (135,) (135,)\n"
     ]
    }
   ],
   "source": [
    "print(x_train.shape, y_train.shape, x_valid.shape, y_valid.shape, x_test.shape, y_test.shape)"
   ]
  },
  {
   "cell_type": "code",
   "execution_count": 99,
   "metadata": {},
   "outputs": [],
   "source": [
    "import collections"
   ]
  },
  {
   "cell_type": "code",
   "execution_count": 100,
   "metadata": {},
   "outputs": [
    {
     "data": {
      "text/plain": [
       "Counter({1: 182, 0: 369, 2: 64, 3: 12})"
      ]
     },
     "execution_count": 100,
     "metadata": {},
     "output_type": "execute_result"
    }
   ],
   "source": [
    "collections.Counter(y_train)"
   ]
  },
  {
   "cell_type": "code",
   "execution_count": 101,
   "metadata": {},
   "outputs": [
    {
     "data": {
      "text/plain": [
       "Counter({0: 80, 1: 39, 2: 13, 3: 3})"
      ]
     },
     "execution_count": 101,
     "metadata": {},
     "output_type": "execute_result"
    }
   ],
   "source": [
    "collections.Counter(y_valid)"
   ]
  },
  {
   "cell_type": "code",
   "execution_count": 102,
   "metadata": {},
   "outputs": [
    {
     "data": {
      "text/plain": [
       "Counter({0: 79, 1: 39, 3: 3, 2: 14})"
      ]
     },
     "execution_count": 102,
     "metadata": {},
     "output_type": "execute_result"
    }
   ],
   "source": [
    "collections.Counter(y_test)"
   ]
  },
  {
   "cell_type": "markdown",
   "metadata": {},
   "source": [
    "* train save"
   ]
  },
  {
   "cell_type": "code",
   "execution_count": 115,
   "metadata": {},
   "outputs": [],
   "source": [
    "df_x_train = df[df['id'].map(lambda x : x in list(x_train))]"
   ]
  },
  {
   "cell_type": "code",
   "execution_count": 116,
   "metadata": {},
   "outputs": [
    {
     "data": {
      "text/plain": [
       "4154"
      ]
     },
     "execution_count": 116,
     "metadata": {},
     "output_type": "execute_result"
    }
   ],
   "source": [
    "len(df_x_train)"
   ]
  },
  {
   "cell_type": "code",
   "execution_count": 117,
   "metadata": {},
   "outputs": [],
   "source": [
    "for idx, (label, path) in enumerate(zip(df_x_train['label'], df_x_train['url'])):\n",
    "    dcm = pydicom.dcmread(path)\n",
    "    img = dcm.pixel_array\n",
    "    save_img = Image.fromarray(img)\n",
    "    id = path.replace('.', '/').split('/')[-3]\n",
    "    label = label\n",
    "    fd_path = '/workspace/pre_dataset2/train/' + str(label)\n",
    "    img_path = fd_path + '/' + str(id) + '-' + str(idx) +'.jpg'\n",
    "    if not os.path.isdir(fd_path):\n",
    "                os.makedirs(fd_path)\n",
    "    save_img.save(img_path)"
   ]
  },
  {
   "cell_type": "markdown",
   "metadata": {},
   "source": [
    "* valid save"
   ]
  },
  {
   "cell_type": "code",
   "execution_count": 118,
   "metadata": {},
   "outputs": [],
   "source": [
    "df_x_valid = df[df['id'].map(lambda x : x in list(x_valid))]"
   ]
  },
  {
   "cell_type": "code",
   "execution_count": 119,
   "metadata": {},
   "outputs": [
    {
     "data": {
      "text/plain": [
       "909"
      ]
     },
     "execution_count": 119,
     "metadata": {},
     "output_type": "execute_result"
    }
   ],
   "source": [
    "len(df_x_valid)"
   ]
  },
  {
   "cell_type": "code",
   "execution_count": 120,
   "metadata": {},
   "outputs": [],
   "source": [
    "for idx, (label, path) in enumerate(zip(df_x_valid['label'], df_x_valid['url'])):\n",
    "    dcm = pydicom.dcmread(path)\n",
    "    img = dcm.pixel_array\n",
    "    save_img = Image.fromarray(img)\n",
    "    id = path.replace('.', '/').split('/')[-3]\n",
    "    label = label\n",
    "    fd_path = '/workspace/pre_dataset2/valid/' + str(label)\n",
    "    img_path = fd_path + '/' + str(id) + '-' + str(idx) +'.jpg'\n",
    "    if not os.path.isdir(fd_path):\n",
    "                os.makedirs(fd_path)\n",
    "    save_img.save(img_path)"
   ]
  },
  {
   "cell_type": "markdown",
   "metadata": {},
   "source": [
    "* test save"
   ]
  },
  {
   "cell_type": "code",
   "execution_count": 121,
   "metadata": {},
   "outputs": [],
   "source": [
    "df_x_test = df[df['id'].map(lambda x : x in list(x_test))]"
   ]
  },
  {
   "cell_type": "code",
   "execution_count": 122,
   "metadata": {},
   "outputs": [
    {
     "data": {
      "text/plain": [
       "819"
      ]
     },
     "execution_count": 122,
     "metadata": {},
     "output_type": "execute_result"
    }
   ],
   "source": [
    "len(df_x_test)"
   ]
  },
  {
   "cell_type": "code",
   "execution_count": 123,
   "metadata": {},
   "outputs": [],
   "source": [
    "for idx, (label, path) in enumerate(zip(df_x_test['label'], df_x_test['url'])):\n",
    "    dcm = pydicom.dcmread(path)\n",
    "    img = dcm.pixel_array\n",
    "    save_img = Image.fromarray(img)\n",
    "    id = path.replace('.', '/').split('/')[-3]\n",
    "    label = label\n",
    "    fd_path = '/workspace/pre_dataset2/test/' + str(label)\n",
    "    img_path = fd_path + '/' + str(id) + '-' + str(idx) +'.jpg'\n",
    "    if not os.path.isdir(fd_path):\n",
    "                os.makedirs(fd_path)\n",
    "    save_img.save(img_path)"
   ]
  },
  {
   "cell_type": "markdown",
   "metadata": {},
   "source": [
    "* 갯수 확인"
   ]
  },
  {
   "cell_type": "code",
   "execution_count": 124,
   "metadata": {},
   "outputs": [],
   "source": [
    "def get_files_count(folder_path):\n",
    "\tdirListing = os.listdir(folder_path)\n",
    "\treturn len(dirListing)"
   ]
  },
  {
   "cell_type": "code",
   "execution_count": 126,
   "metadata": {},
   "outputs": [],
   "source": [
    "train_0 = get_files_count('/workspace/pre_dataset2/train/0')\n",
    "train_1 = get_files_count('/workspace/pre_dataset2/train/1')\n",
    "train_2 = get_files_count('/workspace/pre_dataset2/train/2')\n",
    "train_3 = get_files_count('/workspace/pre_dataset2/train/3')"
   ]
  },
  {
   "cell_type": "code",
   "execution_count": 127,
   "metadata": {},
   "outputs": [
    {
     "name": "stdout",
     "output_type": "stream",
     "text": [
      "2418 1304 384 48\n"
     ]
    }
   ],
   "source": [
    "print(train_0, train_1, train_2, train_3)"
   ]
  },
  {
   "cell_type": "code",
   "execution_count": 128,
   "metadata": {},
   "outputs": [
    {
     "data": {
      "text/plain": [
       "4154"
      ]
     },
     "execution_count": 128,
     "metadata": {},
     "output_type": "execute_result"
    }
   ],
   "source": [
    "2418 +1304+ 384+ 48"
   ]
  },
  {
   "cell_type": "code",
   "execution_count": 129,
   "metadata": {},
   "outputs": [],
   "source": [
    "valid_0 = get_files_count('/workspace/pre_dataset2/valid/0')\n",
    "valid_1 = get_files_count('/workspace/pre_dataset2/valid/1')\n",
    "valid_2 = get_files_count('/workspace/pre_dataset2/valid/2')\n",
    "valid_3 = get_files_count('/workspace/pre_dataset2/valid/3')"
   ]
  },
  {
   "cell_type": "code",
   "execution_count": 130,
   "metadata": {},
   "outputs": [
    {
     "name": "stdout",
     "output_type": "stream",
     "text": [
      "542 276 79 12\n"
     ]
    }
   ],
   "source": [
    "print(valid_0, valid_1, valid_2, valid_3)"
   ]
  },
  {
   "cell_type": "code",
   "execution_count": 131,
   "metadata": {},
   "outputs": [
    {
     "data": {
      "text/plain": [
       "909"
      ]
     },
     "execution_count": 131,
     "metadata": {},
     "output_type": "execute_result"
    }
   ],
   "source": [
    "542 +276+ 79+ 12"
   ]
  },
  {
   "cell_type": "code",
   "execution_count": 132,
   "metadata": {},
   "outputs": [],
   "source": [
    "test_0 = get_files_count('/workspace/pre_dataset2/test/0')\n",
    "test_1 = get_files_count('/workspace/pre_dataset2/test/1')\n",
    "test_2 = get_files_count('/workspace/pre_dataset2/test/2')\n",
    "test_3 = get_files_count('/workspace/pre_dataset2/test/3')"
   ]
  },
  {
   "cell_type": "code",
   "execution_count": 133,
   "metadata": {},
   "outputs": [
    {
     "name": "stdout",
     "output_type": "stream",
     "text": [
      "428 289 85 17\n"
     ]
    }
   ],
   "source": [
    "print(test_0, test_1, test_2, test_3)"
   ]
  },
  {
   "cell_type": "code",
   "execution_count": 134,
   "metadata": {},
   "outputs": [
    {
     "data": {
      "text/plain": [
       "819"
      ]
     },
     "execution_count": 134,
     "metadata": {},
     "output_type": "execute_result"
    }
   ],
   "source": [
    "428 +289+ 85+ 17"
   ]
  },
  {
   "cell_type": "code",
   "execution_count": 135,
   "metadata": {},
   "outputs": [
    {
     "data": {
      "text/plain": [
       "5741"
      ]
     },
     "execution_count": 135,
     "metadata": {},
     "output_type": "execute_result"
    }
   ],
   "source": [
    "4019 + 873 + 849"
   ]
  },
  {
   "cell_type": "markdown",
   "metadata": {},
   "source": [
    "→ 갯수 이슈 없음"
   ]
  }
 ],
 "metadata": {
  "kernelspec": {
   "display_name": "Python 3 (ipykernel)",
   "language": "python",
   "name": "python3"
  },
  "language_info": {
   "codemirror_mode": {
    "name": "ipython",
    "version": 3
   },
   "file_extension": ".py",
   "mimetype": "text/x-python",
   "name": "python",
   "nbconvert_exporter": "python",
   "pygments_lexer": "ipython3",
   "version": "3.8.10"
  },
  "orig_nbformat": 4,
  "vscode": {
   "interpreter": {
    "hash": "31f2aee4e71d21fbe5cf8b01ff0e069b9275f58929596ceb00d14d90e3e16cd6"
   }
  }
 },
 "nbformat": 4,
 "nbformat_minor": 2
}

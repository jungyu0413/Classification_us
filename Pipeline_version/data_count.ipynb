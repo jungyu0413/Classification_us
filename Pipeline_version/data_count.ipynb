{
 "cells": [
  {
   "cell_type": "code",
   "execution_count": 1,
   "metadata": {},
   "outputs": [],
   "source": [
    "import os"
   ]
  },
  {
   "attachments": {},
   "cell_type": "markdown",
   "metadata": {},
   "source": [
    "* train"
   ]
  },
  {
   "cell_type": "code",
   "execution_count": 18,
   "metadata": {},
   "outputs": [
    {
     "data": {
      "text/plain": [
       "276"
      ]
     },
     "execution_count": 18,
     "metadata": {},
     "output_type": "execute_result"
    }
   ],
   "source": [
    "img_path = '/workspace/yolo_RoI/train/0'\n",
    "url_lt = []\n",
    "for top, _, f in os.walk(img_path):\n",
    "    # img_path에 접근하여 폴더별로 이미지에 접근한다.\n",
    "    # top은 img_path/세부경로\n",
    "    # f는 환자별 image file 이름\n",
    "    for ix, filename in enumerate(f):\n",
    "        url_lt.append(filename)\n",
    "ct = []\n",
    "for i in url_lt:\n",
    "    ct.append(i.split('-')[0])\n",
    "len(set(ct))"
   ]
  },
  {
   "cell_type": "code",
   "execution_count": 19,
   "metadata": {},
   "outputs": [
    {
     "data": {
      "text/plain": [
       "151"
      ]
     },
     "execution_count": 19,
     "metadata": {},
     "output_type": "execute_result"
    }
   ],
   "source": [
    "img_path = '/workspace/yolo_RoI/train/1'\n",
    "url_lt = []\n",
    "for top, _, f in os.walk(img_path):\n",
    "    # img_path에 접근하여 폴더별로 이미지에 접근한다.\n",
    "    # top은 img_path/세부경로\n",
    "    # f는 환자별 image file 이름\n",
    "    for ix, filename in enumerate(f):\n",
    "        url_lt.append(filename)\n",
    "ct = []\n",
    "for i in url_lt:\n",
    "    ct.append(i.split('-')[0])\n",
    "len(set(ct))"
   ]
  },
  {
   "cell_type": "code",
   "execution_count": 20,
   "metadata": {},
   "outputs": [
    {
     "data": {
      "text/plain": [
       "32"
      ]
     },
     "execution_count": 20,
     "metadata": {},
     "output_type": "execute_result"
    }
   ],
   "source": [
    "img_path = '/workspace/yolo_RoI/train/2'\n",
    "url_lt = []\n",
    "for top, _, f in os.walk(img_path):\n",
    "    # img_path에 접근하여 폴더별로 이미지에 접근한다.\n",
    "    # top은 img_path/세부경로\n",
    "    # f는 환자별 image file 이름\n",
    "    for ix, filename in enumerate(f):\n",
    "        url_lt.append(filename)\n",
    "ct = []\n",
    "for i in url_lt:\n",
    "    ct.append(i.split('-')[0])\n",
    "len(set(ct))"
   ]
  },
  {
   "cell_type": "code",
   "execution_count": 21,
   "metadata": {},
   "outputs": [
    {
     "data": {
      "text/plain": [
       "10"
      ]
     },
     "execution_count": 21,
     "metadata": {},
     "output_type": "execute_result"
    }
   ],
   "source": [
    "img_path = '/workspace/yolo_RoI/train/3'\n",
    "url_lt = []\n",
    "for top, _, f in os.walk(img_path):\n",
    "    # img_path에 접근하여 폴더별로 이미지에 접근한다.\n",
    "    # top은 img_path/세부경로\n",
    "    # f는 환자별 image file 이름\n",
    "    for ix, filename in enumerate(f):\n",
    "        url_lt.append(filename)\n",
    "ct = []\n",
    "for i in url_lt:\n",
    "    ct.append(i.split('-')[0])\n",
    "len(set(ct))"
   ]
  },
  {
   "attachments": {},
   "cell_type": "markdown",
   "metadata": {},
   "source": [
    "* tune"
   ]
  },
  {
   "cell_type": "code",
   "execution_count": 22,
   "metadata": {},
   "outputs": [
    {
     "data": {
      "text/plain": [
       "59"
      ]
     },
     "execution_count": 22,
     "metadata": {},
     "output_type": "execute_result"
    }
   ],
   "source": [
    "img_path = '/workspace/yolo_RoI/valid/0'\n",
    "url_lt = []\n",
    "for top, _, f in os.walk(img_path):\n",
    "    # img_path에 접근하여 폴더별로 이미지에 접근한다.\n",
    "    # top은 img_path/세부경로\n",
    "    # f는 환자별 image file 이름\n",
    "    for ix, filename in enumerate(f):\n",
    "        url_lt.append(filename)\n",
    "ct = []\n",
    "for i in url_lt:\n",
    "    ct.append(i.split('-')[0])\n",
    "len(set(ct))"
   ]
  },
  {
   "cell_type": "code",
   "execution_count": 23,
   "metadata": {},
   "outputs": [
    {
     "data": {
      "text/plain": [
       "31"
      ]
     },
     "execution_count": 23,
     "metadata": {},
     "output_type": "execute_result"
    }
   ],
   "source": [
    "img_path = '/workspace/yolo_RoI/valid/1'\n",
    "url_lt = []\n",
    "for top, _, f in os.walk(img_path):\n",
    "    # img_path에 접근하여 폴더별로 이미지에 접근한다.\n",
    "    # top은 img_path/세부경로\n",
    "    # f는 환자별 image file 이름\n",
    "    for ix, filename in enumerate(f):\n",
    "        url_lt.append(filename)\n",
    "ct = []\n",
    "for i in url_lt:\n",
    "    ct.append(i.split('-')[0])\n",
    "len(set(ct))"
   ]
  },
  {
   "cell_type": "code",
   "execution_count": 24,
   "metadata": {},
   "outputs": [
    {
     "data": {
      "text/plain": [
       "7"
      ]
     },
     "execution_count": 24,
     "metadata": {},
     "output_type": "execute_result"
    }
   ],
   "source": [
    "img_path = '/workspace/yolo_RoI/valid/2'\n",
    "url_lt = []\n",
    "for top, _, f in os.walk(img_path):\n",
    "    # img_path에 접근하여 폴더별로 이미지에 접근한다.\n",
    "    # top은 img_path/세부경로\n",
    "    # f는 환자별 image file 이름\n",
    "    for ix, filename in enumerate(f):\n",
    "        url_lt.append(filename)\n",
    "ct = []\n",
    "for i in url_lt:\n",
    "    ct.append(i.split('-')[0])\n",
    "len(set(ct))"
   ]
  },
  {
   "cell_type": "code",
   "execution_count": 25,
   "metadata": {},
   "outputs": [
    {
     "data": {
      "text/plain": [
       "2"
      ]
     },
     "execution_count": 25,
     "metadata": {},
     "output_type": "execute_result"
    }
   ],
   "source": [
    "img_path = '/workspace/yolo_RoI/valid/3'\n",
    "url_lt = []\n",
    "for top, _, f in os.walk(img_path):\n",
    "    # img_path에 접근하여 폴더별로 이미지에 접근한다.\n",
    "    # top은 img_path/세부경로\n",
    "    # f는 환자별 image file 이름\n",
    "    for ix, filename in enumerate(f):\n",
    "        url_lt.append(filename)\n",
    "ct = []\n",
    "for i in url_lt:\n",
    "    ct.append(i.split('-')[0])\n",
    "len(set(ct))"
   ]
  },
  {
   "attachments": {},
   "cell_type": "markdown",
   "metadata": {},
   "source": [
    "* test"
   ]
  },
  {
   "cell_type": "code",
   "execution_count": 26,
   "metadata": {},
   "outputs": [
    {
     "data": {
      "text/plain": [
       "60"
      ]
     },
     "execution_count": 26,
     "metadata": {},
     "output_type": "execute_result"
    }
   ],
   "source": [
    "img_path = '/workspace/yolo_RoI/test/0'\n",
    "url_lt = []\n",
    "for top, _, f in os.walk(img_path):\n",
    "    # img_path에 접근하여 폴더별로 이미지에 접근한다.\n",
    "    # top은 img_path/세부경로\n",
    "    # f는 환자별 image file 이름\n",
    "    for ix, filename in enumerate(f):\n",
    "        url_lt.append(filename)\n",
    "ct = []\n",
    "for i in url_lt:\n",
    "    ct.append(i.split('-')[0])\n",
    "len(set(ct))"
   ]
  },
  {
   "cell_type": "code",
   "execution_count": 27,
   "metadata": {},
   "outputs": [
    {
     "data": {
      "text/plain": [
       "32"
      ]
     },
     "execution_count": 27,
     "metadata": {},
     "output_type": "execute_result"
    }
   ],
   "source": [
    "img_path = '/workspace/yolo_RoI/test/1'\n",
    "url_lt = []\n",
    "for top, _, f in os.walk(img_path):\n",
    "    # img_path에 접근하여 폴더별로 이미지에 접근한다.\n",
    "    # top은 img_path/세부경로\n",
    "    # f는 환자별 image file 이름\n",
    "    for ix, filename in enumerate(f):\n",
    "        url_lt.append(filename)\n",
    "ct = []\n",
    "for i in url_lt:\n",
    "    ct.append(i.split('-')[0])\n",
    "len(set(ct))"
   ]
  },
  {
   "cell_type": "code",
   "execution_count": 28,
   "metadata": {},
   "outputs": [
    {
     "data": {
      "text/plain": [
       "6"
      ]
     },
     "execution_count": 28,
     "metadata": {},
     "output_type": "execute_result"
    }
   ],
   "source": [
    "img_path = '/workspace/yolo_RoI/test/2'\n",
    "url_lt = []\n",
    "for top, _, f in os.walk(img_path):\n",
    "    # img_path에 접근하여 폴더별로 이미지에 접근한다.\n",
    "    # top은 img_path/세부경로\n",
    "    # f는 환자별 image file 이름\n",
    "    for ix, filename in enumerate(f):\n",
    "        url_lt.append(filename)\n",
    "ct = []\n",
    "for i in url_lt:\n",
    "    ct.append(i.split('-')[0])\n",
    "len(set(ct))"
   ]
  },
  {
   "cell_type": "code",
   "execution_count": 29,
   "metadata": {},
   "outputs": [
    {
     "data": {
      "text/plain": [
       "2"
      ]
     },
     "execution_count": 29,
     "metadata": {},
     "output_type": "execute_result"
    }
   ],
   "source": [
    "img_path = '/workspace/yolo_RoI/test/3'\n",
    "url_lt = []\n",
    "for top, _, f in os.walk(img_path):\n",
    "    # img_path에 접근하여 폴더별로 이미지에 접근한다.\n",
    "    # top은 img_path/세부경로\n",
    "    # f는 환자별 image file 이름\n",
    "    for ix, filename in enumerate(f):\n",
    "        url_lt.append(filename)\n",
    "ct = []\n",
    "for i in url_lt:\n",
    "    ct.append(i.split('-')[0])\n",
    "len(set(ct))"
   ]
  }
 ],
 "metadata": {
  "kernelspec": {
   "display_name": "Python 3.8.10 64-bit",
   "language": "python",
   "name": "python3"
  },
  "language_info": {
   "codemirror_mode": {
    "name": "ipython",
    "version": 3
   },
   "file_extension": ".py",
   "mimetype": "text/x-python",
   "name": "python",
   "nbconvert_exporter": "python",
   "pygments_lexer": "ipython3",
   "version": "3.8.10 (default, Mar 15 2022, 12:22:08) \n[GCC 9.4.0]"
  },
  "orig_nbformat": 4,
  "vscode": {
   "interpreter": {
    "hash": "916dbcbb3f70747c44a77c7bcd40155683ae19c65e1c03b4aa3499c5328201f1"
   }
  }
 },
 "nbformat": 4,
 "nbformat_minor": 2
}
